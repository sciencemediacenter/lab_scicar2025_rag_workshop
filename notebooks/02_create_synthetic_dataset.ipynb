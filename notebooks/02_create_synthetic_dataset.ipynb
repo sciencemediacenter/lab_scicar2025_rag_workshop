{
 "cells": [
  {
   "cell_type": "code",
   "execution_count": 1,
   "metadata": {},
   "outputs": [
    {
     "name": "stdout",
     "output_type": "stream",
     "text": [
      "API Keys retrieved successfully\n"
     ]
    }
   ],
   "source": [
    "# Imports & keys \n",
    "\n",
    "import os\n",
    "from dotenv import load_dotenv\n",
    "import glob\n",
    "from langchain_anthropic import ChatAnthropic\n",
    "\n",
    "os.chdir(\"/workspace\")\n",
    "\n",
    "# initialize API keys\n",
    "load_dotenv()\n",
    "openai_api_key = os.getenv('OPENAI_API_KEY')\n",
    "\n",
    "if openai_api_key:\n",
    "    print(f\"API Keys retrieved successfully\")\n",
    "else:\n",
    "    print(\"API Keys not found\")"
   ]
  },
  {
   "cell_type": "markdown",
   "metadata": {},
   "source": [
    "## Grundidee der Datensynthese\n",
    "\n",
    "Ausgangspunkt ist erneut die Knowledge-Base – also eine Sammlung von ausgewählten Artikeln.<br>\n",
    "<br>\n",
    "• Schritt 1: **Chunking**: Analog zum RAG-Ablauf splitten wir die Texte zunächst mit einem TextSplitter in einzelne Abschnitte (chunks).<br>\n",
    "<br>\n",
    "• Schritt 2: **Zufallssample**: Wir wählen ein zufälligen chunk als Startpunkt aus.<br>\n",
    "<br>\n",
    "• Schritt 3: **Kontextgeneration**: Per Cosine-Similarity suchen wir die semantisch ähnlichsten Nachbar-Chunks und fügen sie zu einem gemeinsamen Kontext zusammen. <br>\n",
    "<br>\n",
    "• Schritt 4: **Fragegenerierung**: Ein Query-Generator formuliert auf Basis dieses Kontexts passende Nutzerfragen – also die umgekehrte Logik zum Retrieving in RAG. <br>"
   ]
  },
  {
   "cell_type": "markdown",
   "metadata": {},
   "source": [
    "der gründsätzliche aufbau: grundwahrheit ist erneut unsere knowledge base (also unsere Dokumentensammlung), ähnlich wie beim RAG Prozess auch, werden die Dokumente mittels text splitter gechunkt, also in kleinere Abschnitt aufgeteitl, eine dieser chunks wird zufällig ausgewählt. Dann wird aus diesem chunk ein context generierte, indem via cosine similarity geguckt wird, welche anderen chunks die größte semantische überlappunt mit dem ersten chunk haben. \n",
    "\n",
    "Diese Sammlung aus semantisch ähnlichen chunks bildet dann den Context, und basieren aus diesem Kontext werden dann die Fragen generiert, in einer Art umgekehrten Logik. Statt zu mittels retriever gucken, welche chunks zu der gestellten Frage passen, wird mittels query generator geguckt, welche Fragen zu den gebildeten chunks passen.\n",
    "\n",
    "Man kann mit deepeval den ganzen Prozess noch sehr viel feiner anpassen, z.B. kann man aussuchen, wie viele chunks pro Dokument extrahiert werden sollen, man kann bestimmen aus wie vielen chunks der Kontext generiert sein soll, man kann auch festlegen, wie ähnlich sich die chunks überhaupt sein sollen, um zu einem gemeinsamen Kontext festgelegt zu werden, man kann auch einstellen, wie die Ähnlichkeit zwischen den chunks überhaupt berechnet werden soll. Auch kann man das post-filtern genauer einstellen, also die Qualitätskontrolle nach der initialen Generierung.\n",
    "\n",
    "All diese Parameter sollte man sich gut überlegen und an den eigenen Bedarf anpassen, aber der Einfachheithalber, werden wir jetzt erstmal nur die default Einstellungen übernehmen. \n",
    "Bis auf die chunking Einstellungen, also der 1. Schritt wo die Dokumente gechunkt, also in Abschnitte aufgesplittet werden. Grund: die chunking Angaben, also chunking size und chunking overlap sollten ungefähr so sein, wie beim RAG System auch.\n",
    "\n",
    "Quellen und mehr Doku:\n",
    "https://www.confident-ai.com/blog/the-definitive-guide-to-synthetic-data-generation-using-llms"
   ]
  },
  {
   "cell_type": "markdown",
   "metadata": {},
   "source": [
    "das einzige was wir festlegen sind die styling optionen, hier kann man ganz simpel mit natürlicher sprache beschreiben, wie die fragen aussehen sollen, wie die antworten aussehen sollen, was die aufgabe des systems welches man testen will sein soll, und das szenario in dem dieses system genutzt wird. außerdem lege ich noch das Sprachmodell fest, weil das default modell relativ teuer ist"
   ]
  },
  {
   "cell_type": "markdown",
   "metadata": {},
   "source": [
    "## Finetuning-Parameter\n",
    "\n",
    "Grundsätzlich erlaubt das *deepeval* package sehr feines Tuning. Man kann z.B. festlegen:\n",
    "<br>\n",
    "<br>\n",
    "• Wie viele chunks sollen pro Dokument extrahiert werden?\n",
    "<br>\n",
    "<br>\n",
    "• Aus wie vielen chunks soll ein Kontext generiert werden?\n",
    "<br>\n",
    "<br>\n",
    "• Wie soll die Ähnlichkeit zwischen chunks ermittelt werden?\n",
    "<br>\n",
    "<br>\n",
    "• Wie genau soll das Post-Filtering stattfinden?\n",
    "<br>\n",
    "<br>\n",
    "Für diese Demo übernehmen wir die default Einstellungen, mit einer Ausnahme:<br>\n",
    "Für die chunk_size und den chunk_overlap (also wie klein sollen wie Abschnitte sein und wie sehr sollen sie sich überlappen) nehmen wir dieselben Werte, die wir auch im RAG-System verwendet haben. Damit wird sichergestellt, dass die Test- und Produktions­pipeline gleich sind. Außerdem wählen wir ein günstiges und schnelles LLM für die Fragengenerierung aus."
   ]
  },
  {
   "cell_type": "code",
   "execution_count": 2,
   "metadata": {},
   "outputs": [],
   "source": [
    "from deepeval.synthesizer import Synthesizer\n",
    "from deepeval.synthesizer.config import StylingConfig, ContextConstructionConfig\n",
    "\n",
    "# define the styling and context construction configurations using natural language\n",
    "styling_config = StylingConfig(\n",
    "    input_format=(\n",
    "        \"Natural, conversational questions in German that use everyday language rather than technical terminology.\" \n",
    "        \"Questions should use paraphrases and pronouns, and occasionally contain mild irrelevant details.\" \n",
    "        \"Each question addresses exactly one scientific aspect.\",\n",
    "    )\n",
    "    expected_output_format=\n",
    "        \"Concise answers in German, clearly structured citing evidence.\",\n",
    "    task=\n",
    "        \"Answering focused scientific, non-trivial queries that address specific aspects of medical, climate, environment, or technology topics.\",\n",
    "    scenario=\n",
    "        \"Science journalists, scientists, or curious non-experts seeking precise informationon a specific scientific topic they've encountered.\",\n",
    ")\n",
    "\n",
    "# we use a cheap and fast llm\n",
    "synthesizer = Synthesizer(\n",
    "    model=\"gpt-4o-mini\",\n",
    "    styling_config=styling_config\n",
    ")"
   ]
  },
  {
   "cell_type": "code",
   "execution_count": null,
   "metadata": {},
   "outputs": [
    {
     "data": {
      "text/html": [
       "<pre style=\"white-space:pre;overflow-x:auto;line-height:normal;font-family:Menlo,'DejaVu Sans Mono',consolas,'Courier New',monospace\">/usr/local/lib/python3.11/site-packages/rich/live.py:231: UserWarning: install \"ipywidgets\" for Jupyter support\n",
       "  warnings.warn('install \"ipywidgets\" for Jupyter support')\n",
       "</pre>\n"
      ],
      "text/plain": [
       "/usr/local/lib/python3.11/site-packages/rich/live.py:231: UserWarning: install \"ipywidgets\" for Jupyter support\n",
       "  warnings.warn('install \"ipywidgets\" for Jupyter support')\n"
      ]
     },
     "metadata": {},
     "output_type": "display_data"
    },
    {
     "data": {
      "text/html": [
       "<pre style=\"white-space:pre;overflow-x:auto;line-height:normal;font-family:Menlo,'DejaVu Sans Mono',consolas,'Courier New',monospace\"><span style=\"color: #7f7f7f; text-decoration-color: #7f7f7f\">[Confident AI Synthesizer Log]</span> SUCCESS: <span style=\"color: #008000; text-decoration-color: #008000\">Successfully deleted</span>: .vector_db\n",
       "</pre>\n"
      ],
      "text/plain": [
       "\u001b[2m[Confident AI Synthesizer Log]\u001b[0m SUCCESS: \u001b[32mSuccessfully deleted\u001b[0m: .vector_db\n"
      ]
     },
     "metadata": {},
     "output_type": "display_data"
    },
    {
     "data": {
      "text/html": [
       "<pre style=\"white-space:pre;overflow-x:auto;line-height:normal;font-family:Menlo,'DejaVu Sans Mono',consolas,'Courier New',monospace\"><span style=\"color: #7f7f7f; text-decoration-color: #7f7f7f\">[Confident AI Synthesizer Log]</span> SUCCESS: <span style=\"color: #008000; text-decoration-color: #008000\">Context Construction</span>: Utilizing 29 out of 92 chunks.\n",
       "</pre>\n"
      ],
      "text/plain": [
       "\u001b[2m[Confident AI Synthesizer Log]\u001b[0m SUCCESS: \u001b[32mContext Construction\u001b[0m: Utilizing 29 out of 92 chunks.\n"
      ]
     },
     "metadata": {},
     "output_type": "display_data"
    },
    {
     "data": {
      "text/html": [
       "<pre style=\"white-space:pre;overflow-x:auto;line-height:normal;font-family:Menlo,'DejaVu Sans Mono',consolas,'Courier New',monospace\"></pre>\n"
      ],
      "text/plain": []
     },
     "metadata": {},
     "output_type": "display_data"
    },
    {
     "data": {
      "text/plain": [
       "[Golden(input='Was sind die besonderen Wirkmechanismen und Nebenwirkungen von KarXT, die es von herkömmlichen Antipsychotika unterscheiden? Gibt es da etwas, das man wissen sollte?', actual_output=None, expected_output='KarXT unterscheidet sich von traditionellen Antipsychotika durch seinen speziellen Wirkmechanismus, der auf M1/M4 muskarineren Agonisten basiert. Dieser Mechanismus reduziert die präsynaptische Dopaminausschüttung, was zu einer anderen Wirkung im Vergleich zu bisherigen Antipsychotika führt, die postsynaptische Dopaminrezeptoren blockieren. Ein weiterer Vorteil ist, dass KarXT im Gegensatz zu vielen herkömmlichen Antipsychotika nicht zu Gewichtszunahme sondern eher zu Gewichtsabnahme führt.\\n\\nNebenwirkungen wie Übelkeit und gastrointestinale Beschwerden wurden beobachtet, jedoch sollten sie moderat sein, wie die EMERGENT-Studien gezeigt haben. Diese neuen Ansätze könnten helfen, Patienten, die herkömmliche Antipsychotika nicht vertragen, signifikant zu unterstützen.', context=['ikamentes noch relativ umständlich ist: Es muss zweimal am Tag genommen werden, wobei vorher eine Stunden lang und nachher zwei Stunden lang nichts gegessen werden darf. Hier ist allerdings zu beachten, dass dies das erste Medikament dieser neuen Substanzklasse der muskarinergen Agonisten ist und nachfolgende Medikamente diese Nachteile höchst wahrscheinlich überwinden werden.“\\n„Am Ende ist KarXT kein perfektes Medikament, aber es ist ein vielversprechender Anfang für einen neuen Medikamentenansatz, um Schizophrenie und in der Zukunft auch andere psychotische Störungen zu behandeln, die mit zu viel präsynaptischer Dopaminausschüttung zu tun haben. Ich vermute, dass KarXT häufig zusätzlich zu bisherigen Antipsychotika verschrieben werden wird, was gerade auch in einer Studie getestet wird, und gerade Patientinnen und Patienten, die die bisherigen Antipsychotika nicht vertragen, stark helfen wird.“\\n\\n', 'urchgeführt werden, um wirklich die Wirksamkeit im Vergleich zu anderen Antipsychotika zu prüfen. Die Nebenwirkungen, wie Übelkeit und weitere gastrointestinale Beschwerden werden auftreten, wie die EMERGENT-Studien gegen ein Placebo-Präparat gezeigt haben. Die sollten moderat sein, was aber die Anwendung in der Versorgungsrealität zeigen soll und hoffentlich wird.“\\n\\nProf. Dr. Christoph Correll\\nDirektor der Klinik für Psychiatrie, Psychosomatik und Psychotherapie des Kindes- und Jugendalters, Charité – Universitätsmedizin Berlin, und Professor für psychiatrische Neurowissenschaften, Institute of Behavioral Science, Feinstein Institutes for Medical Research, New York, USA, und Professor für Psychiatrie und Molekulare Medizin, Donald and Barbara Zucker School of Medicine at Hofstra/Northwell, New York, USA\\n\\nPotenzial von KarXT: \\n„Das Medikament KarXT ist meiner Einschätzung nach eine Möglichkeit, die Therapie von Psychosen und Schizophrenie für wenigstens einige Patient:innen zu revolutionieren. Das liegt an dem besonderen Wirkmechanismus von Xanomelin, einem M1/M4 muscarinergen Agonisten, der mit Trospium, einem peripher beschränkten Anticholiergikum kombiniert ist und über die Wirkung auf Muskarinrezeptoren indirekt die präsynaptische Dopaminausschüttung reduziert. Bisherige Antipsychotika blockieren postsynaptische Dopaminrezeptoren. Dopamin wird also ausgeschüttet, das Signal breitet sich jedoch nicht auf die weiteren Synapsen aus. Ein präsynaptisches Problem wurde', 'anz neuen Wirkmechanismus zur Behandlung von Schizophrenie verwendet. Die meisten Antipsychotika wirken auf das dopaminerge System, wodurch nicht selten Nebenwirkungen in der Motorik wie verlangsamte oder auch unwillkürliche Bewegungen auftreten. Außerdem scheint KarXT im Gegensatz zu vielen Antipsychotika nicht zu einer Gewichtszunahme, sondern viel mehr zu einer Gewichtsabnahme zu führen.“\\n„Zudem ist es prinzipiell gut, wenn Behandelnde aus einem breiten Spektrum an guten Medikamenten zur Behandlung der Patienten wählen können. Je nach Person und Krankheitsbild können unterschiedliche Medikamente besser passen. Dies ist seit einigen Jahrzehnten der erste neue Ansatz für ein Schizophrenie-Medikament mit einer offenbar guten Wirksamkeit und anderen Nebenwirkungen. Ob KarXT die bisherigen Medikamente ablösen könnte, wissen wir noch nicht, dafür braucht es die entsprechenden Studien. Ein weiteres Medikament zur Behandlung von Schizophrenie, das ebenfalls vielversprechend aussieht, ist Emraclidine, welches auch auf dem muskarinergen Wirkmechanismus basiert.“\\n\\nDatenlage: \\n„Im Rahmen des Studienprojektes EMERGENT wurde die Wirkung von KarXT in fünf verschiedenen Trials untersucht. Sowohl für einen Zeitraum von fünf Wochen als auch von einem Jahr. Die Ein-Jahres-Daten wurden bislang noch nicht publizi'], retrieval_context=None, additional_metadata={'evolutions': ['Multi-context'], 'synthetic_input_quality': 0.8}, comments=None, tools_called=None, expected_tools=None, source_file='data/example_data/10_Copernicus-Report_ 2024 war 1_6 Grad wärmer als vo.txt', name=None, custom_column_key_values=None),\n",
       " Golden(input='Wie beeinflusst KarXT das Gewicht im Vergleich zu anderen Antipsychotika, die zur Behandlung von Schizophrenie eingesetzt werden? Gibt es Unterschiede, die man beachten sollte?', actual_output=None, expected_output='KarXT führt im Vergleich zu vielen anderen Antipsychotika nicht zu einer Gewichtszunahme, sondern scheint eher eine Gewichtsabnahme zu bewirken. Dies ist ein signifikanter Unterschied, da zahlreiche herkömmliche Antipsychotika oft motorische Nebenwirkungen und Gewichtszunahme verursachen. Der besondere Wirkmechanismus von KarXT, der auf präsynaptischer Dopaminausschüttung basiert, könnte dies erklären. Eine umfassende Datenlage zur Wirksamkeit im Vergleich zu anderen Antipsychotika fehlt jedoch noch, da entsprechende Studien abgeschlossen werden müssen.', context=['ikamentes noch relativ umständlich ist: Es muss zweimal am Tag genommen werden, wobei vorher eine Stunden lang und nachher zwei Stunden lang nichts gegessen werden darf. Hier ist allerdings zu beachten, dass dies das erste Medikament dieser neuen Substanzklasse der muskarinergen Agonisten ist und nachfolgende Medikamente diese Nachteile höchst wahrscheinlich überwinden werden.“\\n„Am Ende ist KarXT kein perfektes Medikament, aber es ist ein vielversprechender Anfang für einen neuen Medikamentenansatz, um Schizophrenie und in der Zukunft auch andere psychotische Störungen zu behandeln, die mit zu viel präsynaptischer Dopaminausschüttung zu tun haben. Ich vermute, dass KarXT häufig zusätzlich zu bisherigen Antipsychotika verschrieben werden wird, was gerade auch in einer Studie getestet wird, und gerade Patientinnen und Patienten, die die bisherigen Antipsychotika nicht vertragen, stark helfen wird.“\\n\\n', 'urchgeführt werden, um wirklich die Wirksamkeit im Vergleich zu anderen Antipsychotika zu prüfen. Die Nebenwirkungen, wie Übelkeit und weitere gastrointestinale Beschwerden werden auftreten, wie die EMERGENT-Studien gegen ein Placebo-Präparat gezeigt haben. Die sollten moderat sein, was aber die Anwendung in der Versorgungsrealität zeigen soll und hoffentlich wird.“\\n\\nProf. Dr. Christoph Correll\\nDirektor der Klinik für Psychiatrie, Psychosomatik und Psychotherapie des Kindes- und Jugendalters, Charité – Universitätsmedizin Berlin, und Professor für psychiatrische Neurowissenschaften, Institute of Behavioral Science, Feinstein Institutes for Medical Research, New York, USA, und Professor für Psychiatrie und Molekulare Medizin, Donald and Barbara Zucker School of Medicine at Hofstra/Northwell, New York, USA\\n\\nPotenzial von KarXT: \\n„Das Medikament KarXT ist meiner Einschätzung nach eine Möglichkeit, die Therapie von Psychosen und Schizophrenie für wenigstens einige Patient:innen zu revolutionieren. Das liegt an dem besonderen Wirkmechanismus von Xanomelin, einem M1/M4 muscarinergen Agonisten, der mit Trospium, einem peripher beschränkten Anticholiergikum kombiniert ist und über die Wirkung auf Muskarinrezeptoren indirekt die präsynaptische Dopaminausschüttung reduziert. Bisherige Antipsychotika blockieren postsynaptische Dopaminrezeptoren. Dopamin wird also ausgeschüttet, das Signal breitet sich jedoch nicht auf die weiteren Synapsen aus. Ein präsynaptisches Problem wurde', 'anz neuen Wirkmechanismus zur Behandlung von Schizophrenie verwendet. Die meisten Antipsychotika wirken auf das dopaminerge System, wodurch nicht selten Nebenwirkungen in der Motorik wie verlangsamte oder auch unwillkürliche Bewegungen auftreten. Außerdem scheint KarXT im Gegensatz zu vielen Antipsychotika nicht zu einer Gewichtszunahme, sondern viel mehr zu einer Gewichtsabnahme zu führen.“\\n„Zudem ist es prinzipiell gut, wenn Behandelnde aus einem breiten Spektrum an guten Medikamenten zur Behandlung der Patienten wählen können. Je nach Person und Krankheitsbild können unterschiedliche Medikamente besser passen. Dies ist seit einigen Jahrzehnten der erste neue Ansatz für ein Schizophrenie-Medikament mit einer offenbar guten Wirksamkeit und anderen Nebenwirkungen. Ob KarXT die bisherigen Medikamente ablösen könnte, wissen wir noch nicht, dafür braucht es die entsprechenden Studien. Ein weiteres Medikament zur Behandlung von Schizophrenie, das ebenfalls vielversprechend aussieht, ist Emraclidine, welches auch auf dem muskarinergen Wirkmechanismus basiert.“\\n\\nDatenlage: \\n„Im Rahmen des Studienprojektes EMERGENT wurde die Wirkung von KarXT in fünf verschiedenen Trials untersucht. Sowohl für einen Zeitraum von fünf Wochen als auch von einem Jahr. Die Ein-Jahres-Daten wurden bislang noch nicht publizi'], retrieval_context=None, additional_metadata={'evolutions': ['In-Breadth'], 'synthetic_input_quality': 0.8}, comments=None, tools_called=None, expected_tools=None, source_file='data/example_data/10_Copernicus-Report_ 2024 war 1_6 Grad wärmer als vo.txt', name=None, custom_column_key_values=None),\n",
       " Golden(input='Wie wirkt sich Künstliche Intelligenz auf die Entwicklung von Proteinen aus, die in der modernen Medizin verwendet werden? Gibt es spezielle Anwendungen, die besonders davon profitieren?', actual_output=None, expected_output='Künstliche Intelligenz hat erheblichen Einfluss auf die Entwicklung von Proteinen in der modernen Medizin. \\n\\n1. **Evo und die Design von Proteinen**: Das KI-Modell Evo ermöglicht es, neue funktionale Proteine direkt zu entwerfen, indem es nützliche biologische Funktionen in DNA-Sequenzen umsetzt. Dadurch wird der Prozess der Entwicklung biotechnologischer Produktionsstämme und therapeutischer Proteine erheblich beschleunigt. \\n\\n2. **Verbesserte Werkzeuge**: Evo kann dabei helfen, verbesserte Versionen von CRISPR-Genscheren zu entwickeln und zu prognostizieren, wie Mutationen die Überlebensfähigkeit eines Organismus beeinflussen können. Solche Anwendungen könnten zu einem besseren Verständnis unterforschter Krankheiten führen.\\n\\n3. **Wachstumspotential**: Obwohl KI-Vorhersagen noch nicht immer präzise sind, wird der Designprozess in den kommenden Jahren weiter optimiert, was die Möglichkeit eröffnet, komplexe biologische Systeme bis hin zu neuen Organismen zu konstruieren. \\n\\nZusammengefasst verbessert KI die Effizienz und Innovationskraft in der Proteinentwicklung, was essentielle Anwendungen in der Medizin unterstützt.', context=['liche Gemeinschaft muss kontinuierlich an der Entwicklung von Sicherheitsmaßnahmen arbeiten, während diese Technologie sich weiterentwickelt.“\\n\\nProf. Dr. Beat Christen\\nDirektor des Instituts für Mikrobiologie, Universität Stuttgart\\n\\n„Vor 40 Jahren leitete die erste DNA-Klonierung durch Paul Berg und Stanley Cohen das Zeitalter der Molekularen Biologie ein. Erstmals konnten natürliche DNA-Stränge in Wirtszellen eingeschleust werden, um Organismen gezielt mit nützlichen Eigenschaften auszustatten. Heute findet durch die Anwendung der Künstlichen Intelligenz in der Biologie ein weiterer Quantensprung statt: Computer-Algorithmen lernen das Neuschreiben von DNA-Sequenzen und ermöglichen es, den Bauplan von Organismen von Grund auf neu zu gestalten. Damit tritt die Biologie in das neue Zeitalter der Digitalen Biologie ein.“\\n„In Kalifornien hat nun eine Gruppe von Forscher:innen eine Künstliche Intelligenz mit DNA-Datensätzen von Millionen Bakterien trainiert. Das neue KI-Modell namens Evo lernte dabei die Sprache und Grammatik der DNA und ermöglicht, nützliche biologische Funktionen direkt in künstliche DNA-Sequenzen umzusetzen. Die Arbeit wurde im renommierten Wissenschaftsjournal ‚Science‘ veröffentlicht.“\\n\\nEinordnung in die Forschungslandschaft: \\n„Evo markiert einen Paradigmenwechsel in der Biotechnologie. Bislang wurden Produktionsstämme aufwändig �', '. Bislang wurden Produktionsstämme aufwändig über klassische DNA-Klonierungsmethoden hergestellt, was viel Fachwissen und manuelle Arbeitsschritte im Labor erforderte. Dabei wurden natürliche DNA-Stränge kombiniert und zusammengeführt.“\\n„Die KI übersetzt nun direkt nützliche biologische Funktionen in die Sprache der DNA. Im digitalen Raum entstehen neue DNA-Sequenzen, die anschließend durch chemische DNA-Synthese physisch hergestellt und in Zellen eingeschleust werden können. Dieser Ansatz der Digitalen Biologie beschleunigt die Entwicklung biotechnologischer Produktionsstämme oder therapeutischer Proteine für medizinische Anwendungen enorm.“\\n\\nNeue Möglichkeiten für die Forschung: \\n„Die Forschungsgruppe um Evo konnte erstmals auf diesem Weg neue funktionale Proteine entwerfen. Zwar sind die KI-Vorhersagen noch nicht immer präzise, aber durch die Weiterentwicklung der KI-Modelle wird der Designprozess in den kommenden Jahren weiter optimiert werden. So könnten neben neuen Proteinen zunehmend komplexe biologische Systeme, bis hin zu nützlichen Organismen, von Grund auf neu konstruiert werden. Durch die Verbindung von KI und Biologie entsteht nun eine Schlüsseltechnologie mit breiter Anwendung.“\\n„Diese rasanten Fortschritte der Digitalen Biologie bringen jedoch auch Verantwortung mit sich. Die neuen Möglichkeiten der KI-basierten Biologie soll', ' gut darin, die ‚Sprache‘ des Lebens – DNA, RNA und Proteine – zu verstehen. Dabei müssen sie allerdings viel komplexere Strukturen verarbeiten als bei menschlicher Sprache: Während ein Text linear gelesen wird, muss bei biologischen Sequenzen die dreidimensionale Faltung und Wechselwirkung über große Distanzen berücksichtigt werden.“\\n„Wie bei KI-Textgeneratoren, die zwar vernünftig klingende Sätze produzieren können, die aber in einem bestimmten Kontext keinen Sinn ergeben, können auch biologische KI-Modelle Sequenzen erzeugen, die korrekt aussehen, aber biologisch nicht funktionieren. Daher ist es unerlässlich Vorhersagen auch experimentell zu überprüfen, oder zumindest mit großer Vorsicht zu betrachten.“\\n\\nNeue Möglichkeiten für die Forschung: \\n„Evo kann Wissenschaftlern helfen, neue biologische Werkzeuge zu entwickeln, zum Beispiel verbesserte Versionen von CRISPR-Genscheren. Es ist wie ein KI-Assistent, der beim Design komplexer biologischer Maschinen hilft. Das Tool könnte man sich auch als Werkzeug vorstellen, das hilft vorherzusagen, wie sich Mutationen auf die Überlebensfähigkeit eines Organismus auswirken könnten. Dies könnte eventuell zu einem besseren Verständnis für manche unterforschten Krankheiten führen. Wichtig ist jedoch: Es handelt sich um ein Werkzeug für'], retrieval_context=None, additional_metadata={'evolutions': ['Constrained'], 'synthetic_input_quality': 0.8}, comments=None, tools_called=None, expected_tools=None, source_file='data/example_data/10_Copernicus-Report_ 2024 war 1_6 Grad wärmer als vo.txt', name=None, custom_column_key_values=None),\n",
       " Golden(input='Wie unterscheidet sich Evos Fähigkeit, neue Proteine zu entwerfen, von den traditionellen Methoden der DNA-Klonierung in der Biotechnologie?', actual_output=None, expected_output='Evo unterscheidet sich von traditionellen DNA-Klonierungsmethoden durch folgende Aspekte:\\n\\n1. **Direkte Übersetzung nützlicher Funktionen**: Evo übersetzt biologische Funktionen direkt in DNA-Sequenzen, während traditionelle Methoden aufwändige manuelle Kombinationen natürlicher DNA erfordern. (Kontext: „Die KI übersetzt nun direkt nützliche biologische Funktionen in die Sprache der DNA.“)\\n\\n2. **Automatisierung und Effizienz**: Evo ermöglicht eine schnellere und effizientere Entwicklung von Produktionsstämmen oder therapeutischen Proteinen, da es den Designprozess erheblich beschleunigt. (Kontext: „Dieser Ansatz der Digitalen Biologie beschleunigt die Entwicklung…“)\\n\\n3. **Entwicklung neuer funktionaler Proteine**: Evo kann neuartige Proteine entwerfen, die zuvor möglicherweise nicht durch manuelle Methoden entdeckt worden wären. (Kontext: „Die Forschungsgruppe um Evo konnte erstmals auf diesem Weg neue funktionale Proteine entwerfen.“)\\n\\nInsgesamt eröffnet Evo als KI-gestütztes Tool neue Möglichkeiten, die über die traditionellen klonierenden Ansätze hinausgehen.', context=['liche Gemeinschaft muss kontinuierlich an der Entwicklung von Sicherheitsmaßnahmen arbeiten, während diese Technologie sich weiterentwickelt.“\\n\\nProf. Dr. Beat Christen\\nDirektor des Instituts für Mikrobiologie, Universität Stuttgart\\n\\n„Vor 40 Jahren leitete die erste DNA-Klonierung durch Paul Berg und Stanley Cohen das Zeitalter der Molekularen Biologie ein. Erstmals konnten natürliche DNA-Stränge in Wirtszellen eingeschleust werden, um Organismen gezielt mit nützlichen Eigenschaften auszustatten. Heute findet durch die Anwendung der Künstlichen Intelligenz in der Biologie ein weiterer Quantensprung statt: Computer-Algorithmen lernen das Neuschreiben von DNA-Sequenzen und ermöglichen es, den Bauplan von Organismen von Grund auf neu zu gestalten. Damit tritt die Biologie in das neue Zeitalter der Digitalen Biologie ein.“\\n„In Kalifornien hat nun eine Gruppe von Forscher:innen eine Künstliche Intelligenz mit DNA-Datensätzen von Millionen Bakterien trainiert. Das neue KI-Modell namens Evo lernte dabei die Sprache und Grammatik der DNA und ermöglicht, nützliche biologische Funktionen direkt in künstliche DNA-Sequenzen umzusetzen. Die Arbeit wurde im renommierten Wissenschaftsjournal ‚Science‘ veröffentlicht.“\\n\\nEinordnung in die Forschungslandschaft: \\n„Evo markiert einen Paradigmenwechsel in der Biotechnologie. Bislang wurden Produktionsstämme aufwändig �', '. Bislang wurden Produktionsstämme aufwändig über klassische DNA-Klonierungsmethoden hergestellt, was viel Fachwissen und manuelle Arbeitsschritte im Labor erforderte. Dabei wurden natürliche DNA-Stränge kombiniert und zusammengeführt.“\\n„Die KI übersetzt nun direkt nützliche biologische Funktionen in die Sprache der DNA. Im digitalen Raum entstehen neue DNA-Sequenzen, die anschließend durch chemische DNA-Synthese physisch hergestellt und in Zellen eingeschleust werden können. Dieser Ansatz der Digitalen Biologie beschleunigt die Entwicklung biotechnologischer Produktionsstämme oder therapeutischer Proteine für medizinische Anwendungen enorm.“\\n\\nNeue Möglichkeiten für die Forschung: \\n„Die Forschungsgruppe um Evo konnte erstmals auf diesem Weg neue funktionale Proteine entwerfen. Zwar sind die KI-Vorhersagen noch nicht immer präzise, aber durch die Weiterentwicklung der KI-Modelle wird der Designprozess in den kommenden Jahren weiter optimiert werden. So könnten neben neuen Proteinen zunehmend komplexe biologische Systeme, bis hin zu nützlichen Organismen, von Grund auf neu konstruiert werden. Durch die Verbindung von KI und Biologie entsteht nun eine Schlüsseltechnologie mit breiter Anwendung.“\\n„Diese rasanten Fortschritte der Digitalen Biologie bringen jedoch auch Verantwortung mit sich. Die neuen Möglichkeiten der KI-basierten Biologie soll', ' gut darin, die ‚Sprache‘ des Lebens – DNA, RNA und Proteine – zu verstehen. Dabei müssen sie allerdings viel komplexere Strukturen verarbeiten als bei menschlicher Sprache: Während ein Text linear gelesen wird, muss bei biologischen Sequenzen die dreidimensionale Faltung und Wechselwirkung über große Distanzen berücksichtigt werden.“\\n„Wie bei KI-Textgeneratoren, die zwar vernünftig klingende Sätze produzieren können, die aber in einem bestimmten Kontext keinen Sinn ergeben, können auch biologische KI-Modelle Sequenzen erzeugen, die korrekt aussehen, aber biologisch nicht funktionieren. Daher ist es unerlässlich Vorhersagen auch experimentell zu überprüfen, oder zumindest mit großer Vorsicht zu betrachten.“\\n\\nNeue Möglichkeiten für die Forschung: \\n„Evo kann Wissenschaftlern helfen, neue biologische Werkzeuge zu entwickeln, zum Beispiel verbesserte Versionen von CRISPR-Genscheren. Es ist wie ein KI-Assistent, der beim Design komplexer biologischer Maschinen hilft. Das Tool könnte man sich auch als Werkzeug vorstellen, das hilft vorherzusagen, wie sich Mutationen auf die Überlebensfähigkeit eines Organismus auswirken könnten. Dies könnte eventuell zu einem besseren Verständnis für manche unterforschten Krankheiten führen. Wichtig ist jedoch: Es handelt sich um ein Werkzeug für'], retrieval_context=None, additional_metadata={'evolutions': ['Comparative'], 'synthetic_input_quality': 0.5}, comments=None, tools_called=None, expected_tools=None, source_file='data/example_data/10_Copernicus-Report_ 2024 war 1_6 Grad wärmer als vo.txt', name=None, custom_column_key_values=None),\n",
       " Golden(input='Wie haben die Gespräche mit dem KI-Chatbot die Meinungen der Teilnehmer über die Verschwörungstheorie beeinflusst? Gab es Unterschiede zwischen der Test- und der Kontrollgruppe?', actual_output=None, expected_output='Die Gespräche mit dem KI-Chatbot senkten die Überzeugungen der Teilnehmer in der Testgruppe signifikant um etwa 17 Prozentpunkte im Vergleich zur Kontrollgruppe. In der Kontrollgruppe gab es keinen ähnlichen Rückgang. Etwa ein Viertel der Teilnehmer der Testgruppe wurde so sehr überzeugt, dass sie sich weniger als 50 Prozent sicher waren, dass die Verschwörungstheorie wahr sei. Dies zeigt, dass Gespräche mit KI effektiv die Zustimmung zu Verschwörungstheorien reduzieren können.', context=['ilderten dem KI-Chatbot ChatGPT-4 Turbo zunächst eine Verschwörungstheorie und die angeblichen Beweise dafür. Zudem gaben die Teilnehmenden auf einer Skala von 0 bis 100 Prozent an, wie sicher sie sich waren, dass die Verschwörungstheorie wahr sei. Anschließend wurden die Teilnehmenden randomisiert in eine Test- und eine Kontrollgruppe aufgeteilt. Die Testgruppe führte eine kurze Diskussion mit dem Chatbot zur Faktenlage rund um die geschilderte Theorie. Der Bot hatte die Aufgabe, sein Gegenüber von der Verschwörungstheorie abzubringen. Die Konversation bestand aus drei Antworten des Chatbots – jeweils auf die erste Schilderung der Verschwörungstheorie und auf zwei weitere Reaktionen der Teilnehmenden und dauerte im Schnitt unter zehn Minuten. Die Kontrollgruppe diskutierte ein von der Theorie unabhängiges Thema mit dem Chatbot. Am Ende gaben beide Gruppen erneut an, wie überzeugt sie von der Verschwörungstheorie waren.\\n\\nBei der Testgruppe sanken die Überzeugungen, mit welcher Sicherheit die Verschwörungstheorie wahr sei, um etwa 17 Prozentpunkte stärker als in der Kontrollgruppe. Der Unterschied war statistisch signifikant. Bei etwa einem Viertel der Teilnehmenden sank die verschwörungstheoretische Überzeugung so weit, dass sie sich weniger als 50 Prozent sicher waren, dass sie wahr sei. In einer Nachbefragung zwei Monate später konnte', 'TITLE: KI senkt Zustimmung zu Verschwörungstheorien\\n================================================================================\\n• Gespräche mit KI-Chatbot reduzieren in Studie effektiv verschwörungstheoretische Überzeugungen\\n• demnach könnten individuell angepasste Evidenz und gute Argumente besser als bislang gedacht gegen Verschwörungstheorien wirken\\n• Forschende finden Ergebnisse weitestgehend überzeugend, halten direkte Anwendung in der Praxis für herausfordernd\\n\\nKurze, faktenbasierte Gespräche mit einem generativen KI-Chatbot könnten die Zustimmung zu Verschwörungstheorien deutlich und nachhaltig senken. Zu diesem Ergebnis kommen US-amerikanische Forscher in einer Studie, die in der Fachzeitschrift „Science“ erschienen ist (https://www.science.org/doi/10.1126/science.adq1814siehe Primärquelle). Bis zu dieser Studie habe es wenig Belege gegeben, dass die Zustimmung zu Verschwörungstheorien durch gegenteilige Evidenz effektiv verringert werden könne, so die Autoren. Stattdessen seien verschwörungstheoretische Überzeugungen oft mit zugrunde liegenden psychologischen Bedürfnissen – etwa nach Stabilität und Sicherheit – erklärt worden. Im Zusammenhang damit seien sie für resilient gegenüber widersprechenden Fakten gehalten worden – was die Studienergebnisse widerlegen würden.\\n\\nDie insgesamt über 2000 Teilnehmenden der Studie schilderten dem KI-Chatbot ChatGPT-4 Turbo zunächst', 'heoretikerInnen überzeugt, beantworten die Autoren der Studie mit dem Verweis auf die einfach besseren und stichhaltigeren Argumente, die die KI im Vergleich zu menschlichen GesprächspartnerInnen liefert. Verschwörungsgläubige treffen quasi erstmal auf einen Gesprächspartner, der noch mehr über ihre Lieblingsverschwörungstheorie und die Hintergründe weiß als sie selbst. Das ist nicht unplausibel. Aber es lässt meines Erachtens die interessante Frage außer Acht, warum die TeilnehmerInnen der KI vertrauen. In Mensch-zu-Mensch-Diskussionen ist es ja nicht immer so, dass das Gegenüber argumentativ unterlegen ist, sondern ihm mitunter auch unterstellt wird, entweder selbst Teil der Verschwörung zu sein oder von den Mächtigen dumm gemacht worden zu sein – Stichwort Lügenpresse und Schlafschafe. Das scheint der KI nicht unterstellt zu werden und das ist für mich das Verblüffende. Zusatzanalysen der Studie zeigen auch, dass die Reduktion umso größer ist, je mehr die ProbandInnen der KI vertrauen.“\\n\\nAuf die Frage, inwiefern Menschen, die von einer Verschwörungstheorie überzeugt sind, in der Praxis dafür offen wären, mit einem KI-Chatbot zu diskutieren:<br/>„Das ist eine zentrale Frage. Bei aller Repräsentativität für Alter, Geschlecht und andere demographische Variablen, bleiben die Studienteilne'], retrieval_context=None, additional_metadata={'evolutions': ['Comparative'], 'synthetic_input_quality': 0.7}, comments=None, tools_called=None, expected_tools=None, source_file='data/example_data/10_Copernicus-Report_ 2024 war 1_6 Grad wärmer als vo.txt', name=None, custom_column_key_values=None),\n",
       " Golden(input='Was könnte passieren, wenn Menschen mehr auf die Ratschläge von KI-Chatbots hören als auf die von Wissenschaftlern? Gibt es da Risiken oder Vorteile?', actual_output=None, expected_output='Wenn Menschen mehr auf KI-Chatbots hören als auf Wissenschaftler, könnten sowohl Risiken als auch Vorteile entstehen. \\n\\n**Vorteile:**\\n- KI-Chatbots können überzeugender argumentieren und relevante Evidenz liefern, was zu einer signifikanten Reduktion der Zustimmung zu Verschwörungstheorien führen kann. In einer Studie sank die Überzeugung um etwa 17 Prozentpunkte, was zeigt, dass KI erfolgreich gegen Fehlinformationen arbeiten kann. (Quelle: Studie in \"Science\")\\n\\n**Risiken:**\\n- Vertrauen in KI anstelle von Experten kann zu einer Verzerrung des Wissens führen, da Chatbots möglicherweise nicht immer die besten oder aktuellsten Informationen bereitstellen. Zudem könnte die Übernahme von KI-Ratschlägen zur Ablehnung wissenschaftlicher Erkenntnisse führen, falls Nutzer die Richtigkeit der Informationen nicht kritisch hinterfragen.\\n\\nZusammenfassend ist die Interaktion mit KI-Chatbots vielversprechend, aber es ist wichtig, kritisches Denken zu fördern und den wissenschaftlichen Diskurs zu erhalten.', context=['ilderten dem KI-Chatbot ChatGPT-4 Turbo zunächst eine Verschwörungstheorie und die angeblichen Beweise dafür. Zudem gaben die Teilnehmenden auf einer Skala von 0 bis 100 Prozent an, wie sicher sie sich waren, dass die Verschwörungstheorie wahr sei. Anschließend wurden die Teilnehmenden randomisiert in eine Test- und eine Kontrollgruppe aufgeteilt. Die Testgruppe führte eine kurze Diskussion mit dem Chatbot zur Faktenlage rund um die geschilderte Theorie. Der Bot hatte die Aufgabe, sein Gegenüber von der Verschwörungstheorie abzubringen. Die Konversation bestand aus drei Antworten des Chatbots – jeweils auf die erste Schilderung der Verschwörungstheorie und auf zwei weitere Reaktionen der Teilnehmenden und dauerte im Schnitt unter zehn Minuten. Die Kontrollgruppe diskutierte ein von der Theorie unabhängiges Thema mit dem Chatbot. Am Ende gaben beide Gruppen erneut an, wie überzeugt sie von der Verschwörungstheorie waren.\\n\\nBei der Testgruppe sanken die Überzeugungen, mit welcher Sicherheit die Verschwörungstheorie wahr sei, um etwa 17 Prozentpunkte stärker als in der Kontrollgruppe. Der Unterschied war statistisch signifikant. Bei etwa einem Viertel der Teilnehmenden sank die verschwörungstheoretische Überzeugung so weit, dass sie sich weniger als 50 Prozent sicher waren, dass sie wahr sei. In einer Nachbefragung zwei Monate später konnte', 'TITLE: KI senkt Zustimmung zu Verschwörungstheorien\\n================================================================================\\n• Gespräche mit KI-Chatbot reduzieren in Studie effektiv verschwörungstheoretische Überzeugungen\\n• demnach könnten individuell angepasste Evidenz und gute Argumente besser als bislang gedacht gegen Verschwörungstheorien wirken\\n• Forschende finden Ergebnisse weitestgehend überzeugend, halten direkte Anwendung in der Praxis für herausfordernd\\n\\nKurze, faktenbasierte Gespräche mit einem generativen KI-Chatbot könnten die Zustimmung zu Verschwörungstheorien deutlich und nachhaltig senken. Zu diesem Ergebnis kommen US-amerikanische Forscher in einer Studie, die in der Fachzeitschrift „Science“ erschienen ist (https://www.science.org/doi/10.1126/science.adq1814siehe Primärquelle). Bis zu dieser Studie habe es wenig Belege gegeben, dass die Zustimmung zu Verschwörungstheorien durch gegenteilige Evidenz effektiv verringert werden könne, so die Autoren. Stattdessen seien verschwörungstheoretische Überzeugungen oft mit zugrunde liegenden psychologischen Bedürfnissen – etwa nach Stabilität und Sicherheit – erklärt worden. Im Zusammenhang damit seien sie für resilient gegenüber widersprechenden Fakten gehalten worden – was die Studienergebnisse widerlegen würden.\\n\\nDie insgesamt über 2000 Teilnehmenden der Studie schilderten dem KI-Chatbot ChatGPT-4 Turbo zunächst', 'heoretikerInnen überzeugt, beantworten die Autoren der Studie mit dem Verweis auf die einfach besseren und stichhaltigeren Argumente, die die KI im Vergleich zu menschlichen GesprächspartnerInnen liefert. Verschwörungsgläubige treffen quasi erstmal auf einen Gesprächspartner, der noch mehr über ihre Lieblingsverschwörungstheorie und die Hintergründe weiß als sie selbst. Das ist nicht unplausibel. Aber es lässt meines Erachtens die interessante Frage außer Acht, warum die TeilnehmerInnen der KI vertrauen. In Mensch-zu-Mensch-Diskussionen ist es ja nicht immer so, dass das Gegenüber argumentativ unterlegen ist, sondern ihm mitunter auch unterstellt wird, entweder selbst Teil der Verschwörung zu sein oder von den Mächtigen dumm gemacht worden zu sein – Stichwort Lügenpresse und Schlafschafe. Das scheint der KI nicht unterstellt zu werden und das ist für mich das Verblüffende. Zusatzanalysen der Studie zeigen auch, dass die Reduktion umso größer ist, je mehr die ProbandInnen der KI vertrauen.“\\n\\nAuf die Frage, inwiefern Menschen, die von einer Verschwörungstheorie überzeugt sind, in der Praxis dafür offen wären, mit einem KI-Chatbot zu diskutieren:<br/>„Das ist eine zentrale Frage. Bei aller Repräsentativität für Alter, Geschlecht und andere demographische Variablen, bleiben die Studienteilne'], retrieval_context=None, additional_metadata={'evolutions': ['Hypothetical'], 'synthetic_input_quality': 0.6}, comments=None, tools_called=None, expected_tools=None, source_file='data/example_data/10_Copernicus-Report_ 2024 war 1_6 Grad wärmer als vo.txt', name=None, custom_column_key_values=None),\n",
       " Golden(input='Was sind die besonderen Vorteile von KarXT im Vergleich zu traditionellen Antipsychotika? Gibt es innovative Mechanismen, die es effektiver machen?', actual_output=None, expected_output='KarXT bietet mehrere Vorteile im Vergleich zu traditionellen Antipsychotika:\\n\\n1. **Neuartiger Wirkmechanismus**: KarXT wirkt nicht direkt auf Dopaminrezeptoren, sondern aktiviert die Muskarinrezeptoren M1 und M4, was zu einer indirekten Reduzierung der Dopaminausschüttung führt. Dies stellt einen fundamentalen Unterschied zu den bisherigen Antipsychotika dar, die direkt Dopaminrezeptoren blockieren (Prof. Dr. Peter Falkai).\\n\\n2. **Geringere Nebenwirkungen**: Das Medikament führt nicht zu den typischen Nebenwirkungen wie Muskelkrämpfen oder unwillkürlichen Bewegungen, die häufig mit herkömmlichen Antipsychotika verbunden sind (Evidenz aus den EMERGENT-Studien).\\n\\n3. **Therapiealternative seit Jahrzehnten**: KarXT repräsentiert die erste wesentliche Therapiealternative für die Behandlung von Schizophrenie seit vielen Jahren, was bedeutsam für die Weiterentwicklung in diesem Forschungsfeld ist (Prof. Dr. Christoph Correll).\\n\\nInsgesamt sind die innovativen Mechanismen von KarXT vielversprechend und könnten die Behandlung von Schizophrenie revolutionieren.', context=['TITLE: FDA lässt neuartiges Medikament zur Behandlung von Schizophrenie zu\\n================================================================================\\n• neuartiger Wirkmechanismus bietet erste Therapiealternative seit Jahrzehnten\\n• „KarXT\" führt nicht zu typischen Nebenwirkungen bisheriger Antipsychotika\\n• Experten befürworten die Entscheidung der FDA und betonen die Bedeutung für die Behandlung von Schizophrenie\\n\\nDie amerikanische Arzneimittelbehörde FDA hat in der Nacht vom 26.09.2024 auf den 27.09.2024 das neuartige Medikament KarXT (Markenname Cobenfy) zur Behandlung von Schizophrenie zugelassen https://www.fda.gov/news-events/press-announcements/fda-approves-drug-new-mechanism-action-treatment-schizophrenia[I]. Die bisherigen Antipsychotika zielen mit ihrer Wirkung direkt auf den Botenstoff Dopamin ab, der im Körper etwa für das Belohnungssystem oder auch Bewegung, zuständig ist. Nebenwirkungen sind Muskelkrämpfe, unwillkürliche Bewegungen oder eine allgemeine Verlangsamung der Motorik.\\n\\nIm Gegensatz zu den meisten bisherigen Antipsychotika wirkt KarXT nicht direkt auf Dopaminrezeptoren, sondern auf die Muskarinrezeptoren M1 und M4, die unter anderem mit dem parasympathischen System zusammenhängen. Der Wirkmechanismus wurde 1993 von dem Biochemiker Brian Deay entdeckt. Das Medikament kombiniert zwei Stoffe: Xanomelin – ein selektiver Muskarinrezeptor-Agonist, und Trospium – ein Muskarin-Antagonist. Vereinfacht lässt sich', ' fast neun Milliarden Euro eingekauft. Auch halte ich die TAAR1-Agonisten, die ebenfalls einen vollkommen neuen Ansatz verfolgen, für sehr interessant. Leider waren hier die Phase-III-Studien nicht so gut, wie erwartet. Schließlich sind noch die D-Aminosäure-Oxidase-Hemmer am Horizont, aber hier ist eine Einschätzung noch nicht möglich.“\\n\\nProf. Dr. Peter Falkai\\nKlinkidirektor der Psychiatrie und Psychotherapie, Ludwig-Maximilians-Universität München (LMU)\\n\\nPotenzial von KarXT: \\n„Das Medikament KarXT ist eine wichtige Innovation in der pharmakologischen Behandlung von Schizophrenie und öffnet die Tür für weitere Medikamente dieser Substanzklasse. Seit vielen Jahrzehnten gab es auf diesem Forschungsfeld keinen neuen Medikamentenansatz, die letzte spürbare Verbesserung war damals die durch die Dopamin-Agonisten. KarXT wirkt zwar auch auf Dopamin, allerdings indirekt. Xanomelin sorgt für eine Aktivierung der Muskarinrezeptoren M1 und M4 und Trospium verhindert diese Aktivierung im peripheren Nervensystem. Die Daten aus den EMERGENT-Studien sehen sehr solide aus. Ich halte daher die Zulassung der FDA für eine gute Entscheidung.“\\n\\nVergleich zu anderen Medikamenten: \\n„KarXT sieht gegen Placebo gut aus. Für einen Vergleich mit anderen Substanzen müssen noch Kopf an Kopf Studien mit den anderen Substanzen durchgeführt werden, um wirklich die Wirksamke', 'urchgeführt werden, um wirklich die Wirksamkeit im Vergleich zu anderen Antipsychotika zu prüfen. Die Nebenwirkungen, wie Übelkeit und weitere gastrointestinale Beschwerden werden auftreten, wie die EMERGENT-Studien gegen ein Placebo-Präparat gezeigt haben. Die sollten moderat sein, was aber die Anwendung in der Versorgungsrealität zeigen soll und hoffentlich wird.“\\n\\nProf. Dr. Christoph Correll\\nDirektor der Klinik für Psychiatrie, Psychosomatik und Psychotherapie des Kindes- und Jugendalters, Charité – Universitätsmedizin Berlin, und Professor für psychiatrische Neurowissenschaften, Institute of Behavioral Science, Feinstein Institutes for Medical Research, New York, USA, und Professor für Psychiatrie und Molekulare Medizin, Donald and Barbara Zucker School of Medicine at Hofstra/Northwell, New York, USA\\n\\nPotenzial von KarXT: \\n„Das Medikament KarXT ist meiner Einschätzung nach eine Möglichkeit, die Therapie von Psychosen und Schizophrenie für wenigstens einige Patient:innen zu revolutionieren. Das liegt an dem besonderen Wirkmechanismus von Xanomelin, einem M1/M4 muscarinergen Agonisten, der mit Trospium, einem peripher beschränkten Anticholiergikum kombiniert ist und über die Wirkung auf Muskarinrezeptoren indirekt die präsynaptische Dopaminausschüttung reduziert. Bisherige Antipsychotika blockieren postsynaptische Dopaminrezeptoren. Dopamin wird also ausgeschüttet, das Signal breitet sich jedoch nicht auf die weiteren Synapsen aus. Ein präsynaptisches Problem wurde'], retrieval_context=None, additional_metadata={'evolutions': ['In-Breadth'], 'synthetic_input_quality': 1.0}, comments=None, tools_called=None, expected_tools=None, source_file='data/example_data/10_Copernicus-Report_ 2024 war 1_6 Grad wärmer als vo.txt', name=None, custom_column_key_values=None),\n",
       " Golden(input='Wie unterscheiden sich die Nebenwirkungen von KarXT im Vergleich zu den Nebenwirkungen, die man von herkömmlichen Antipsychotika kennt?', actual_output=None, expected_output='Die Nebenwirkungen von KarXT unterscheiden sich signifikant von denen herkömmlicher Antipsychotika. Traditionelle Antipsychotika führen häufig zu Muskelkrämpfen, unwillkürlichen Bewegungen und einer allgemeinen Verlangsamung der Motorik, da sie direkt auf Dopaminrezeptoren wirken. KarXT hingegen bietet den Vorteil, dass es nicht die typischen Nebenwirkungen dieser Medikamente verursacht, da es nicht direkt auf Dopaminrezeptoren abzielt. Dennoch können moderate Nebenwirkungen wie Übelkeit und gastrointestinale Beschwerden auftreten, wie in den EMERGENT-Studien gezeigt wurde. Dies macht KarXT zu einer potenziellen Therapiealternative für Patienten, da die Nebenwirkungen weniger gravierend erscheinen.', context=['TITLE: FDA lässt neuartiges Medikament zur Behandlung von Schizophrenie zu\\n================================================================================\\n• neuartiger Wirkmechanismus bietet erste Therapiealternative seit Jahrzehnten\\n• „KarXT\" führt nicht zu typischen Nebenwirkungen bisheriger Antipsychotika\\n• Experten befürworten die Entscheidung der FDA und betonen die Bedeutung für die Behandlung von Schizophrenie\\n\\nDie amerikanische Arzneimittelbehörde FDA hat in der Nacht vom 26.09.2024 auf den 27.09.2024 das neuartige Medikament KarXT (Markenname Cobenfy) zur Behandlung von Schizophrenie zugelassen https://www.fda.gov/news-events/press-announcements/fda-approves-drug-new-mechanism-action-treatment-schizophrenia[I]. Die bisherigen Antipsychotika zielen mit ihrer Wirkung direkt auf den Botenstoff Dopamin ab, der im Körper etwa für das Belohnungssystem oder auch Bewegung, zuständig ist. Nebenwirkungen sind Muskelkrämpfe, unwillkürliche Bewegungen oder eine allgemeine Verlangsamung der Motorik.\\n\\nIm Gegensatz zu den meisten bisherigen Antipsychotika wirkt KarXT nicht direkt auf Dopaminrezeptoren, sondern auf die Muskarinrezeptoren M1 und M4, die unter anderem mit dem parasympathischen System zusammenhängen. Der Wirkmechanismus wurde 1993 von dem Biochemiker Brian Deay entdeckt. Das Medikament kombiniert zwei Stoffe: Xanomelin – ein selektiver Muskarinrezeptor-Agonist, und Trospium – ein Muskarin-Antagonist. Vereinfacht lässt sich', ' fast neun Milliarden Euro eingekauft. Auch halte ich die TAAR1-Agonisten, die ebenfalls einen vollkommen neuen Ansatz verfolgen, für sehr interessant. Leider waren hier die Phase-III-Studien nicht so gut, wie erwartet. Schließlich sind noch die D-Aminosäure-Oxidase-Hemmer am Horizont, aber hier ist eine Einschätzung noch nicht möglich.“\\n\\nProf. Dr. Peter Falkai\\nKlinkidirektor der Psychiatrie und Psychotherapie, Ludwig-Maximilians-Universität München (LMU)\\n\\nPotenzial von KarXT: \\n„Das Medikament KarXT ist eine wichtige Innovation in der pharmakologischen Behandlung von Schizophrenie und öffnet die Tür für weitere Medikamente dieser Substanzklasse. Seit vielen Jahrzehnten gab es auf diesem Forschungsfeld keinen neuen Medikamentenansatz, die letzte spürbare Verbesserung war damals die durch die Dopamin-Agonisten. KarXT wirkt zwar auch auf Dopamin, allerdings indirekt. Xanomelin sorgt für eine Aktivierung der Muskarinrezeptoren M1 und M4 und Trospium verhindert diese Aktivierung im peripheren Nervensystem. Die Daten aus den EMERGENT-Studien sehen sehr solide aus. Ich halte daher die Zulassung der FDA für eine gute Entscheidung.“\\n\\nVergleich zu anderen Medikamenten: \\n„KarXT sieht gegen Placebo gut aus. Für einen Vergleich mit anderen Substanzen müssen noch Kopf an Kopf Studien mit den anderen Substanzen durchgeführt werden, um wirklich die Wirksamke', 'urchgeführt werden, um wirklich die Wirksamkeit im Vergleich zu anderen Antipsychotika zu prüfen. Die Nebenwirkungen, wie Übelkeit und weitere gastrointestinale Beschwerden werden auftreten, wie die EMERGENT-Studien gegen ein Placebo-Präparat gezeigt haben. Die sollten moderat sein, was aber die Anwendung in der Versorgungsrealität zeigen soll und hoffentlich wird.“\\n\\nProf. Dr. Christoph Correll\\nDirektor der Klinik für Psychiatrie, Psychosomatik und Psychotherapie des Kindes- und Jugendalters, Charité – Universitätsmedizin Berlin, und Professor für psychiatrische Neurowissenschaften, Institute of Behavioral Science, Feinstein Institutes for Medical Research, New York, USA, und Professor für Psychiatrie und Molekulare Medizin, Donald and Barbara Zucker School of Medicine at Hofstra/Northwell, New York, USA\\n\\nPotenzial von KarXT: \\n„Das Medikament KarXT ist meiner Einschätzung nach eine Möglichkeit, die Therapie von Psychosen und Schizophrenie für wenigstens einige Patient:innen zu revolutionieren. Das liegt an dem besonderen Wirkmechanismus von Xanomelin, einem M1/M4 muscarinergen Agonisten, der mit Trospium, einem peripher beschränkten Anticholiergikum kombiniert ist und über die Wirkung auf Muskarinrezeptoren indirekt die präsynaptische Dopaminausschüttung reduziert. Bisherige Antipsychotika blockieren postsynaptische Dopaminrezeptoren. Dopamin wird also ausgeschüttet, das Signal breitet sich jedoch nicht auf die weiteren Synapsen aus. Ein präsynaptisches Problem wurde'], retrieval_context=None, additional_metadata={'evolutions': ['Multi-context'], 'synthetic_input_quality': 0.7}, comments=None, tools_called=None, expected_tools=None, source_file='data/example_data/10_Copernicus-Report_ 2024 war 1_6 Grad wärmer als vo.txt', name=None, custom_column_key_values=None),\n",
       " Golden(input='Was bedeutet es für den Klimawandel und die Umwelt, wenn die globale Durchschnittstemperatur im Jahr 2024 um 1,6 Grad über dem vorindustriellen Niveau liegt?', actual_output=None, expected_output='Die globale Durchschnittstemperatur von 1,6 Grad über dem vorindustriellen Niveau im Jahr 2024 zeigt, dass der menschengemachte Klimawandel gravierende Auswirkungen hat. \\n\\n1. **Erreichbarkeit des 1,5-Grad-Ziels**: Experten sind sich fast einig, dass das 1,5-Grad-Ziel unerreichbar ist, selbst mit CO<sub>2</sub>-Entnahme-Technologien (Copernicus-Report).\\n\\n2. **Rekordwerte**: 2024 war das wärmste Jahr seit Beginn der Aufzeichnungen, mit zahlreichen extremen Wetterereignissen und signifikanten Rückgängen in der Meereisausdehnung (Berichtsergebnisse).\\n\\n3. **Fossile Brennstoffe**: Die Temperatursteigerung ist hauptsächlich auf die steigende CO<sub>2</sub>-Konzentration in der Atmosphäre zurückzuführen, die durch die Verbrennung fossiler Brennstoffe verursacht wird (Dr. Thorsten Mauritsen). \\n\\nDiese Entwicklungen sind alarmierend und unterstreichen die Dringlichkeit, Maßnahmen gegen den Klimawandel zu ergreifen.', context=['TITLE: Copernicus-Report: 2024 war 1,6 Grad wärmer als vorindustrielles Niveau\\n================================================================================\\n• 2024 lag die globale Durchschnittstemperatur 1,6 Grad über vorindustriellem Niveau\\n• Copernicus-Report offenbart viele Rekordwerte im vergangenen Jahr\\n• Experten \\xa0fast einhellig: \\xa0das 1,5-Grad-Ziel ist unerreichbar, wahrscheinlich selbst bei Einsatz von CO<sub>2</sub>-Entnahme-Technologien\\n\\nDas Jahr 2024 war das wärmste Jahr seit Beginn der Aufzeichnungen und gleichzeitig das erste Jahr, in dem die globale Durchschnittstemperatur mehr als 1,5 Grad über dem vorindustriellen Niveau lag. Dies zeigt der Bericht „Copernicus Global Climate Highlights 2024“ auf, der am 10.01.2025 erschienen und der in Zusammenarbeit mehrerer Organisationen, darunter das Europäische Zentrum für mittelfristige Wettervorhersage (ECMWF), die NASA, die Nationale Ozean- und Atmosphärenbehörde der USA (NOAA) und die Weltorganisation für Meteorologie (WMO), entstanden ist (https://climate.copernicus.eu/global-climate-highlights?utm_source=pressrelease&amp;utm_medium=referral&amp;utm_campaign=gch24siehe Primärquelle). Als Hauptursache identifiziert der Bericht den menschengemachten Klimawandel, verstärkt durch unter anderem das El Niño-Ereignis.\\n\\nDer Bericht zeigt auf, dass im vergangenen Jahr viele Messwerte ein Niveau erreicht haben, das seit Beginn der Aufzeichnungen noch nicht beobacht', 'as seit Beginn der Aufzeichnungen noch nicht beobachtet wurde. So lag die globale Durchschnittstemperatur 2024 um 1,6 Grad über dem vorindustriellen Niveau. Allein gegenüber dem Zeitraum von 1991 bis 2020 ist dies ein Anstieg um 0,72 Grad – in Europa sind es sogar 1,47 Grad. Jedes der zurückliegenden zehn Jahre seit 2015 zählt somit nun zu den zehn wärmsten Jahren seit Aufzeichnungsbeginn. Mit Ausnahme des Monats Juli war jeder einzelne Monat wärmer als die entsprechenden Monate vorangegangener Jahre, wobei August 2024 sich auf gleichem Niveau bewegte wie der der August 2023. Hohe Oberflächentemperaturen der Meere trugen wesentlich zu den Durchschnittstemperaturen bei. Weitere Rekordwerte, die der Bericht illustriert: Extremwetter traten in allen Regionen der Welt auf, die Ausdehnung und Menge des Meereises in der Arktis und der Antarktis lagen sehr deutlich unter dem Durchschnitt, die Menge Wasserdampf in der Atmosphäre liegt mittlerweile um fünf Prozent über der des Zeitraum 1991 bis 2020.\\n\\nDas SMC hat Forschende befragt, inwiefern die Entwicklungen des vergangenen Jahres überraschen beziehungsweise noch durch natürliche Variabilitäten zu erklären sind, inwieweit Klimamodelle diese Dynamik prognostiziert haben und inwiefern das 1,5-Grad-Ziel überhaupt noch in Reichweite bleibt.\\n\\nDr. Thorsten Mauritsen\\nDozent im Forschungsbereich Global Atmospheric Dynamics, Department of Meteorology (MISU', 'ent im Forschungsbereich Global Atmospheric Dynamics, Department of Meteorology (MISU), Stockholm University , Schweden, und früher am MPI für Meteorologie Hamburg, Schweden\\n\\n„Die globale Durchschnittstemperatur hat im Jahr 2024 zum ersten Mal mit Sicherheit 1,5 Grad über den frühindustriellen Temperaturen gelegen. Der Hauptgrund dafür ist die durch die Verbrennung fossiler Brennstoffe verursachte Anreicherung von Kohlendioxid in der Atmosphäre in Verbindung mit einem starken El-Niño-Ereignis, das im Winter zwischen 2023 und 2024 seinen Höhepunkt erreichte.“\\n„El Niño ist ein natürliches Phänomen im Pazifischen Ozean, das in unregelmäßigen Abständen auftritt und seinen Höhepunkt im Winter um Weihnachten herum erreicht. Normalerweise führt es zu einem Anstieg der globalen Durchschnittstemperatur für ein bis zwei Jahre. Da die Treibhausgase die globale Durchschnittstemperatur stetig in die Höhe treiben, sind Jahre mit El Niño in der Regel auch Rekordjahre, dadurch dass sie den ständig steigenden Trend um einige Zehntel Grad verstärken.“\\n„Dass die globale Durchschnittstemperatur in den 2020er Jahren 1,5 Grad über der frühindustriellen Temperatur liegen könnte, wurde in dem 2021 veröffentlichten IPCC-Bericht prognostiziert https://www.ipcc.ch/report/ar6/wg1/chapter/chapter-4/[1]. In diesem Bericht stellten die Autoren fest, dass bis 2030 die Wahrscheinlichkeit etwa 50 Prozent beträgt, dass einzelne Jahre die 1'], retrieval_context=None, additional_metadata={'evolutions': ['Concretizing'], 'synthetic_input_quality': 0.8}, comments=None, tools_called=None, expected_tools=None, source_file='data/example_data/10_Copernicus-Report_ 2024 war 1_6 Grad wärmer als vo.txt', name=None, custom_column_key_values=None),\n",
       " Golden(input='Warum war 2024 das wärmste Jahr seit Beginn der Aufzeichnungen und wie hat das El Niño-Ereignis dazu beigetragen?', actual_output=None, expected_output='Das Jahr 2024 war das wärmste Jahr seit Beginn der Aufzeichnungen, da die globale Durchschnittstemperatur 1,6 Grad über dem vorindustriellen Niveau lag. Der Hauptgrund hierfür ist die menschengemachte Klimakrise, verstärkt durch das El Niño-Ereignis. Dr. Thorsten Mauritsen erklärt, dass El Niño typischerweise zu einem Anstieg der globalen Temperaturen führt, da es den allgemeinen Temperaturtrend um einige Zehntel Grad verstärkt. Solche El Niño-Jahre sind oft auch Rekordjahre, da sie die kontinuierliche Zunahme von Treibhausgasen in der Atmosphäre intensivieren.', context=['TITLE: Copernicus-Report: 2024 war 1,6 Grad wärmer als vorindustrielles Niveau\\n================================================================================\\n• 2024 lag die globale Durchschnittstemperatur 1,6 Grad über vorindustriellem Niveau\\n• Copernicus-Report offenbart viele Rekordwerte im vergangenen Jahr\\n• Experten \\xa0fast einhellig: \\xa0das 1,5-Grad-Ziel ist unerreichbar, wahrscheinlich selbst bei Einsatz von CO<sub>2</sub>-Entnahme-Technologien\\n\\nDas Jahr 2024 war das wärmste Jahr seit Beginn der Aufzeichnungen und gleichzeitig das erste Jahr, in dem die globale Durchschnittstemperatur mehr als 1,5 Grad über dem vorindustriellen Niveau lag. Dies zeigt der Bericht „Copernicus Global Climate Highlights 2024“ auf, der am 10.01.2025 erschienen und der in Zusammenarbeit mehrerer Organisationen, darunter das Europäische Zentrum für mittelfristige Wettervorhersage (ECMWF), die NASA, die Nationale Ozean- und Atmosphärenbehörde der USA (NOAA) und die Weltorganisation für Meteorologie (WMO), entstanden ist (https://climate.copernicus.eu/global-climate-highlights?utm_source=pressrelease&amp;utm_medium=referral&amp;utm_campaign=gch24siehe Primärquelle). Als Hauptursache identifiziert der Bericht den menschengemachten Klimawandel, verstärkt durch unter anderem das El Niño-Ereignis.\\n\\nDer Bericht zeigt auf, dass im vergangenen Jahr viele Messwerte ein Niveau erreicht haben, das seit Beginn der Aufzeichnungen noch nicht beobacht', 'as seit Beginn der Aufzeichnungen noch nicht beobachtet wurde. So lag die globale Durchschnittstemperatur 2024 um 1,6 Grad über dem vorindustriellen Niveau. Allein gegenüber dem Zeitraum von 1991 bis 2020 ist dies ein Anstieg um 0,72 Grad – in Europa sind es sogar 1,47 Grad. Jedes der zurückliegenden zehn Jahre seit 2015 zählt somit nun zu den zehn wärmsten Jahren seit Aufzeichnungsbeginn. Mit Ausnahme des Monats Juli war jeder einzelne Monat wärmer als die entsprechenden Monate vorangegangener Jahre, wobei August 2024 sich auf gleichem Niveau bewegte wie der der August 2023. Hohe Oberflächentemperaturen der Meere trugen wesentlich zu den Durchschnittstemperaturen bei. Weitere Rekordwerte, die der Bericht illustriert: Extremwetter traten in allen Regionen der Welt auf, die Ausdehnung und Menge des Meereises in der Arktis und der Antarktis lagen sehr deutlich unter dem Durchschnitt, die Menge Wasserdampf in der Atmosphäre liegt mittlerweile um fünf Prozent über der des Zeitraum 1991 bis 2020.\\n\\nDas SMC hat Forschende befragt, inwiefern die Entwicklungen des vergangenen Jahres überraschen beziehungsweise noch durch natürliche Variabilitäten zu erklären sind, inwieweit Klimamodelle diese Dynamik prognostiziert haben und inwiefern das 1,5-Grad-Ziel überhaupt noch in Reichweite bleibt.\\n\\nDr. Thorsten Mauritsen\\nDozent im Forschungsbereich Global Atmospheric Dynamics, Department of Meteorology (MISU', 'ent im Forschungsbereich Global Atmospheric Dynamics, Department of Meteorology (MISU), Stockholm University , Schweden, und früher am MPI für Meteorologie Hamburg, Schweden\\n\\n„Die globale Durchschnittstemperatur hat im Jahr 2024 zum ersten Mal mit Sicherheit 1,5 Grad über den frühindustriellen Temperaturen gelegen. Der Hauptgrund dafür ist die durch die Verbrennung fossiler Brennstoffe verursachte Anreicherung von Kohlendioxid in der Atmosphäre in Verbindung mit einem starken El-Niño-Ereignis, das im Winter zwischen 2023 und 2024 seinen Höhepunkt erreichte.“\\n„El Niño ist ein natürliches Phänomen im Pazifischen Ozean, das in unregelmäßigen Abständen auftritt und seinen Höhepunkt im Winter um Weihnachten herum erreicht. Normalerweise führt es zu einem Anstieg der globalen Durchschnittstemperatur für ein bis zwei Jahre. Da die Treibhausgase die globale Durchschnittstemperatur stetig in die Höhe treiben, sind Jahre mit El Niño in der Regel auch Rekordjahre, dadurch dass sie den ständig steigenden Trend um einige Zehntel Grad verstärken.“\\n„Dass die globale Durchschnittstemperatur in den 2020er Jahren 1,5 Grad über der frühindustriellen Temperatur liegen könnte, wurde in dem 2021 veröffentlichten IPCC-Bericht prognostiziert https://www.ipcc.ch/report/ar6/wg1/chapter/chapter-4/[1]. In diesem Bericht stellten die Autoren fest, dass bis 2030 die Wahrscheinlichkeit etwa 50 Prozent beträgt, dass einzelne Jahre die 1'], retrieval_context=None, additional_metadata={'evolutions': ['Constrained'], 'synthetic_input_quality': 0.6}, comments=None, tools_called=None, expected_tools=None, source_file='data/example_data/10_Copernicus-Report_ 2024 war 1_6 Grad wärmer als vo.txt', name=None, custom_column_key_values=None),\n",
       " Golden(input='Wie kann ich einem überzeugten Verschwörungstheoretiker erklären, warum wissenschaftliche Beweise wichtig sind, ohne dass er sich angegriffen fühlt?', actual_output=None, expected_output='Um einem überzeugten Verschwörungstheoretiker die Wichtigkeit wissenschaftlicher Beweise zu erklären, ist es wichtig, empathisch und auf seine konkreten Überzeugungen einzugehen. Die Studie zeigt, dass personalisierte Ansätze erfolgreicher sind, da generische Argumente oft nicht überzeugen (belegt durch den Hinweis auf die in der Konversation fokussierten Überzeugungen der Individuen). \\n\\n1. **Empathie zeigen**: Beginnen Sie das Gespräch, indem Sie Verständnis für seine Sichtweise zeigen. Dies schafft eine vertrauensvolle Atmosphäre.\\n  \\n2. **Konkrete Beispiele**: Verwenden Sie spezifische wissenschaftliche Beweise, die für seine Überzeugungen relevant sind, und erklären Sie deren Bedeutung im Alltag. \\n\\n3. **Rationale Argumente**: Erläutern Sie, dass Wissenschaft darauf abzielt, durch überprüfbare und wiederholbare Experimente objektive Wahrheiten zu finden (entsprechend der Annahme, dass Menschen auf gute Argumente reagieren).\\n\\n4. **Langsame Einführung**: Stellen Sie fest, dass Änderungen von Überzeugungen Zeit benötigen, und bieten Sie Informationen schrittweise an, um Überforderung zu vermeiden (unterstützt durch die Erkenntnisse über den langen Prozess der Entstehung von Überzeugungen).\\n\\nDurch diesen Ansatz können Sie ihm auf eine respektvolle Weise die Bedeutung wissenschaftlicher Beweise näherbringen.', context=['örungstheoretischer Überzeugungen zu führen.“\\n„Die Studie scheint mir vor allem deshalb interessant, weil sie belegt, dass man Menschen mit verschwörungstheoretischen Überzeugungen erreichen kann, wenn man auf ihre konkreten Überzeugungen eingeht. Das ist keine Strategie, die man zwangsweise an ein KI-Modell delegieren muss.“\\n\\nMechanismus der Intervention: \\n„Die Frage, warum die Intervention bei manchen Personen erfolgreicher ist als bei anderen, kann die Studie nicht beantworten. Es erscheint jedoch plausibel, davon auszugehen, dass die Intervention deshalb gut funktioniert, weil in der Konversation mit dem KI-Chatbot auf die konkreten Überzeugungen der einzelnen Individuen eingegangen wird. Die Personen werden also nicht mit generischen und allgemein gehaltenen Gegenargumenten abgespeist. Gleichzeitig ist die Entstehung verschwörungstheoretischer Überzeugungen ein längerer Prozess: Deshalb ist es auch nicht überraschend, dass eine verhältnismäßig kurze Intervention zwar Wirkung zeigt, verschwörungstheoretische Überzeugungen aber nicht vollständig beseitigen kann.“\\n\\n„Wie die Ergebnisse dieser Laborstudien in alltagstaugliche Interventionen übersetzt werden können, scheint mir eine offene Frage zu sein. Hier wird es viel Kreativität und weitere Forschungen brauchen. Erschwerend kommt hinzu, dass die Studie naturgemäß nur solche Personen', 'en und ihrer Überzeugungskraft durchführen.“\\n\\nMechanismus der Intervention: \\n„Bezogen auf den eigentlichen Mechanismus bleibt die Studie recht unklar. Es wird davon ausgegan\\xadgen, dass große Sprachmodelle einfach sehr gute Argumente bringen und dass Menschen sich letztlich rational überzeugen lassen. Das ist natürlich nicht völlig abwegig. Manche Menschen lassen sich in manchen Situationen durch manche Argumente vernünftig überzeugen. Aber das ist ja nur ein klei\\xadner Ausschnitt der Wege, wie Menschen ihre Einstellungen ändern.“\\n„Die Studie nennt dann noch einige weitere Faktoren wie zum Beispiel die Einstellung zu KI, aber letztlich sagen diese Faktoren nicht sehr viel darüber aus, was genau ein Mechanismus ist, mit dem man Verschwö\\xadrungstheoretiker*innen überzeugen könnte. Hingegen wird die bisherige, ja durchaus systematische Forschung dazu, warum Menschen an Verschwörungstheorien glauben, als ‚conventional wisdom‘ abgetan.“\\n\\n„Vielleicht fehlt mir die Fantasie, aber ich sehe ehrlich gesagt wenige Anwendungsszenarien, die nicht ein wenig unrealistisch oder dystopisch sind. Wollen Verschwörungstheoretiker*innen mit Chatbots diskutieren? Manche haben vielleicht ein gewisses Überlegenheitsgefühl und würden sich spielerisch mit einer KI messen wollen. Aber als substanzieller Beitrag, um das Problem gefährlicher', 'r‘ empfinden. Solche Änderungen sind eher Artefakte, die durch die experimentalpsychologische Situation zustande kommen und keine wirkliche Meinungsänderung bedeuten müssen. Beeindruckend ist in diesem Fall jedoch vor allem der Nachweis, dass diese Meinungsänderung auch nach zwei Monaten noch nachweisbar ist. Ebenfalls beeindruckend – und vor dem Hintergrund der oft diskutierten Halluzinationen von generativen KI-Systemen erstaunlich – ist die Analyse, dass über 99 Prozent der vom KI-System vorgebrachten Fakten korrekt waren.“\\n„Anders als in der Einleitung adressiert, ist aufgrund der Daten nicht abzuleiten, dass stark in Verschwörungstheorie-Glauben verstrickte Personen von der KI überzeugt werden, da zumindest das erste Versuchsdesign eher normale Bevölkerungsmitglieder abbildet, die zwar zu etwa 80 Prozent angeben, spezifische Verschwörungstheorien zu glauben, aber voraussichtlich eher geringe Überzeugungen hegen.“\\n\\nMechanismus der Intervention: \\n„Es ist unklar, ob es sich um einen spezifischen Effekt eines KI-Chatbots handelt, oder ob der Effekt womöglich auch durch einen Dialog mit anderen Menschen ausgelöst werden kann. Ein diesbezüglicher Hinweis lässt sich allerdings aus der Tatsache ableiten, dass diejenigen, die ein stärkeres Vertrauen in generative KI haben, stärker ihre Meinung ändern. Dies deutet darau'], retrieval_context=None, additional_metadata={'evolutions': ['Hypothetical'], 'synthetic_input_quality': 0.7}, comments=None, tools_called=None, expected_tools=None, source_file='data/example_data/10_Copernicus-Report_ 2024 war 1_6 Grad wärmer als vo.txt', name=None, custom_column_key_values=None),\n",
       " Golden(input='Warum ist es so, dass die KI-Intervention bei einigen Menschen besser funktioniert als bei anderen? Gibt es bestimmte Faktoren, die das beeinflussen?', actual_output=None, expected_output='Die Studie kann nicht eindeutig klären, warum die KI-Intervention bei manchen Personen erfolgreicher ist. Es wird jedoch angenommen, dass der spezifische Erfolg darin liegt, dass auf die individuellen Überzeugungen eingegangen wird, anstatt mit allgemeinen Gegenargumenten zu reagieren. Ein weiterer Faktor könnte das Vertrauen in generative KI sein, da Personen mit höherem Vertrauen eher ihre Meinung ändern. \\n\\nZusammenfassend:\\n1. Individuelle Ansprache der Überzeugungen ist entscheidend.\\n2. Vertrauen in KI kann die Effektivität der Intervention beeinflussen.', context=['örungstheoretischer Überzeugungen zu führen.“\\n„Die Studie scheint mir vor allem deshalb interessant, weil sie belegt, dass man Menschen mit verschwörungstheoretischen Überzeugungen erreichen kann, wenn man auf ihre konkreten Überzeugungen eingeht. Das ist keine Strategie, die man zwangsweise an ein KI-Modell delegieren muss.“\\n\\nMechanismus der Intervention: \\n„Die Frage, warum die Intervention bei manchen Personen erfolgreicher ist als bei anderen, kann die Studie nicht beantworten. Es erscheint jedoch plausibel, davon auszugehen, dass die Intervention deshalb gut funktioniert, weil in der Konversation mit dem KI-Chatbot auf die konkreten Überzeugungen der einzelnen Individuen eingegangen wird. Die Personen werden also nicht mit generischen und allgemein gehaltenen Gegenargumenten abgespeist. Gleichzeitig ist die Entstehung verschwörungstheoretischer Überzeugungen ein längerer Prozess: Deshalb ist es auch nicht überraschend, dass eine verhältnismäßig kurze Intervention zwar Wirkung zeigt, verschwörungstheoretische Überzeugungen aber nicht vollständig beseitigen kann.“\\n\\n„Wie die Ergebnisse dieser Laborstudien in alltagstaugliche Interventionen übersetzt werden können, scheint mir eine offene Frage zu sein. Hier wird es viel Kreativität und weitere Forschungen brauchen. Erschwerend kommt hinzu, dass die Studie naturgemäß nur solche Personen', 'en und ihrer Überzeugungskraft durchführen.“\\n\\nMechanismus der Intervention: \\n„Bezogen auf den eigentlichen Mechanismus bleibt die Studie recht unklar. Es wird davon ausgegan\\xadgen, dass große Sprachmodelle einfach sehr gute Argumente bringen und dass Menschen sich letztlich rational überzeugen lassen. Das ist natürlich nicht völlig abwegig. Manche Menschen lassen sich in manchen Situationen durch manche Argumente vernünftig überzeugen. Aber das ist ja nur ein klei\\xadner Ausschnitt der Wege, wie Menschen ihre Einstellungen ändern.“\\n„Die Studie nennt dann noch einige weitere Faktoren wie zum Beispiel die Einstellung zu KI, aber letztlich sagen diese Faktoren nicht sehr viel darüber aus, was genau ein Mechanismus ist, mit dem man Verschwö\\xadrungstheoretiker*innen überzeugen könnte. Hingegen wird die bisherige, ja durchaus systematische Forschung dazu, warum Menschen an Verschwörungstheorien glauben, als ‚conventional wisdom‘ abgetan.“\\n\\n„Vielleicht fehlt mir die Fantasie, aber ich sehe ehrlich gesagt wenige Anwendungsszenarien, die nicht ein wenig unrealistisch oder dystopisch sind. Wollen Verschwörungstheoretiker*innen mit Chatbots diskutieren? Manche haben vielleicht ein gewisses Überlegenheitsgefühl und würden sich spielerisch mit einer KI messen wollen. Aber als substanzieller Beitrag, um das Problem gefährlicher', 'r‘ empfinden. Solche Änderungen sind eher Artefakte, die durch die experimentalpsychologische Situation zustande kommen und keine wirkliche Meinungsänderung bedeuten müssen. Beeindruckend ist in diesem Fall jedoch vor allem der Nachweis, dass diese Meinungsänderung auch nach zwei Monaten noch nachweisbar ist. Ebenfalls beeindruckend – und vor dem Hintergrund der oft diskutierten Halluzinationen von generativen KI-Systemen erstaunlich – ist die Analyse, dass über 99 Prozent der vom KI-System vorgebrachten Fakten korrekt waren.“\\n„Anders als in der Einleitung adressiert, ist aufgrund der Daten nicht abzuleiten, dass stark in Verschwörungstheorie-Glauben verstrickte Personen von der KI überzeugt werden, da zumindest das erste Versuchsdesign eher normale Bevölkerungsmitglieder abbildet, die zwar zu etwa 80 Prozent angeben, spezifische Verschwörungstheorien zu glauben, aber voraussichtlich eher geringe Überzeugungen hegen.“\\n\\nMechanismus der Intervention: \\n„Es ist unklar, ob es sich um einen spezifischen Effekt eines KI-Chatbots handelt, oder ob der Effekt womöglich auch durch einen Dialog mit anderen Menschen ausgelöst werden kann. Ein diesbezüglicher Hinweis lässt sich allerdings aus der Tatsache ableiten, dass diejenigen, die ein stärkeres Vertrauen in generative KI haben, stärker ihre Meinung ändern. Dies deutet darau'], retrieval_context=None, additional_metadata={'evolutions': ['Multi-context'], 'synthetic_input_quality': 0.5}, comments=None, tools_called=None, expected_tools=None, source_file='data/example_data/10_Copernicus-Report_ 2024 war 1_6 Grad wärmer als vo.txt', name=None, custom_column_key_values=None),\n",
       " Golden(input='Wie unterscheiden sich die Methoden, die Sprachmodelle in der Genomforschung für Prokaryoten und Eukaryoten verwenden? Gibt es da spezielle Ansätze, die man beachten sollte?', actual_output=None, expected_output='Die Methoden zur Anwendung von Sprachmodellen in der Genomforschung differenzieren sich erheblich zwischen Prokaryoten und Eukaryoten. \\n\\n1. **Prokaryonten**: \\n   - Sprachmodelle, wie Evo, wurden hauptsächlich auf mikrobielle Genomdaten trainiert. Diese Modelle lernen komplexe Zusammenhänge effizient und können daher weitreichende Vorhersagen über bakterielle und virale Genome machen.\\n   - Aufgrund der Vielzahl und Vielfalt von Prokaryoten, ermöglicht dies ein tiefes Verständnis des genetischen Codes, was in der Untersuchung weniger erforschter Arten deutlich von Vorteil ist.\\n\\n2. **Eukaryoten**: \\n   - Die Anwendung auf Eukaryoten, insbesondere Säugetiere, ist herausfordernd. Der Grund liegt in der größeren Komplexität und der geringen Anzahl von Arten, was die Lernfähigkeit der Modelle einschränkt.\\n   - Es ist zu erwarten, dass einfache Trainingsansätze mit diesen Modellen nicht die gleiche Vorhersagekraft bieten wie bei Prokaryoten. Dennoch könnte die Kombination mit überwachten Lernansätzen neue Möglichkeiten eröffnen.\\n\\nZusammenfassend ist es wichtig, den unterschiedlichen Grad der Komplexität und die Lernfähigkeit zu berücksichtigen, wobei Prokaryoten derzeit klar im Vorteil sind.', context=['<br/>„Sprachmodelle werden die Genomforschung stark umkrempeln. Da diese Modelle sehr komplexe Zusammenhänge lernen können, ist in den nächsten Jahren mit sehr großen Sprüngen in vielen Forschungsbereichen zu rechnen. Wichtig ist es zu ergründen, was die Modelle eigentlich lernen. Damit allein werden wir Genomdaten deutlich tiefer verstehen als bisher. Aber diese Modelle können auch für viele Aufgaben angepasst werden und damit eine ganze Reihe von Forschungsfeldern beschleunigen, von Evolutionsbiologie zum Verstehen von Erbkrankheiten, Krebsentstehung und personalisierter Behandlung.“\\n\\nNeue Möglichkeiten für die Forschung: \\n„Im Tool steckt, was es eigentlich gelernt hat, um die Vorhersagen machen zu können. Wenn es uns gelingt diese Information zu extrahieren, werden wir viel darüber lernen wie Viren und Bakterien funktionieren. Dazu kann das Modell für viele weitere Fragen angepasst werden. Hier sind der Fantasie kaum Grenzen gesetzt: Jede Frage über einen Prozess, der von der DNA oder Proteinsequenz abhängt, kann im Prinzip mit so einem Modell adressiert werden.“\\n\\nMehrwert für Genom-Analysen aller Organismen: \\n„Evo wurde an mikrobiologischen Genomdaten trainiert, aber das Prinzip ist auf jegliche Genomdaten übertragbar. Es ist damit zu rechnen, dass bald ein Modell mit weiteren Genomdaten fol', 'ellen Daten von einer begrenzten Anzahl von Modellspezies stammen, zum Beispiel von Prokaryoten wie E. coli, könnten diese Werkzeuge unser Verständnis des derzeit nur unzureichend erforschten enorm vielfältigen genetischen Codes von anderen Prokaryoten, wirklich voranbringen. Wir gehen davon aus, dass diese Modelle derzeit den größten Mehrwert haben, wenn es um die Untersuchung von Arten, die noch nicht intensiv erforscht sind, und wenn es um die Evolution von genetischen Anweisungen, geht.“\\n\\nMehrwert für Genom-Analysen aller Organismen: \\n„Derzeit ist das Problem der Übertragbarkeit dieser Modelle auf Eukaryonten und insbesondere Säugetiere noch nicht gelöst. Die Genome von Säugetieren sind viel größer als die von Prokaryonten, es gibt viel weniger Säugetierarten und sie ähneln sich in der Regel auch stärker. Dies schränkt die Lernfähigkeit solcher Modelle ein. Deshalb wird ein einfaches Training von Evo mit Säugetieren wahrscheinlich kein nützliches Modell für die Vorhersage der Auswirkungen menschlicher Genome hervorbringen. Es wird jedoch wahrscheinlich Bereiche geben, in denen DNA-Sprachmodelle einen Mehrwert bieten können, insbesondere wenn sie mit überwachten Lernansätzen der KI-Modelle kombiniert werden. Außerdem schreitet das Feld sehr schnell voran.“\\n\\nPotenzial für Missbrauch: \\n<p class=\"smc', 'ischen Kontext, Codon Usage, oder Wechselwirkungen zwischen Proteinen und RNA/DNA. Evo wurde basierend auf Genomdaten von Bakterien und Viren trainiert. Das Gebiet entwickelt sich aktuell sehr schnell, und es gibt bereits genomische Sprachmodelle, die auf eukaryotischen Genomen und mit komplexeren Paradigmen trainiert wurden.“\\n\\nNeue Möglichkeiten für die Forschung: \\n„Genomische Sprachmodelle wie Evo könnten in Zukunft eine Grundlage für die Abbildung komplexer biologischer Systeme bilden. Sprachmodelle bieten daher eine vielversprechende Basis zur Entwicklung von Werkzeugen in Forschungsbereichen, die mit vereinfachenden Ansätzen heute nur unvollständig abgebildet werden können. Mögliche Anwendungsfelder sind vielfältig, zum Beispiel in der Entwicklung von neuen Wirkmechanismen gegen antibiotikaresistente Erreger oder in der Optimierung von Prozessen in der Biotechnologie.“\\n\\nMehrwert für Genom-Analysen aller Organismen: \\n„Viele grundlegende biochemische Prozesse lassen sich in bakteriellen Systemen gut beschreiben und auf eukaryotische Organismen übertragen, zum Beispiel dreidimensionale Strukturen von Enzymen oder Faltungsmuster von RNA-Molekülen. Hingegen ist nicht zu erwarten, dass mikrobielle Modelle komplexere Zusammenhänge erfassen, die im Laufe der Evolution erst in eukaryotischen und mehrzelligen Organismen entstanden sind. Moder'], retrieval_context=None, additional_metadata={'evolutions': ['Comparative'], 'synthetic_input_quality': 0.8}, comments=None, tools_called=None, expected_tools=None, source_file='data/example_data/10_Copernicus-Report_ 2024 war 1_6 Grad wärmer als vo.txt', name=None, custom_column_key_values=None),\n",
       " Golden(input='Wie helfen uns diese Modelle dabei, Erbkrankheiten und Krebs besser zu verstehen? Gibt es spezielle Beispiele, die das verdeutlichen?', actual_output=None, expected_output='Die Modelle helfen, Erbkrankheiten und Krebs besser zu verstehen, indem sie komplexe Zusammenhänge lernen, die tiefere Einblicke in Genomdaten ermöglichen. Laut dem Kontext können solche Modelle für viele Forschungsfragen angepasst werden, einschließlich der Mechanismen von Erbkrankheiten und Krebsentstehung. Beispielsweise könnte das Modell dazu beitragen, spezifische Genmutationen zu identifizieren, die mit diesen Krankheiten in Verbindung stehen, und neue therapeutische Ansätze zu entwickeln. \\n\\nZusammenfassend:\\n1. **Verständnis komplexer genetischer Zusammenhänge**: Modelle bieten Einblicke in die genetischen Grundlagen von Erbkrankheiten und Krebs.\\n2. **Anpassbarkeit**: Modelle können auf spezifische Fragen und Prozesse angewendet werden.\\n3. **Identifizierung von Mutationen**: Unterstützung bei der Entdeckung relevanter Genvarianten für gezielte Therapien. \\n\\nDiese Aspekte zeigen, wie genomische Sprachmodelle die Forschung in diesen Bereichen beschleunigen können.', context=['<br/>„Sprachmodelle werden die Genomforschung stark umkrempeln. Da diese Modelle sehr komplexe Zusammenhänge lernen können, ist in den nächsten Jahren mit sehr großen Sprüngen in vielen Forschungsbereichen zu rechnen. Wichtig ist es zu ergründen, was die Modelle eigentlich lernen. Damit allein werden wir Genomdaten deutlich tiefer verstehen als bisher. Aber diese Modelle können auch für viele Aufgaben angepasst werden und damit eine ganze Reihe von Forschungsfeldern beschleunigen, von Evolutionsbiologie zum Verstehen von Erbkrankheiten, Krebsentstehung und personalisierter Behandlung.“\\n\\nNeue Möglichkeiten für die Forschung: \\n„Im Tool steckt, was es eigentlich gelernt hat, um die Vorhersagen machen zu können. Wenn es uns gelingt diese Information zu extrahieren, werden wir viel darüber lernen wie Viren und Bakterien funktionieren. Dazu kann das Modell für viele weitere Fragen angepasst werden. Hier sind der Fantasie kaum Grenzen gesetzt: Jede Frage über einen Prozess, der von der DNA oder Proteinsequenz abhängt, kann im Prinzip mit so einem Modell adressiert werden.“\\n\\nMehrwert für Genom-Analysen aller Organismen: \\n„Evo wurde an mikrobiologischen Genomdaten trainiert, aber das Prinzip ist auf jegliche Genomdaten übertragbar. Es ist damit zu rechnen, dass bald ein Modell mit weiteren Genomdaten fol', 'ellen Daten von einer begrenzten Anzahl von Modellspezies stammen, zum Beispiel von Prokaryoten wie E. coli, könnten diese Werkzeuge unser Verständnis des derzeit nur unzureichend erforschten enorm vielfältigen genetischen Codes von anderen Prokaryoten, wirklich voranbringen. Wir gehen davon aus, dass diese Modelle derzeit den größten Mehrwert haben, wenn es um die Untersuchung von Arten, die noch nicht intensiv erforscht sind, und wenn es um die Evolution von genetischen Anweisungen, geht.“\\n\\nMehrwert für Genom-Analysen aller Organismen: \\n„Derzeit ist das Problem der Übertragbarkeit dieser Modelle auf Eukaryonten und insbesondere Säugetiere noch nicht gelöst. Die Genome von Säugetieren sind viel größer als die von Prokaryonten, es gibt viel weniger Säugetierarten und sie ähneln sich in der Regel auch stärker. Dies schränkt die Lernfähigkeit solcher Modelle ein. Deshalb wird ein einfaches Training von Evo mit Säugetieren wahrscheinlich kein nützliches Modell für die Vorhersage der Auswirkungen menschlicher Genome hervorbringen. Es wird jedoch wahrscheinlich Bereiche geben, in denen DNA-Sprachmodelle einen Mehrwert bieten können, insbesondere wenn sie mit überwachten Lernansätzen der KI-Modelle kombiniert werden. Außerdem schreitet das Feld sehr schnell voran.“\\n\\nPotenzial für Missbrauch: \\n<p class=\"smc', 'ischen Kontext, Codon Usage, oder Wechselwirkungen zwischen Proteinen und RNA/DNA. Evo wurde basierend auf Genomdaten von Bakterien und Viren trainiert. Das Gebiet entwickelt sich aktuell sehr schnell, und es gibt bereits genomische Sprachmodelle, die auf eukaryotischen Genomen und mit komplexeren Paradigmen trainiert wurden.“\\n\\nNeue Möglichkeiten für die Forschung: \\n„Genomische Sprachmodelle wie Evo könnten in Zukunft eine Grundlage für die Abbildung komplexer biologischer Systeme bilden. Sprachmodelle bieten daher eine vielversprechende Basis zur Entwicklung von Werkzeugen in Forschungsbereichen, die mit vereinfachenden Ansätzen heute nur unvollständig abgebildet werden können. Mögliche Anwendungsfelder sind vielfältig, zum Beispiel in der Entwicklung von neuen Wirkmechanismen gegen antibiotikaresistente Erreger oder in der Optimierung von Prozessen in der Biotechnologie.“\\n\\nMehrwert für Genom-Analysen aller Organismen: \\n„Viele grundlegende biochemische Prozesse lassen sich in bakteriellen Systemen gut beschreiben und auf eukaryotische Organismen übertragen, zum Beispiel dreidimensionale Strukturen von Enzymen oder Faltungsmuster von RNA-Molekülen. Hingegen ist nicht zu erwarten, dass mikrobielle Modelle komplexere Zusammenhänge erfassen, die im Laufe der Evolution erst in eukaryotischen und mehrzelligen Organismen entstanden sind. Moder'], retrieval_context=None, additional_metadata={'evolutions': ['Constrained'], 'synthetic_input_quality': 0.5}, comments=None, tools_called=None, expected_tools=None, source_file='data/example_data/10_Copernicus-Report_ 2024 war 1_6 Grad wärmer als vo.txt', name=None, custom_column_key_values=None),\n",
       " Golden(input='Was bedeutet es für das Klima und die zukünftigen Emissionen, wenn wir die 1,5-Grad-Grenze nicht einhalten? Welche konkreten Folgen könnten daraus entstehen?', actual_output=None, expected_output='Die Nichteinhaltung der 1,5-Grad-Grenze bedeutet gravierende Konsequenzen für das Klima und die zukünftigen Emissionen. Laut Prof. Dr. Jochem Marotzke wird die globale Temperatur voraussichtlich für viele Jahrzehnte, wahrscheinlich auch Jahrhunderte, über 1,5 Grad steigen. Die Prognose sieht vor, dass wir möglicherweise sogar mehr als 2 oder 3 Grad oder mehr über dem natürlichen Klima erleben werden, was zu schwerwiegenden globalen Folgen führen wird.\\n\\nZusätzlich wird betont, dass eine Stabilisierung der Temperaturen erst nach dem Ausstieg aus fossilen Brennstoffen eintreten kann, und dass langfristige Rückgänge der Temperaturen aufgrund der langen Lebensdauer von Kohlendioxid unrealistisch sind. Daher ist die schnellstmögliche Verringerung der Emissionen entscheidend, um schlimmere zukünftige Probleme zu vermeiden. Die physikalischen Herausforderungen für das 1,5-Grad-Ziel sind demnach größer denn je, während die politische Dringlichkeit zur Bekämpfung der Klimakrise steigt.', context=['wa 50 Prozent beträgt, dass einzelne Jahre die 1,5-Grad-Marke überschreiten, dass dies aber erstmals einige Jahre früher der Fall sein wird.“\\n„Erst nach dem Ausstieg aus der Nutzung fossiler Brennstoffe können wir mit einer Stabilisierung der globalen Temperaturen rechnen. Aber wegen der langen Lebensdauer von Kohlendioxid in der Atmosphäre wird die Temperatur in absehbarer Zeit nicht zurückgehen, sondern ungefähr auf dem Niveau bleiben, das sie bis zum Ausstieg aus den fossilen Brennstoffen erreicht hat – sei es bei zwei, drei oder vier Grad.“\\n\\n„Es gibt Ideen, wie wir Kohlendioxid künstlich aus der Atmosphäre entfernen können, aber ich halte es für höchst unrealistisch, dass wir solche Systeme so weit ausbauen können, dass die globale Erwärmung in absehbarer Zeit unter 1,5 Grad sinkt.“\\n„Ich denke, wir Wissenschaftler sollten einfach sagen, wie es ist: Wir haben das 1,5-Grad-Ziel verfehlt, und es gibt wirklich kein Zurück mehr. Wir sollten uns stattdessen darauf konzentrieren, die Emissionen fossiler Brennstoffe so schnell wie möglich auf Null zu reduzieren, um viel, viel schlimmere Probleme in der Zukunft zu vermeiden.“\\n\\nProf. Dr. Jochem Marotzke\\nDirektor der Forschungsabteilung Ozean im Erdsystem, Max-Planck-Institut für Meteorologie, Hamburg\\n\\n„Ich', 'ass wir in den nächsten Jahren ein deutlich klareres Bild davon bekommen dürften, wie das Klimasystem tatsächlich reagiert.“\\n\\n„Die Begrenzung der globalen Erwärmung auf 1,5 Grad ist lediglich in der Theorie noch zu schaffen. Würden wir von heute auf morgen dauerhaft keine zusätzlichen Treibhausgase mehr emittieren, würde sich die Temperatur mehr oder weniger sofort stabilisieren. Dabei würden sich eine nachträgliche Erwärmung der trägen Ozeane und ein allmählicher Rückgang der atmosphärischen Treibhausgaskonzentration – auch ohne künstliche CO2-Entnahme – zunächst in etwa ausgleichen. In diesem theoretischen Fall würde die 1,5-Grad-Marke also nicht langfristig überschritten, und die globalen Temperaturen würden nach einigen Jahren ganz allmählich wieder sinken. Preist man jedoch die gesellschaftliche Dimension einschließlich Wirtschaft und Politik mit ein, ist ein Szenario, welches mit der 1,5-Grad-Grenze vereinbar wäre, mittlerweile höchst unplausibel. Meines Wissens gibt es im Bereich der künstlichen CO2-Entnahme noch keine aussichtsreichen Kandidaten, die so schnell in so großem Maße eingesetzt werden könnten, dass sich daran maßgeblich etwas ändern würde.“\\n„An dieser Stelle möchte ich gern auch auf dieses Statement des Deutschen Klima-Konsortiums (DKK) hinweisen, an dem ', 'ben, ist mir nicht klar. Vielleicht waren sie sich dessen bewusst, aber es ist zu befürchten, dass die Politiker das Problem wirklich nicht voll verstanden haben und massiv unterschätzen.“\\n„Wir werden auf jeden Fall für viele Jahrzehnte bis Jahrhunderte um mehr als 1,5 Grad über dem natürlichen Klima erleben, aller Wahrscheinlichkeit auch mehr als 2 Grad und es ist zu befürchten, dass es sogar mehr als 3 Grad werden. Die Folgen werden global schwerwiegend sein und wir müssen alle Anstrengungen machen diese Klimaveränderungen zu minimieren.“\\n\\nProf. Dr. Johanna Baehr\\nProfessorin, Leiterin Klimamodellierung, Institut für Meereskunde, Centrum für Erdsystemforschung und Nachhaltigkeit (CEN), Universität Hamburg\\n\\n„Diese Entwicklung ist so erwartbar wie ernst. 2024 war geprägt durch regionale Temperaturanomalien – nicht zuletzt El Niño – und Extremereignisse. Das bildet sich in den Monats- und im Jahresmittel der globalen Temperatur ab. 2024 schließt in dieser Entwicklung an 2023 an. 2024 gibt einen Vorgeschmack auf das Klimageschehen bei 1,5 Grad Erderwärmung.“\\n\\n„Physikalisch ist das Ziel, die Erderwärmung auf 1,5 Grad zu begrenzen, unerreichbarer denn je. Politisch ist das 1,5-Grad-Ziel ernstzunehmender denn je.“\\n„Wer denkt, dass 1,5-Grad-Ziel jetzt abschreiben zu könn'], retrieval_context=None, additional_metadata={'evolutions': ['Reasoning'], 'synthetic_input_quality': 0.8}, comments=None, tools_called=None, expected_tools=None, source_file='data/example_data/10_Copernicus-Report_ 2024 war 1_6 Grad wärmer als vo.txt', name=None, custom_column_key_values=None),\n",
       " Golden(input='Erwartet man, dass die Temperaturen auf der Erde in den nächsten Jahren steigen werden, weil wir weiterhin fossile Brennstoffe nutzen? Was sind die genauen Gründe dafür?', actual_output=None, expected_output='Ja, die Temperaturen auf der Erde werden in den nächsten Jahren voraussichtlich steigen, solange fossile Brennstoffe genutzt werden. \\n\\n1. **Langfristige Auswirkungen von CO2**: CO2 hat eine lange Lebensdauer in der Atmosphäre. Selbst nach einem vollständigen Ausstieg aus fossilen Brennstoffen bleibt die Temperatur vorläufig stabil, basierend auf den Emissionen bis zu diesem Zeitpunkt (Marotzke).\\n\\n2. **Fehlendes 1,5-Grad-Ziel**: Das 1,5-Grad-Ziel ist theoretisch noch erreichbar, aber durch politische und gesellschaftliche Faktoren als höchst unplausibel einzustufen. Es wird angenommen, dass die globale Erwärmung in absehbarer Zeit weit über 1,5 Grad liegen wird (Baehr).\\n\\n3. **Extreme Wetterereignisse**: Die Nutzung fossiler Brennstoffe trägt zu regionalen Temperaturanomalien und Extremereignissen bei, die sich in den globalen Temperaturen widerspiegeln (Baehr).\\n\\nInsgesamt bedeutet die fortgesetzte Nutzung fossiler Brennstoffe eine Erhöhung der globalen Temperaturen mit schwerwiegenden Konsequenzen.', context=['wa 50 Prozent beträgt, dass einzelne Jahre die 1,5-Grad-Marke überschreiten, dass dies aber erstmals einige Jahre früher der Fall sein wird.“\\n„Erst nach dem Ausstieg aus der Nutzung fossiler Brennstoffe können wir mit einer Stabilisierung der globalen Temperaturen rechnen. Aber wegen der langen Lebensdauer von Kohlendioxid in der Atmosphäre wird die Temperatur in absehbarer Zeit nicht zurückgehen, sondern ungefähr auf dem Niveau bleiben, das sie bis zum Ausstieg aus den fossilen Brennstoffen erreicht hat – sei es bei zwei, drei oder vier Grad.“\\n\\n„Es gibt Ideen, wie wir Kohlendioxid künstlich aus der Atmosphäre entfernen können, aber ich halte es für höchst unrealistisch, dass wir solche Systeme so weit ausbauen können, dass die globale Erwärmung in absehbarer Zeit unter 1,5 Grad sinkt.“\\n„Ich denke, wir Wissenschaftler sollten einfach sagen, wie es ist: Wir haben das 1,5-Grad-Ziel verfehlt, und es gibt wirklich kein Zurück mehr. Wir sollten uns stattdessen darauf konzentrieren, die Emissionen fossiler Brennstoffe so schnell wie möglich auf Null zu reduzieren, um viel, viel schlimmere Probleme in der Zukunft zu vermeiden.“\\n\\nProf. Dr. Jochem Marotzke\\nDirektor der Forschungsabteilung Ozean im Erdsystem, Max-Planck-Institut für Meteorologie, Hamburg\\n\\n„Ich', 'ass wir in den nächsten Jahren ein deutlich klareres Bild davon bekommen dürften, wie das Klimasystem tatsächlich reagiert.“\\n\\n„Die Begrenzung der globalen Erwärmung auf 1,5 Grad ist lediglich in der Theorie noch zu schaffen. Würden wir von heute auf morgen dauerhaft keine zusätzlichen Treibhausgase mehr emittieren, würde sich die Temperatur mehr oder weniger sofort stabilisieren. Dabei würden sich eine nachträgliche Erwärmung der trägen Ozeane und ein allmählicher Rückgang der atmosphärischen Treibhausgaskonzentration – auch ohne künstliche CO2-Entnahme – zunächst in etwa ausgleichen. In diesem theoretischen Fall würde die 1,5-Grad-Marke also nicht langfristig überschritten, und die globalen Temperaturen würden nach einigen Jahren ganz allmählich wieder sinken. Preist man jedoch die gesellschaftliche Dimension einschließlich Wirtschaft und Politik mit ein, ist ein Szenario, welches mit der 1,5-Grad-Grenze vereinbar wäre, mittlerweile höchst unplausibel. Meines Wissens gibt es im Bereich der künstlichen CO2-Entnahme noch keine aussichtsreichen Kandidaten, die so schnell in so großem Maße eingesetzt werden könnten, dass sich daran maßgeblich etwas ändern würde.“\\n„An dieser Stelle möchte ich gern auch auf dieses Statement des Deutschen Klima-Konsortiums (DKK) hinweisen, an dem ', 'ben, ist mir nicht klar. Vielleicht waren sie sich dessen bewusst, aber es ist zu befürchten, dass die Politiker das Problem wirklich nicht voll verstanden haben und massiv unterschätzen.“\\n„Wir werden auf jeden Fall für viele Jahrzehnte bis Jahrhunderte um mehr als 1,5 Grad über dem natürlichen Klima erleben, aller Wahrscheinlichkeit auch mehr als 2 Grad und es ist zu befürchten, dass es sogar mehr als 3 Grad werden. Die Folgen werden global schwerwiegend sein und wir müssen alle Anstrengungen machen diese Klimaveränderungen zu minimieren.“\\n\\nProf. Dr. Johanna Baehr\\nProfessorin, Leiterin Klimamodellierung, Institut für Meereskunde, Centrum für Erdsystemforschung und Nachhaltigkeit (CEN), Universität Hamburg\\n\\n„Diese Entwicklung ist so erwartbar wie ernst. 2024 war geprägt durch regionale Temperaturanomalien – nicht zuletzt El Niño – und Extremereignisse. Das bildet sich in den Monats- und im Jahresmittel der globalen Temperatur ab. 2024 schließt in dieser Entwicklung an 2023 an. 2024 gibt einen Vorgeschmack auf das Klimageschehen bei 1,5 Grad Erderwärmung.“\\n\\n„Physikalisch ist das Ziel, die Erderwärmung auf 1,5 Grad zu begrenzen, unerreichbarer denn je. Politisch ist das 1,5-Grad-Ziel ernstzunehmender denn je.“\\n„Wer denkt, dass 1,5-Grad-Ziel jetzt abschreiben zu könn'], retrieval_context=None, additional_metadata={'evolutions': ['Multi-context'], 'synthetic_input_quality': 0.5}, comments=None, tools_called=None, expected_tools=None, source_file='data/example_data/10_Copernicus-Report_ 2024 war 1_6 Grad wärmer als vo.txt', name=None, custom_column_key_values=None),\n",
       " Golden(input='Wie beeinflussen niedrige Windenergieerträge die Strompreise und die Versorgungssicherheit in Deutschland? Gibt es da einen Zusammenhang?', actual_output=None, expected_output='Niedrige Windenergieerträge führen zu hohen Strompreisen, insbesondere während Dunkelflauten. Am 15.01.2025 erreichten die Strompreise an der EEX etwa 378 Euro pro Megawattstunde, was einen starken Anstieg im Vergleich zu 79 Euro pro Megawattstunde im Jahr 2024 darstellt. Dies geschieht, weil die Einspeisung von Wind- und PV-Anlagen stark zurückgeht, was die Abhängigkeit von fossilen Brennstoffen und steuerbaren Kraftwerken erhöht. \\n\\nDie Versorgungssicherheit ist aktuell jedoch gewährleistet, da Deutschland über ausreichend steuerbare Kraftwerke verfügt. Diese sind größtenteils Kohlekraftwerke, die bis 2030 stillgelegt werden sollen, was langfristig einen Ersatz durch Gaskraftwerke erfordert. Ohne klare politische Strategien, wie die Kraftwerksstrategie, wird es jedoch schwer möglich sein, diese Lücken zu schließen. Die bevorstehende Bundesregierung muss daher schnell handeln, um Investitionen in Back-up Kapazitäten zu ermöglichen.', context=['TITLE: Dunkelflauten: Wie hohe Strompreise gesenkt werden könnten\\n================================================================================\\n• Deutschland erlebt heute eine kurze Dunkelflaute mit sehr geringer Einspeisung durch Windenergieanlagen\\n• der Stromertrag aus Wind- und Photovoltaikanlagen könnte auch in den kommenden Tagen gering ausfallen\\n• Forschende: Strompreise an der Börse sind hoch, fallen aber für meiste Haushalte nicht ins Gewicht; mit Eingriffen in den Strommarkt muss man vorsichtig sein\\n\\nAm 15.01.2025 fiel die Stromernte von Wind- und Photovoltaik-Anlagen (PV) sehr gering aus. Solarstrom erreichte nur eine Spitze von rund 4,6 Gigawatt (GW) am Mittag https://www.energy-charts.info/charts/power_forecast/chart.htm?l=de&amp;c=DE&amp;dataType=solar&amp;week=03[I], das sind etwas weniger als vier Prozent der installierten Leistung. Auf einen ähnlichen Anteil fiel bis etwa 18 Uhr der Ertrag von Onshore-Windrädern (circa 2,1 GW), Wind auf See fiel zur gleichen Zeit auf 0,1 GW, etwas über einem Prozent der installierten Offshore-Leistung; das alles ist deutlich weniger als die langjährigen Mittelwerte https://sciencemediacenter.de/angebote/24001[II]. Das ist ein Tiefpunkt, wie wir ihn auch in unserem Fact Sheets zu Dunkelflauten beschrieben haben https://sciencemediacenter.de/angebote/21226[III]. Entsprechend hoch fielen die Strompreise der Day-Ahead', ' Entsprechend hoch fielen die Strompreise der Day-Ahead-Auktion an der Strombörse EEX aus, sie erreichten knapp 378 Euro pro Megawattstunde (rund 38 Cent/kWh) https://www.energy-charts.info/charts/price_spot_market/chart.htm?l=de&amp;c=DE&amp;legendItems=4x0lg&amp;week=03&amp;year=2025[IV]. Zum Vergleich: 2024 lag der Börsenstrompreis im Jahresschnitt bei etwa 79 Euro pro Megawattstunde https://www.energy-charts.info/charts/price_average/chart.htm?l=de&amp;c=DE&amp;year=2024&amp;interval=year[V]. Auf diese Beinahe-Flaute könnte noch eine längere Phase mit wenig erneuerbarem Strom folgen: Energie-Meteorologen sehen offenbar Hinweise, dass auch in den kommenden Tagen die Ausbeute von Wind- und PV-Anlagen ähnlich gering ausfallen könnte https://www.energie-und-management.de/nachrichten/suche/detail/dunkelflaute-treibt-strompreise-in-die-hoehe-248592[VI].\\n\\nWie sich solche Preise auf Verbraucher und die Wirtschaft auswirken können und ob hier Handlungsbedarf für die Politik besteht, hat das SMC Forschende gefragt.\\n\\nDenn ein Problem für die Versorgungssicherheit ist die Lage nicht: Deutschland hat derzeit genug steuerbare Kraftwerke, um solche Phasen durchzustehen, ein hoher Anteil davon ist offenbar aktiv, wobei in den kommenden Tagen sogar noch etwas mehr Leistung in Bet', ' kommenden Tagen sogar noch etwas mehr Leistung in Betrieb gehen soll https://www.eex-transparency.com/power/de/production/capacity[VII]. Viele davon sind jedoch Kohlekraftwerke, die nach Möglichkeit bis 2030 stillgelegt werden sollen. Das wird ohne Ersatz, vor allem durch Gaskraftwerke, jedoch kaum möglich sein https://www.youtube.com/watch?v=OWKjbnt15LA&amp;t=1272s[VIII]. Der Ersatz sollte geregelt werden durch die Kraftwerksstrategie, die schon im Herbst 2023 erwartet https://www.sciencemediacenter.de/angebote/kraftwerksstrategie-flexiblere-verbraucher-oder-mehr-kraftwerke--was-hilft-bei-dunkelflauten-23174[IX], jedoch nicht umgesetzt wurde. Die kommende Bundesregierung wird hier schnell Entscheidungen treffen müssen, damit die Industrie schnell in Back-up Kapazitäten investieren kann https://sciencemediacenter.de/angebote/24166[VIII]. Mehr SMC-Angebote zu diesem Thema finden sie auf der https://www.sciencemediacenter.de/angebote/themen/dunkelflauteThemenseite Dunkelflaute auf unserer Homepage.\\n\\nDr. Wolf-Peter Schill\\nLeiter des Forschungsbereichs „Transformation der Energiewirtschaft“ in der Abteilung Energie, Verkehr, Umwelt, Deutsches Institut für Wirtschaftsforschung (DIW), Berlin\\n\\nEinfluss hoher Preise an der Strombörse in Schwachwindzeiten auf Verbraucherpreis: \\n„Für die allermeisten Haushalts'], retrieval_context=None, additional_metadata={'evolutions': ['Constrained'], 'synthetic_input_quality': 0.7}, comments=None, tools_called=None, expected_tools=None, source_file='data/example_data/10_Copernicus-Report_ 2024 war 1_6 Grad wärmer als vo.txt', name=None, custom_column_key_values=None),\n",
       " Golden(input='Wie beeinflussen die hohen Strompreise in Deutschland die Haushalte und die Wirtschaft? Gibt es bestimmte Gruppen, die stärker betroffen sind?', actual_output=None, expected_output='Die hohen Strompreise in Deutschland beeinflussen Haushalte und Wirtschaft nur indirekt, da die meisten Haushalte nicht direkt von den Börsenpreisen betroffen sind. Die Strompreise an der Börse sind hoch, steigen aber nicht notwendigerweise für alle Verbraucher. Laut Dr. Wolf-Peter Schill sind die Auswirkungen auf die Verbraucherpreise für die allermeisten Haushalte kaum spürbar. \\n\\nAllerdings könnten bestimmte Gruppen, wie industrielle Verbraucher oder einkommensschwächere Haushalte, stärker betroffen sein, da sie möglicherweise einen größeren Anteil ihres Budgets für Energie ausgeben müssen oder größere Mengen Strom verbrauchen. Es besteht Handlungsbedarf, insbesondere weil die Politik Entscheidungen treffen muss, um die Energieversorgung in Phasen niedriger Einspeisung zu sichern (vgl. Forschungsbereich „Transformation der Energiewirtschaft“, DIW Berlin).', context=['TITLE: Dunkelflauten: Wie hohe Strompreise gesenkt werden könnten\\n================================================================================\\n• Deutschland erlebt heute eine kurze Dunkelflaute mit sehr geringer Einspeisung durch Windenergieanlagen\\n• der Stromertrag aus Wind- und Photovoltaikanlagen könnte auch in den kommenden Tagen gering ausfallen\\n• Forschende: Strompreise an der Börse sind hoch, fallen aber für meiste Haushalte nicht ins Gewicht; mit Eingriffen in den Strommarkt muss man vorsichtig sein\\n\\nAm 15.01.2025 fiel die Stromernte von Wind- und Photovoltaik-Anlagen (PV) sehr gering aus. Solarstrom erreichte nur eine Spitze von rund 4,6 Gigawatt (GW) am Mittag https://www.energy-charts.info/charts/power_forecast/chart.htm?l=de&amp;c=DE&amp;dataType=solar&amp;week=03[I], das sind etwas weniger als vier Prozent der installierten Leistung. Auf einen ähnlichen Anteil fiel bis etwa 18 Uhr der Ertrag von Onshore-Windrädern (circa 2,1 GW), Wind auf See fiel zur gleichen Zeit auf 0,1 GW, etwas über einem Prozent der installierten Offshore-Leistung; das alles ist deutlich weniger als die langjährigen Mittelwerte https://sciencemediacenter.de/angebote/24001[II]. Das ist ein Tiefpunkt, wie wir ihn auch in unserem Fact Sheets zu Dunkelflauten beschrieben haben https://sciencemediacenter.de/angebote/21226[III]. Entsprechend hoch fielen die Strompreise der Day-Ahead', ' Entsprechend hoch fielen die Strompreise der Day-Ahead-Auktion an der Strombörse EEX aus, sie erreichten knapp 378 Euro pro Megawattstunde (rund 38 Cent/kWh) https://www.energy-charts.info/charts/price_spot_market/chart.htm?l=de&amp;c=DE&amp;legendItems=4x0lg&amp;week=03&amp;year=2025[IV]. Zum Vergleich: 2024 lag der Börsenstrompreis im Jahresschnitt bei etwa 79 Euro pro Megawattstunde https://www.energy-charts.info/charts/price_average/chart.htm?l=de&amp;c=DE&amp;year=2024&amp;interval=year[V]. Auf diese Beinahe-Flaute könnte noch eine längere Phase mit wenig erneuerbarem Strom folgen: Energie-Meteorologen sehen offenbar Hinweise, dass auch in den kommenden Tagen die Ausbeute von Wind- und PV-Anlagen ähnlich gering ausfallen könnte https://www.energie-und-management.de/nachrichten/suche/detail/dunkelflaute-treibt-strompreise-in-die-hoehe-248592[VI].\\n\\nWie sich solche Preise auf Verbraucher und die Wirtschaft auswirken können und ob hier Handlungsbedarf für die Politik besteht, hat das SMC Forschende gefragt.\\n\\nDenn ein Problem für die Versorgungssicherheit ist die Lage nicht: Deutschland hat derzeit genug steuerbare Kraftwerke, um solche Phasen durchzustehen, ein hoher Anteil davon ist offenbar aktiv, wobei in den kommenden Tagen sogar noch etwas mehr Leistung in Bet', ' kommenden Tagen sogar noch etwas mehr Leistung in Betrieb gehen soll https://www.eex-transparency.com/power/de/production/capacity[VII]. Viele davon sind jedoch Kohlekraftwerke, die nach Möglichkeit bis 2030 stillgelegt werden sollen. Das wird ohne Ersatz, vor allem durch Gaskraftwerke, jedoch kaum möglich sein https://www.youtube.com/watch?v=OWKjbnt15LA&amp;t=1272s[VIII]. Der Ersatz sollte geregelt werden durch die Kraftwerksstrategie, die schon im Herbst 2023 erwartet https://www.sciencemediacenter.de/angebote/kraftwerksstrategie-flexiblere-verbraucher-oder-mehr-kraftwerke--was-hilft-bei-dunkelflauten-23174[IX], jedoch nicht umgesetzt wurde. Die kommende Bundesregierung wird hier schnell Entscheidungen treffen müssen, damit die Industrie schnell in Back-up Kapazitäten investieren kann https://sciencemediacenter.de/angebote/24166[VIII]. Mehr SMC-Angebote zu diesem Thema finden sie auf der https://www.sciencemediacenter.de/angebote/themen/dunkelflauteThemenseite Dunkelflaute auf unserer Homepage.\\n\\nDr. Wolf-Peter Schill\\nLeiter des Forschungsbereichs „Transformation der Energiewirtschaft“ in der Abteilung Energie, Verkehr, Umwelt, Deutsches Institut für Wirtschaftsforschung (DIW), Berlin\\n\\nEinfluss hoher Preise an der Strombörse in Schwachwindzeiten auf Verbraucherpreis: \\n„Für die allermeisten Haushalts'], retrieval_context=None, additional_metadata={'evolutions': ['Reasoning'], 'synthetic_input_quality': 0.7}, comments=None, tools_called=None, expected_tools=None, source_file='data/example_data/10_Copernicus-Report_ 2024 war 1_6 Grad wärmer als vo.txt', name=None, custom_column_key_values=None),\n",
       " Golden(input='Warum bleiben die Strompreise für Haushaltskunden stabil, obwohl es am Markt immer wieder Preisschwankungen gibt? Was sind die Gründe dafür?', actual_output=None, expected_output='Die Strompreise für Haushaltskunden bleiben stabil, weil ihre Tarife zeitlich nicht schwanken und die meisten Stromlieferanten eine langfristige Beschaffung am Terminmarkt vornehmen. Dies bedeutet, dass sie große Teile des Stroms im Voraus einkaufen, wodurch kurzfristige Preisschwankungen am Großhandelsmarkt keine direkte Auswirkung haben. Außerdem machen die Beschaffungskosten nur einen Teil des Tarifs aus; Steuern, Abgaben, Umlagen und Netzentgelte variieren ebenfalls nicht (vgl. Kontext: \"Der Stromlieferant beschafft einen großen Teil des Stroms üblicherweise längerfristig...\").', context=['herpreis: \\n„Für die allermeisten Haushaltskunden spielen kurzfristige Preisschwankungen am Großhandelsmarkt für Strom keine Rolle, da ihre Stromtarife (ct/kWh) zeitlich nicht schwanken, sondern in jeder Stunde gleich hoch sind. Der Stromlieferant beschafft einen großen Teil des Stroms üblicherweise längerfristig im Voraus an den Terminmärkten. Dort wird Strom für bestimmte Bänder (base oder peak load, Langfristangebote für bestimmte Verbrauchscharakteristika wie Grundlast oder Spitzenlast, Anm. d. Red.) gehandelt, bei denen sich die erwarteten Hoch- und Tiefpreisphasen herausmitteln.“\\n„Die Beschaffungskosten machen ohnehin nur einen Teil des Haushalts-Stromtarifs aus. Dazu kommen Steuern, Abgeben, Umlagen und Netzentgelte, die zeitlich ebenfalls nicht variieren.“\\n„Für Haushalte mit intelligenten Zählern und zeitlich variablen ‚smarten‘ Stromtarifen sieht es anders aus: Hier können Hoch- und Niedrigpreisphasen am Spotmarkt deutlich auf die Stromrechnung durchschlagen. Ob das generell mehr ein Risiko oder mehr eine Chance darstellt, hängt von den technischen Möglichkeiten und der Motivation der Verbraucher*innen ab, ihren Strombezug tatsächlich zu verlagern. Vermutlich bieten sich vor allem solchen Verbraucher*innen deutliche Chancen, die große und einfach verschiebbare Stromverbr', 'icht oder nur sehr geringfügig niederschlagen. Betroffen sind so heute vor allem industrielle Großverbraucher, die große Teile ihres Strombedarfs am Spotmarkt beschaffen und damit sowohl von den Tiefpreisstunden profitieren als auch mit den Höchstpreisstunden umgehen müssen.“\\n„Die Entscheidung über die Art der Bezugsverträge obliegt heute und in Zukunft – hier auch für Kleinverbraucher – den Kunden. Wer besonders hohe Vorteile aus Tiefpreisstunden erzielen will, muss das besonders hohe Risiko der Höchstpreisstunden eingehen – wenn er nicht flexibel genug ist, in den Höchstpreisstunden den Verbrauch zu reduzieren. Energiewirtschaftlich wünschenswert sind natürlich flexible Verbraucher, die auf kurzfristige Preissignale reagieren (können), aber wer die damit verbundenen Risiken nicht eingehen kann oder will, kann sich immer für Termin- (und das heißt: Absicherungs-) Verträge entscheiden, dazu werden diese im Markt angeboten. Niemand wird in die Spotmärkte gezwungen, für die Absicherungsfunktion von Terminverträgen muss aber der entsprechende Sicherheitsaufschlag gezahlt werden.“\\n\\nInwiefern sind hohe Preise in Schwachwindzeiten (bei wenig Sonnenstrom) sinnvoll – oder sollten sie besser vermieden werden?: \\n„Für in hohem Maße von Flexibilität geprägten Versorgungssystemen sind hohe Preise –', ' Chancen, die große und einfach verschiebbare Stromverbräuche beispielsweise durch eigene Elektrofahrzeuge oder Wärmepumpen haben.“\\n„Für viele Gewerbe- und Industriekunden spielen die schwankenden Großhandelspreise eine größere Rolle als für Haushaltskunden. Da gibt es große Unterschiede je nach Art und Höhe des Verbrauchs, aber grundsätzlich gilt: Je höher der Verbrauch, desto stärker ist der Großhandelspreis relevant. Je nach Branche und Anlage gibt es sehr unterschiedliche Möglichkeiten, den Stromverbrauch in Hochpreisphasen herunterzufahren oder ihn in Niedrigpreisphasen zu erhöhen – eine allgemeingültige Einschätzung zum Flexibilitätspotenzial ‚der Industrie‘ als Ganzes kann man kaum geben.“\\n\\nInwiefern sind hohe Preise in Schwachwindzeiten (bei wenig Sonnenstrom) sinnvoll – oder sollten sie besser vermieden werden?: \\n„Hohe Preise stellen sich ein, wenn die Nachfrage hoch ist und das Angebot niedrig. Nur dann kommt es zur Markträumung. So funktionieren Märkte nun einmal. Es ist nicht so, dass irgendjemand hier einfach absichtlich einen hohen Preis setzt. Insofern gibt es auch nur begrenzte Möglichkeiten, hohe Preise zu vermeiden. Sie können grundsätzlich nur vermieden oder zumindest verringert werden, wenn entweder das Angebot ausgeweit'], retrieval_context=None, additional_metadata={'evolutions': ['Concretizing'], 'synthetic_input_quality': 0.6}, comments=None, tools_called=None, expected_tools=None, source_file='data/example_data/10_Copernicus-Report_ 2024 war 1_6 Grad wärmer als vo.txt', name=None, custom_column_key_values=None),\n",
       " Golden(input='Wie beeinflussen hohe Strompreise bei wenig Wind die Industrie? Gibt es da spezielle Auswirkungen, die man beachten sollte?', actual_output=None, expected_output='Hohe Strompreise bei wenig Wind beeinflussen die Industrie erheblich. \\n\\n1. **Relevanz der Großhandelspreise**: Für Gewerbe- und Industriekunden sind schwankende Großhandelspreise bedeutender, insbesondere bei hohem Verbrauch. Je mehr Strom verbraucht wird, desto stärker ist die Preisrelevanz (Beleg: \"Je höher der Verbrauch, desto stärker ist der Großhandelspreis relevant.\").\\n\\n2. **Flexibilität im Verbrauch**: Die Industrie hat oft unterschiedliche Möglichkeiten, den Stromverbrauch in Hochpreisphasen zu reduzieren oder ihn in Niedrigpreisphasen zu erhöhen. Dies hängt von der Branche und den bestehenden Anlagen ab (Beleg: \"Es gibt sehr unterschiedliche Möglichkeiten, den Stromverbrauch in Hochpreisphasen herunterzufahren.\").\\n\\n3. **Risiken und Chancen**: Hohe Preise können auch Chancen darstellen, wenn Unternehmen flexible Lasten, wie Elektrofahrzeuge oder Wärmepumpen, nutzen können. Der Umgang mit diesen Preisschwankungen hängt maßgeblich von der Flexibilität der Verbraucher ab (Beleg: \"Hohe Preise [...] Chancen, die große und einfach verschiebbare Stromverbräuche [...] haben.\").\\n\\nInsgesamt haben hohe Strompreise in Schwachwindzeiten sowohl Herausforderungen als auch Potenziale für die Industrie, die strategisch genutzt werden können.', context=['herpreis: \\n„Für die allermeisten Haushaltskunden spielen kurzfristige Preisschwankungen am Großhandelsmarkt für Strom keine Rolle, da ihre Stromtarife (ct/kWh) zeitlich nicht schwanken, sondern in jeder Stunde gleich hoch sind. Der Stromlieferant beschafft einen großen Teil des Stroms üblicherweise längerfristig im Voraus an den Terminmärkten. Dort wird Strom für bestimmte Bänder (base oder peak load, Langfristangebote für bestimmte Verbrauchscharakteristika wie Grundlast oder Spitzenlast, Anm. d. Red.) gehandelt, bei denen sich die erwarteten Hoch- und Tiefpreisphasen herausmitteln.“\\n„Die Beschaffungskosten machen ohnehin nur einen Teil des Haushalts-Stromtarifs aus. Dazu kommen Steuern, Abgeben, Umlagen und Netzentgelte, die zeitlich ebenfalls nicht variieren.“\\n„Für Haushalte mit intelligenten Zählern und zeitlich variablen ‚smarten‘ Stromtarifen sieht es anders aus: Hier können Hoch- und Niedrigpreisphasen am Spotmarkt deutlich auf die Stromrechnung durchschlagen. Ob das generell mehr ein Risiko oder mehr eine Chance darstellt, hängt von den technischen Möglichkeiten und der Motivation der Verbraucher*innen ab, ihren Strombezug tatsächlich zu verlagern. Vermutlich bieten sich vor allem solchen Verbraucher*innen deutliche Chancen, die große und einfach verschiebbare Stromverbr', 'icht oder nur sehr geringfügig niederschlagen. Betroffen sind so heute vor allem industrielle Großverbraucher, die große Teile ihres Strombedarfs am Spotmarkt beschaffen und damit sowohl von den Tiefpreisstunden profitieren als auch mit den Höchstpreisstunden umgehen müssen.“\\n„Die Entscheidung über die Art der Bezugsverträge obliegt heute und in Zukunft – hier auch für Kleinverbraucher – den Kunden. Wer besonders hohe Vorteile aus Tiefpreisstunden erzielen will, muss das besonders hohe Risiko der Höchstpreisstunden eingehen – wenn er nicht flexibel genug ist, in den Höchstpreisstunden den Verbrauch zu reduzieren. Energiewirtschaftlich wünschenswert sind natürlich flexible Verbraucher, die auf kurzfristige Preissignale reagieren (können), aber wer die damit verbundenen Risiken nicht eingehen kann oder will, kann sich immer für Termin- (und das heißt: Absicherungs-) Verträge entscheiden, dazu werden diese im Markt angeboten. Niemand wird in die Spotmärkte gezwungen, für die Absicherungsfunktion von Terminverträgen muss aber der entsprechende Sicherheitsaufschlag gezahlt werden.“\\n\\nInwiefern sind hohe Preise in Schwachwindzeiten (bei wenig Sonnenstrom) sinnvoll – oder sollten sie besser vermieden werden?: \\n„Für in hohem Maße von Flexibilität geprägten Versorgungssystemen sind hohe Preise –', ' Chancen, die große und einfach verschiebbare Stromverbräuche beispielsweise durch eigene Elektrofahrzeuge oder Wärmepumpen haben.“\\n„Für viele Gewerbe- und Industriekunden spielen die schwankenden Großhandelspreise eine größere Rolle als für Haushaltskunden. Da gibt es große Unterschiede je nach Art und Höhe des Verbrauchs, aber grundsätzlich gilt: Je höher der Verbrauch, desto stärker ist der Großhandelspreis relevant. Je nach Branche und Anlage gibt es sehr unterschiedliche Möglichkeiten, den Stromverbrauch in Hochpreisphasen herunterzufahren oder ihn in Niedrigpreisphasen zu erhöhen – eine allgemeingültige Einschätzung zum Flexibilitätspotenzial ‚der Industrie‘ als Ganzes kann man kaum geben.“\\n\\nInwiefern sind hohe Preise in Schwachwindzeiten (bei wenig Sonnenstrom) sinnvoll – oder sollten sie besser vermieden werden?: \\n„Hohe Preise stellen sich ein, wenn die Nachfrage hoch ist und das Angebot niedrig. Nur dann kommt es zur Markträumung. So funktionieren Märkte nun einmal. Es ist nicht so, dass irgendjemand hier einfach absichtlich einen hohen Preis setzt. Insofern gibt es auch nur begrenzte Möglichkeiten, hohe Preise zu vermeiden. Sie können grundsätzlich nur vermieden oder zumindest verringert werden, wenn entweder das Angebot ausgeweit'], retrieval_context=None, additional_metadata={'evolutions': ['Concretizing'], 'synthetic_input_quality': 0.8}, comments=None, tools_called=None, expected_tools=None, source_file='data/example_data/10_Copernicus-Report_ 2024 war 1_6 Grad wärmer als vo.txt', name=None, custom_column_key_values=None)]"
      ]
     },
     "execution_count": 8,
     "metadata": {},
     "output_type": "execute_result"
    }
   ],
   "source": [
    "# define the folder structure\n",
    "data_dir = \"data/example_data\"\n",
    "story_files = glob.glob(f'{data_dir}/*.txt')\n",
    "\n",
    "# use the same chunking size as before\n",
    "context_construction_config = ContextConstructionConfig(\n",
    "    chunk_size=512,\n",
    "    chunk_overlap=20\n",
    "    )\n",
    "\n",
    "# create golden questions and answers from the documents\n",
    "synthesizer.generate_goldens_from_docs(\n",
    "    document_paths=story_files,\n",
    "    include_expected_output=True,\n",
    "    context_construction_config=context_construction_config\n",
    "    )\n"
   ]
  },
  {
   "cell_type": "code",
   "execution_count": 9,
   "metadata": {},
   "outputs": [],
   "source": [
    "# save the generated synthetic QA pairs to a pandas DataFrame\n",
    "synthetic_qa_pairs = synthesizer.to_pandas()"
   ]
  },
  {
   "cell_type": "code",
   "execution_count": 85,
   "metadata": {},
   "outputs": [
    {
     "name": "stdout",
     "output_type": "stream",
     "text": [
      "Number: 0\n",
      "Question: Was sind die besonderen Wirkmechanismen und Nebenwirkungen von KarXT, die es von herkömmlichen Antipsychotika unterscheiden? Gibt es da etwas, das man wissen sollte?\n",
      "Answer: KarXT unterscheidet sich von traditionellen Antipsychotika durch seinen speziellen Wirkmechanismus, der auf M1/M4 muskarineren Agonisten basiert. Dieser Mechanismus reduziert die präsynaptische Dopaminausschüttung, was zu einer anderen Wirkung im Vergleich zu bisherigen Antipsychotika führt, die postsynaptische Dopaminrezeptoren blockieren. Ein weiterer Vorteil ist, dass KarXT im Gegensatz zu vielen herkömmlichen Antipsychotika nicht zu Gewichtszunahme sondern eher zu Gewichtsabnahme führt.\n",
      "\n",
      "Nebenwirkungen wie Übelkeit und gastrointestinale Beschwerden wurden beobachtet, jedoch sollten sie moderat sein, wie die EMERGENT-Studien gezeigt haben. Diese neuen Ansätze könnten helfen, Patienten, die herkömmliche Antipsychotika nicht vertragen, signifikant zu unterstützen.\n",
      "------------------------------------------------------------------------------------------------------------------------------------------------------------------------------------------------------------------------------------------------\n",
      "Number: 1\n",
      "Question: Wie beeinflusst KarXT das Gewicht im Vergleich zu anderen Antipsychotika, die zur Behandlung von Schizophrenie eingesetzt werden? Gibt es Unterschiede, die man beachten sollte?\n",
      "Answer: KarXT führt im Vergleich zu vielen anderen Antipsychotika nicht zu einer Gewichtszunahme, sondern scheint eher eine Gewichtsabnahme zu bewirken. Dies ist ein signifikanter Unterschied, da zahlreiche herkömmliche Antipsychotika oft motorische Nebenwirkungen und Gewichtszunahme verursachen. Der besondere Wirkmechanismus von KarXT, der auf präsynaptischer Dopaminausschüttung basiert, könnte dies erklären. Eine umfassende Datenlage zur Wirksamkeit im Vergleich zu anderen Antipsychotika fehlt jedoch noch, da entsprechende Studien abgeschlossen werden müssen.\n",
      "------------------------------------------------------------------------------------------------------------------------------------------------------------------------------------------------------------------------------------------------\n",
      "Number: 2\n",
      "Question: Was sind die besonderen Wirkmechanismen und Nebenwirkungen von KarXT, die es von herkömmlichen Antipsychotika unterscheiden? Gibt es da etwas, das man wissen sollte?\n",
      "Answer: KarXT unterscheidet sich von traditionellen Antipsychotika durch seinen speziellen Wirkmechanismus, der auf M1/M4 muskarineren Agonisten basiert. Dieser Mechanismus reduziert die präsynaptische Dopaminausschüttung, was zu einer anderen Wirkung im Vergleich zu bisherigen Antipsychotika führt, die postsynaptische Dopaminrezeptoren blockieren. Ein weiterer Vorteil ist, dass KarXT im Gegensatz zu vielen herkömmlichen Antipsychotika nicht zu Gewichtszunahme sondern eher zu Gewichtsabnahme führt.\n",
      "\n",
      "Nebenwirkungen wie Übelkeit und gastrointestinale Beschwerden wurden beobachtet, jedoch sollten sie moderat sein, wie die EMERGENT-Studien gezeigt haben. Diese neuen Ansätze könnten helfen, Patienten, die herkömmliche Antipsychotika nicht vertragen, signifikant zu unterstützen.\n",
      "------------------------------------------------------------------------------------------------------------------------------------------------------------------------------------------------------------------------------------------------\n",
      "Number: 3\n",
      "Question: Wie beeinflusst KarXT das Gewicht im Vergleich zu anderen Antipsychotika, die zur Behandlung von Schizophrenie eingesetzt werden? Gibt es Unterschiede, die man beachten sollte?\n",
      "Answer: KarXT führt im Vergleich zu vielen anderen Antipsychotika nicht zu einer Gewichtszunahme, sondern scheint eher eine Gewichtsabnahme zu bewirken. Dies ist ein signifikanter Unterschied, da zahlreiche herkömmliche Antipsychotika oft motorische Nebenwirkungen und Gewichtszunahme verursachen. Der besondere Wirkmechanismus von KarXT, der auf präsynaptischer Dopaminausschüttung basiert, könnte dies erklären. Eine umfassende Datenlage zur Wirksamkeit im Vergleich zu anderen Antipsychotika fehlt jedoch noch, da entsprechende Studien abgeschlossen werden müssen.\n",
      "------------------------------------------------------------------------------------------------------------------------------------------------------------------------------------------------------------------------------------------------\n",
      "Number: 4\n",
      "Question: Wie wirkt sich Künstliche Intelligenz auf die Entwicklung von Proteinen aus, die in der modernen Medizin verwendet werden? Gibt es spezielle Anwendungen, die besonders davon profitieren?\n",
      "Answer: Künstliche Intelligenz hat erheblichen Einfluss auf die Entwicklung von Proteinen in der modernen Medizin. \n",
      "\n",
      "1. **Evo und die Design von Proteinen**: Das KI-Modell Evo ermöglicht es, neue funktionale Proteine direkt zu entwerfen, indem es nützliche biologische Funktionen in DNA-Sequenzen umsetzt. Dadurch wird der Prozess der Entwicklung biotechnologischer Produktionsstämme und therapeutischer Proteine erheblich beschleunigt. \n",
      "\n",
      "2. **Verbesserte Werkzeuge**: Evo kann dabei helfen, verbesserte Versionen von CRISPR-Genscheren zu entwickeln und zu prognostizieren, wie Mutationen die Überlebensfähigkeit eines Organismus beeinflussen können. Solche Anwendungen könnten zu einem besseren Verständnis unterforschter Krankheiten führen.\n",
      "\n",
      "3. **Wachstumspotential**: Obwohl KI-Vorhersagen noch nicht immer präzise sind, wird der Designprozess in den kommenden Jahren weiter optimiert, was die Möglichkeit eröffnet, komplexe biologische Systeme bis hin zu neuen Organismen zu konstruieren. \n",
      "\n",
      "Zusammengefasst verbessert KI die Effizienz und Innovationskraft in der Proteinentwicklung, was essentielle Anwendungen in der Medizin unterstützt.\n",
      "------------------------------------------------------------------------------------------------------------------------------------------------------------------------------------------------------------------------------------------------\n"
     ]
    }
   ],
   "source": [
    "for idx in range(0, len(synthetic_qa_pairs[:5])):\n",
    "    print(f\"Number: {idx}\")\n",
    "    print(f\"Question: {synthetic_qa_pairs['input'][idx]}\")\n",
    "    print(f\"Answer: {synthetic_qa_pairs['expected_output'][idx]}\")\n",
    "    print(\"---\" * 80)"
   ]
  },
  {
   "cell_type": "markdown",
   "metadata": {},
   "source": [
    "## LLM-basiertes post-hoc filtern\n",
    "<br>\n",
    "Die ersten synthetischen Fragen machen bereits einen soliden Eindruck, sind jedoch noch nicht perfekt. Darum lassen wir sie von einem **zweiten LLM** gegen drei klar definierte Bewertungs­kriterien prüfen, die in 3 separaten Prompts formuliert wurden:\n",
    "<br>\n",
    "<br>\n",
    "In diesem Fall geht es v.a. um folgende Punkte: \n",
    "<br>\n",
    "<br>\n",
    "- Wie genau lässt sich die Fragen mit dem bereitgestellten Kontext beantworten?\n",
    "<br>\n",
    "<br>\n",
    "- Wie relevant sind die Fragen überhaupt für das Zielpublikum, also Wissenschaftsjournalist*innen oder interessierte Laien?\n",
    "<br>\n",
    "<br>\n",
    "- Inwiefern ergibt die Frage ohne Kontext überhaupt Sinn? \n",
    "<br>\n",
    "<br>\n",
    "Das Bewertungs-LLM vergibt für jedes Kriterium **einen Score von 1 bis 5**. Diese Werte bilden anschließend die Grundlage für unseren Qualitäts­filter."
   ]
  },
  {
   "cell_type": "code",
   "execution_count": 70,
   "metadata": {},
   "outputs": [],
   "source": [
    "from data.prompts.evaluation_prompts import (\n",
    "    question_groundedness_critique_prompt,\n",
    "    question_relevance_critique_prompt,\n",
    "    question_standalone_critique_prompt\n",
    ")\n",
    "\n",
    "evaluation_llm = ChatAnthropic(\n",
    "        model_name=\"claude-3-5-haiku-20241022\",\n",
    "        temperature=0,\n",
    "        max_tokens=512,\n",
    "        verbose=False\n",
    "    )\n",
    "\n",
    "# Create a dictionary of critique prompts\n",
    "critique_prompts = {\n",
    "    \"groundedness\": question_groundedness_critique_prompt,\n",
    "    \"relevance\": question_relevance_critique_prompt,\n",
    "    \"standalone\": question_standalone_critique_prompt\n",
    "}\n",
    "\n",
    "from src.utils.synth_data_creation import evaluate_qa_pairs\n",
    "\n",
    "# Evaluate the synthetic QA pairs using the critique prompts\n",
    "eval_qa_pairs = evaluate_qa_pairs(\n",
    "    synthetic_qa_pairs, \n",
    "    critique_prompts, \n",
    "    evaluation_llm\n",
    "    )\n",
    "\n",
    "# save the evaluated QA pairs to a CSV file, because this is the longest and most expensive step\n",
    "eval_qa_pairs.to_csv(\"data/synthetic_qa_pairs.csv\", index=False)"
   ]
  },
  {
   "cell_type": "code",
   "execution_count": null,
   "metadata": {},
   "outputs": [
    {
     "data": {
      "text/plain": [
       "{'input': 'Was sind die besonderen Wirkmechanismen und Nebenwirkungen von KarXT, die es von herkömmlichen Antipsychotika unterscheiden? Gibt es da etwas, das man wissen sollte?',\n",
       " 'actual_output': None,\n",
       " 'expected_output': 'KarXT unterscheidet sich von traditionellen Antipsychotika durch seinen speziellen Wirkmechanismus, der auf M1/M4 muskarineren Agonisten basiert. Dieser Mechanismus reduziert die präsynaptische Dopaminausschüttung, was zu einer anderen Wirkung im Vergleich zu bisherigen Antipsychotika führt, die postsynaptische Dopaminrezeptoren blockieren. Ein weiterer Vorteil ist, dass KarXT im Gegensatz zu vielen herkömmlichen Antipsychotika nicht zu Gewichtszunahme sondern eher zu Gewichtsabnahme führt.\\n\\nNebenwirkungen wie Übelkeit und gastrointestinale Beschwerden wurden beobachtet, jedoch sollten sie moderat sein, wie die EMERGENT-Studien gezeigt haben. Diese neuen Ansätze könnten helfen, Patienten, die herkömmliche Antipsychotika nicht vertragen, signifikant zu unterstützen.',\n",
       " 'context': ['ikamentes noch relativ umständlich ist: Es muss zweimal am Tag genommen werden, wobei vorher eine Stunden lang und nachher zwei Stunden lang nichts gegessen werden darf. Hier ist allerdings zu beachten, dass dies das erste Medikament dieser neuen Substanzklasse der muskarinergen Agonisten ist und nachfolgende Medikamente diese Nachteile höchst wahrscheinlich überwinden werden.“\\n„Am Ende ist KarXT kein perfektes Medikament, aber es ist ein vielversprechender Anfang für einen neuen Medikamentenansatz, um Schizophrenie und in der Zukunft auch andere psychotische Störungen zu behandeln, die mit zu viel präsynaptischer Dopaminausschüttung zu tun haben. Ich vermute, dass KarXT häufig zusätzlich zu bisherigen Antipsychotika verschrieben werden wird, was gerade auch in einer Studie getestet wird, und gerade Patientinnen und Patienten, die die bisherigen Antipsychotika nicht vertragen, stark helfen wird.“\\n\\n',\n",
       "  'urchgeführt werden, um wirklich die Wirksamkeit im Vergleich zu anderen Antipsychotika zu prüfen. Die Nebenwirkungen, wie Übelkeit und weitere gastrointestinale Beschwerden werden auftreten, wie die EMERGENT-Studien gegen ein Placebo-Präparat gezeigt haben. Die sollten moderat sein, was aber die Anwendung in der Versorgungsrealität zeigen soll und hoffentlich wird.“\\n\\nProf. Dr. Christoph Correll\\nDirektor der Klinik für Psychiatrie, Psychosomatik und Psychotherapie des Kindes- und Jugendalters, Charité – Universitätsmedizin Berlin, und Professor für psychiatrische Neurowissenschaften, Institute of Behavioral Science, Feinstein Institutes for Medical Research, New York, USA, und Professor für Psychiatrie und Molekulare Medizin, Donald and Barbara Zucker School of Medicine at Hofstra/Northwell, New York, USA\\n\\nPotenzial von KarXT: \\n„Das Medikament KarXT ist meiner Einschätzung nach eine Möglichkeit, die Therapie von Psychosen und Schizophrenie für wenigstens einige Patient:innen zu revolutionieren. Das liegt an dem besonderen Wirkmechanismus von Xanomelin, einem M1/M4 muscarinergen Agonisten, der mit Trospium, einem peripher beschränkten Anticholiergikum kombiniert ist und über die Wirkung auf Muskarinrezeptoren indirekt die präsynaptische Dopaminausschüttung reduziert. Bisherige Antipsychotika blockieren postsynaptische Dopaminrezeptoren. Dopamin wird also ausgeschüttet, das Signal breitet sich jedoch nicht auf die weiteren Synapsen aus. Ein präsynaptisches Problem wurde',\n",
       "  'anz neuen Wirkmechanismus zur Behandlung von Schizophrenie verwendet. Die meisten Antipsychotika wirken auf das dopaminerge System, wodurch nicht selten Nebenwirkungen in der Motorik wie verlangsamte oder auch unwillkürliche Bewegungen auftreten. Außerdem scheint KarXT im Gegensatz zu vielen Antipsychotika nicht zu einer Gewichtszunahme, sondern viel mehr zu einer Gewichtsabnahme zu führen.“\\n„Zudem ist es prinzipiell gut, wenn Behandelnde aus einem breiten Spektrum an guten Medikamenten zur Behandlung der Patienten wählen können. Je nach Person und Krankheitsbild können unterschiedliche Medikamente besser passen. Dies ist seit einigen Jahrzehnten der erste neue Ansatz für ein Schizophrenie-Medikament mit einer offenbar guten Wirksamkeit und anderen Nebenwirkungen. Ob KarXT die bisherigen Medikamente ablösen könnte, wissen wir noch nicht, dafür braucht es die entsprechenden Studien. Ein weiteres Medikament zur Behandlung von Schizophrenie, das ebenfalls vielversprechend aussieht, ist Emraclidine, welches auch auf dem muskarinergen Wirkmechanismus basiert.“\\n\\nDatenlage: \\n„Im Rahmen des Studienprojektes EMERGENT wurde die Wirkung von KarXT in fünf verschiedenen Trials untersucht. Sowohl für einen Zeitraum von fünf Wochen als auch von einem Jahr. Die Ein-Jahres-Daten wurden bislang noch nicht publizi'],\n",
       " 'retrieval_context': None,\n",
       " 'n_chunks_per_context': 3,\n",
       " 'context_length': 3718,\n",
       " 'evolutions': ['Multi-context'],\n",
       " 'context_quality': None,\n",
       " 'synthetic_input_quality': 0.8,\n",
       " 'source_file': 'data/example_data/10_Copernicus-Report_ 2024 war 1_6 Grad wärmer als vo.txt',\n",
       " 'groundedness_score': 4,\n",
       " 'groundedness_eval': \"The context provides substantial information about KarXT's unique mechanism of action, potential benefits, and some side effects. It discusses the drug's novel approach of targeting muscarinergic receptors to indirectly reduce dopamine release, differentiating it from traditional antipsychotics. The text covers potential advantages like possibly avoiding motor side effects and weight gain. However, the context lacks comprehensive details about specific side effect profiles and a complete comparison with traditional antipsychotics.\",\n",
       " 'relevance_score': 5,\n",
       " 'relevance_eval': \"This is a well-formulated scientific journalism question about a specific pharmaceutical compound (KarXT), asking about its unique mechanisms of action and side effects compared to traditional antipsychotics. The question is precise, targets a clear scientific topic, and would likely yield valuable insights for readers interested in medical research and pharmacology. The bilingual nature (German) doesn't impact the scientific merit of the question. It contains specific keywords that would help in retrieving relevant scientific sources and clinical research papers.\",\n",
       " 'standalone_score': 1,\n",
       " 'standalone_eval': 'The question contains multiple subquestions and focuses on a specific drug (KarXT), which significantly reduces its generality. It asks about particular mechanisms and side effects of a named pharmaceutical, rather than exploring a broader scientific concept. The second part (\"Gibt es da etwas, das man wissen sollte?\") further compounds the specificity by adding an open-ended follow-up.'}"
      ]
     },
     "execution_count": 79,
     "metadata": {},
     "output_type": "execute_result"
    }
   ],
   "source": [
    "# this is what a typical output looks like\n",
    "eval_qa_pairs.iloc[0].to_dict()"
   ]
  },
  {
   "cell_type": "code",
   "execution_count": 83,
   "metadata": {},
   "outputs": [
    {
     "data": {
      "text/html": [
       "<div>\n",
       "<style scoped>\n",
       "    .dataframe tbody tr th:only-of-type {\n",
       "        vertical-align: middle;\n",
       "    }\n",
       "\n",
       "    .dataframe tbody tr th {\n",
       "        vertical-align: top;\n",
       "    }\n",
       "\n",
       "    .dataframe thead th {\n",
       "        text-align: right;\n",
       "    }\n",
       "</style>\n",
       "<table border=\"1\" class=\"dataframe\">\n",
       "  <thead>\n",
       "    <tr style=\"text-align: right;\">\n",
       "      <th></th>\n",
       "      <th>input</th>\n",
       "      <th>actual_output</th>\n",
       "      <th>expected_output</th>\n",
       "      <th>context</th>\n",
       "      <th>retrieval_context</th>\n",
       "      <th>n_chunks_per_context</th>\n",
       "      <th>context_length</th>\n",
       "      <th>evolutions</th>\n",
       "      <th>context_quality</th>\n",
       "      <th>synthetic_input_quality</th>\n",
       "      <th>...</th>\n",
       "      <th>groundedness_score</th>\n",
       "      <th>groundedness_eval</th>\n",
       "      <th>relevance_score</th>\n",
       "      <th>relevance_eval</th>\n",
       "      <th>standalone_score</th>\n",
       "      <th>standalone_eval</th>\n",
       "      <th>grounded_norm</th>\n",
       "      <th>standalone_norm</th>\n",
       "      <th>relevance_norm</th>\n",
       "      <th>total_score</th>\n",
       "    </tr>\n",
       "  </thead>\n",
       "  <tbody>\n",
       "    <tr>\n",
       "      <th>0</th>\n",
       "      <td>Wie beeinflusst KarXT das Gewicht im Vergleich...</td>\n",
       "      <td>None</td>\n",
       "      <td>KarXT führt im Vergleich zu vielen anderen Ant...</td>\n",
       "      <td>[ikamentes noch relativ umständlich ist: Es mu...</td>\n",
       "      <td>None</td>\n",
       "      <td>3</td>\n",
       "      <td>3718</td>\n",
       "      <td>[In-Breadth]</td>\n",
       "      <td>None</td>\n",
       "      <td>0.8</td>\n",
       "      <td>...</td>\n",
       "      <td>3</td>\n",
       "      <td>The context provides some information about Ka...</td>\n",
       "      <td>5</td>\n",
       "      <td>This is a well-focused scientific question abo...</td>\n",
       "      <td>1</td>\n",
       "      <td>The question contains multiple subquestions an...</td>\n",
       "      <td>1.0</td>\n",
       "      <td>0.0</td>\n",
       "      <td>1.0</td>\n",
       "      <td>0.65</td>\n",
       "    </tr>\n",
       "  </tbody>\n",
       "</table>\n",
       "<p>1 rows × 21 columns</p>\n",
       "</div>"
      ],
      "text/plain": [
       "                                               input actual_output  \\\n",
       "0  Wie beeinflusst KarXT das Gewicht im Vergleich...          None   \n",
       "\n",
       "                                     expected_output  \\\n",
       "0  KarXT führt im Vergleich zu vielen anderen Ant...   \n",
       "\n",
       "                                             context retrieval_context  \\\n",
       "0  [ikamentes noch relativ umständlich ist: Es mu...              None   \n",
       "\n",
       "   n_chunks_per_context  context_length    evolutions context_quality  \\\n",
       "0                     3            3718  [In-Breadth]            None   \n",
       "\n",
       "   synthetic_input_quality  ... groundedness_score  \\\n",
       "0                      0.8  ...                  3   \n",
       "\n",
       "                                   groundedness_eval relevance_score  \\\n",
       "0  The context provides some information about Ka...               5   \n",
       "\n",
       "                                      relevance_eval standalone_score  \\\n",
       "0  This is a well-focused scientific question abo...                1   \n",
       "\n",
       "                                     standalone_eval grounded_norm  \\\n",
       "0  The question contains multiple subquestions an...           1.0   \n",
       "\n",
       "  standalone_norm relevance_norm total_score  \n",
       "0             0.0            1.0        0.65  \n",
       "\n",
       "[1 rows x 21 columns]"
      ]
     },
     "execution_count": 83,
     "metadata": {},
     "output_type": "execute_result"
    }
   ],
   "source": [
    "from src.utils.synth_data_creation import process_evaluation_scores\n",
    "\n",
    "# eventually, we compute an overall average score (groundedness, relevance, standalone) for each question and remove the bottom 15% of questions based on this score\n",
    "filtered_df = process_evaluation_scores(\n",
    "    eval_qa_pairs,\n",
    "    groundedness_weight=0.35,\n",
    "    standalone_weight=0.35,\n",
    "    relevance_weight=0.3,\n",
    "    bottom_percent_remove=15\n",
    ")"
   ]
  },
  {
   "cell_type": "markdown",
   "metadata": {},
   "source": [
    "Und dann bin ich fast fertig. Denn was eigentlich sogar noch wichtiger ist als die Qualität der Frage/Antwort Paare, ist die Diversität der Fragen. Wenn ich abwägen müsste, in ein testset mit vielleicht qualitativ nicht so hochwertigen Fragen, welche aber sehr divers sind, besser, als testsets die zwar sehr hochwertig sind, aber sehr ähnlich sind. Siehe: https://msukhareva.substack.com/p/synthetic-datasets-for-applied-ai"
   ]
  },
  {
   "cell_type": "markdown",
   "metadata": {},
   "source": [
    "Die Diversität bzw. Ähnlichkeit wird wieder gemessen mittels cosine similarity. Als rule-of-thumb gilt, über .6 = sehr undivers, und unter .4 = ausreichend divers.\n",
    "In unserem Fall ist der Mittelwert zwar gut (bei 0.3), aber an der Verteilung sieht man, dass es ein cluster an sehr ähnlichen Fragen gibt. Das ist auch nicht weiter verwunderlich, weil wir nur 5 verschiedene Artikel haben, auf denen unsere X Fragen basieren. In der Regel sollten die Fragen diverser sein, je diverser die knowledge base ist. Wenn das nicht der Fall ist, müsste man nochmal genauer gucken und zu ähnliche Fragen entfernen, aber das würde den Rahmen sprengen..."
   ]
  },
  {
   "cell_type": "markdown",
   "metadata": {},
   "source": [
    "## Diversität prüfen  \n",
    "\n",
    "Als letztes prüfen wir **Diversität** der Fragen.  <br>\n",
    "Ein weniger perfektes, aber breit gestreutes Set deckt deutlich mehr Fehlerquellen auf als ein sauberes, jedoch monotones Set.\n",
    "<br>\n",
    "### Messgröße  \n",
    "Dafür nutzen wir erneut die **mittlere paarweise Cosine-Similarity**. Als rule-of-thumb kann man sich an folgende Werte orientieren:\n",
    "<br>\n",
    "| Richtwert | Interpretation |\n",
    "|-----------|----------------|\n",
    "| **> 0.60** | starke Redundanz → kaum neue Fehlerfälle |\n",
    "| **< 0.40** | genügend Diversität für praxisnahe RAG-Tests |\n"
   ]
  },
  {
   "cell_type": "code",
   "execution_count": 75,
   "metadata": {},
   "outputs": [
    {
     "name": "stdout",
     "output_type": "stream",
     "text": [
      "\u001b[2m[Confident AI Synthesizer Log]\u001b[0m SUCCESS: \u001b[32mSuccessfully deleted\u001b[0m: /root/.cache/huggingface/hub/models--sentence-transformers--paraphrase-multilingual-MiniLM-L12-v2/tmpqokgglyp\n"
     ]
    },
    {
     "name": "stderr",
     "output_type": "stream",
     "text": [
      "Batches:   0%|          | 0/5 [00:00<?, ?it/s]/usr/local/lib/python3.11/site-packages/torch/nn/modules/module.py:1762: FutureWarning: `encoder_attention_mask` is deprecated and will be removed in version 4.55.0 for `BertSdpaSelfAttention.forward`.\n",
      "  return forward_call(*args, **kwargs)\n",
      "Batches: 100%|██████████| 5/5 [00:01<00:00,  3.11it/s]\n"
     ]
    },
    {
     "name": "stdout",
     "output_type": "stream",
     "text": [
      "Mean similarity: 0.3017\n",
      "Std  similarity: 0.2751\n"
     ]
    },
    {
     "data": {
      "image/png": "[encoded data removed]",
      "text/plain": [
       "<Figure size 800x500 with 1 Axes>"
      ]
     },
     "metadata": {},
     "output_type": "display_data"
    }
   ],
   "source": [
    "sims, sim_matrix = analyze_semantic_similarity(synthetic_qa_pairs)"
   ]
  },
  {
   "cell_type": "code",
   "execution_count": 76,
   "metadata": {},
   "outputs": [
    {
     "data": {
      "text/html": [
       "<div>\n",
       "<style scoped>\n",
       "    .dataframe tbody tr th:only-of-type {\n",
       "        vertical-align: middle;\n",
       "    }\n",
       "\n",
       "    .dataframe tbody tr th {\n",
       "        vertical-align: top;\n",
       "    }\n",
       "\n",
       "    .dataframe thead th {\n",
       "        text-align: right;\n",
       "    }\n",
       "</style>\n",
       "<table border=\"1\" class=\"dataframe\">\n",
       "  <thead>\n",
       "    <tr style=\"text-align: right;\">\n",
       "      <th></th>\n",
       "      <th>input</th>\n",
       "      <th>actual_output</th>\n",
       "      <th>expected_output</th>\n",
       "      <th>context</th>\n",
       "      <th>retrieval_context</th>\n",
       "      <th>n_chunks_per_context</th>\n",
       "      <th>context_length</th>\n",
       "      <th>evolutions</th>\n",
       "      <th>context_quality</th>\n",
       "      <th>synthetic_input_quality</th>\n",
       "      <th>source_file</th>\n",
       "    </tr>\n",
       "  </thead>\n",
       "  <tbody>\n",
       "    <tr>\n",
       "      <th>0</th>\n",
       "      <td>Was sind die besonderen Wirkmechanismen und Ne...</td>\n",
       "      <td>None</td>\n",
       "      <td>KarXT unterscheidet sich von traditionellen An...</td>\n",
       "      <td>[ikamentes noch relativ umständlich ist: Es mu...</td>\n",
       "      <td>None</td>\n",
       "      <td>3</td>\n",
       "      <td>3718</td>\n",
       "      <td>[Multi-context]</td>\n",
       "      <td>None</td>\n",
       "      <td>0.8</td>\n",
       "      <td>data/example_data/10_Copernicus-Report_ 2024 w...</td>\n",
       "    </tr>\n",
       "    <tr>\n",
       "      <th>1</th>\n",
       "      <td>Wie beeinflusst KarXT das Gewicht im Vergleich...</td>\n",
       "      <td>None</td>\n",
       "      <td>KarXT führt im Vergleich zu vielen anderen Ant...</td>\n",
       "      <td>[ikamentes noch relativ umständlich ist: Es mu...</td>\n",
       "      <td>None</td>\n",
       "      <td>3</td>\n",
       "      <td>3718</td>\n",
       "      <td>[In-Breadth]</td>\n",
       "      <td>None</td>\n",
       "      <td>0.8</td>\n",
       "      <td>data/example_data/10_Copernicus-Report_ 2024 w...</td>\n",
       "    </tr>\n",
       "    <tr>\n",
       "      <th>2</th>\n",
       "      <td>Was sind die besonderen Wirkmechanismen und Ne...</td>\n",
       "      <td>None</td>\n",
       "      <td>KarXT unterscheidet sich von traditionellen An...</td>\n",
       "      <td>[ikamentes noch relativ umständlich ist: Es mu...</td>\n",
       "      <td>None</td>\n",
       "      <td>3</td>\n",
       "      <td>3718</td>\n",
       "      <td>[Multi-context]</td>\n",
       "      <td>None</td>\n",
       "      <td>0.8</td>\n",
       "      <td>data/example_data/10_Copernicus-Report_ 2024 w...</td>\n",
       "    </tr>\n",
       "    <tr>\n",
       "      <th>3</th>\n",
       "      <td>Wie beeinflusst KarXT das Gewicht im Vergleich...</td>\n",
       "      <td>None</td>\n",
       "      <td>KarXT führt im Vergleich zu vielen anderen Ant...</td>\n",
       "      <td>[ikamentes noch relativ umständlich ist: Es mu...</td>\n",
       "      <td>None</td>\n",
       "      <td>3</td>\n",
       "      <td>3718</td>\n",
       "      <td>[In-Breadth]</td>\n",
       "      <td>None</td>\n",
       "      <td>0.8</td>\n",
       "      <td>data/example_data/10_Copernicus-Report_ 2024 w...</td>\n",
       "    </tr>\n",
       "    <tr>\n",
       "      <th>4</th>\n",
       "      <td>Wie wirkt sich Künstliche Intelligenz auf die ...</td>\n",
       "      <td>None</td>\n",
       "      <td>Künstliche Intelligenz hat erheblichen Einflus...</td>\n",
       "      <td>[liche Gemeinschaft muss kontinuierlich an der...</td>\n",
       "      <td>None</td>\n",
       "      <td>3</td>\n",
       "      <td>4025</td>\n",
       "      <td>[Constrained]</td>\n",
       "      <td>None</td>\n",
       "      <td>0.8</td>\n",
       "      <td>data/example_data/10_Copernicus-Report_ 2024 w...</td>\n",
       "    </tr>\n",
       "    <tr>\n",
       "      <th>...</th>\n",
       "      <td>...</td>\n",
       "      <td>...</td>\n",
       "      <td>...</td>\n",
       "      <td>...</td>\n",
       "      <td>...</td>\n",
       "      <td>...</td>\n",
       "      <td>...</td>\n",
       "      <td>...</td>\n",
       "      <td>...</td>\n",
       "      <td>...</td>\n",
       "      <td>...</td>\n",
       "    </tr>\n",
       "    <tr>\n",
       "      <th>145</th>\n",
       "      <td>Erwartet man, dass die Temperaturen auf der Er...</td>\n",
       "      <td>None</td>\n",
       "      <td>Ja, die Temperaturen auf der Erde werden in de...</td>\n",
       "      <td>[wa 50 Prozent beträgt, dass einzelne Jahre di...</td>\n",
       "      <td>None</td>\n",
       "      <td>3</td>\n",
       "      <td>3849</td>\n",
       "      <td>[Multi-context]</td>\n",
       "      <td>None</td>\n",
       "      <td>0.5</td>\n",
       "      <td>data/example_data/10_Copernicus-Report_ 2024 w...</td>\n",
       "    </tr>\n",
       "    <tr>\n",
       "      <th>146</th>\n",
       "      <td>Wie beeinflussen niedrige Windenergieerträge d...</td>\n",
       "      <td>None</td>\n",
       "      <td>Niedrige Windenergieerträge führen zu hohen St...</td>\n",
       "      <td>[TITLE: Dunkelflauten: Wie hohe Strompreise ge...</td>\n",
       "      <td>None</td>\n",
       "      <td>3</td>\n",
       "      <td>3997</td>\n",
       "      <td>[Constrained]</td>\n",
       "      <td>None</td>\n",
       "      <td>0.7</td>\n",
       "      <td>data/example_data/10_Copernicus-Report_ 2024 w...</td>\n",
       "    </tr>\n",
       "    <tr>\n",
       "      <th>147</th>\n",
       "      <td>Wie beeinflussen die hohen Strompreise in Deut...</td>\n",
       "      <td>None</td>\n",
       "      <td>Die hohen Strompreise in Deutschland beeinflus...</td>\n",
       "      <td>[TITLE: Dunkelflauten: Wie hohe Strompreise ge...</td>\n",
       "      <td>None</td>\n",
       "      <td>3</td>\n",
       "      <td>3997</td>\n",
       "      <td>[Reasoning]</td>\n",
       "      <td>None</td>\n",
       "      <td>0.7</td>\n",
       "      <td>data/example_data/10_Copernicus-Report_ 2024 w...</td>\n",
       "    </tr>\n",
       "    <tr>\n",
       "      <th>148</th>\n",
       "      <td>Warum bleiben die Strompreise für Haushaltskun...</td>\n",
       "      <td>None</td>\n",
       "      <td>Die Strompreise für Haushaltskunden bleiben st...</td>\n",
       "      <td>[herpreis: \\n„Für die allermeisten Haushaltsku...</td>\n",
       "      <td>None</td>\n",
       "      <td>3</td>\n",
       "      <td>3865</td>\n",
       "      <td>[Concretizing]</td>\n",
       "      <td>None</td>\n",
       "      <td>0.6</td>\n",
       "      <td>data/example_data/10_Copernicus-Report_ 2024 w...</td>\n",
       "    </tr>\n",
       "    <tr>\n",
       "      <th>149</th>\n",
       "      <td>Wie beeinflussen hohe Strompreise bei wenig Wi...</td>\n",
       "      <td>None</td>\n",
       "      <td>Hohe Strompreise bei wenig Wind beeinflussen d...</td>\n",
       "      <td>[herpreis: \\n„Für die allermeisten Haushaltsku...</td>\n",
       "      <td>None</td>\n",
       "      <td>3</td>\n",
       "      <td>3865</td>\n",
       "      <td>[Concretizing]</td>\n",
       "      <td>None</td>\n",
       "      <td>0.8</td>\n",
       "      <td>data/example_data/10_Copernicus-Report_ 2024 w...</td>\n",
       "    </tr>\n",
       "  </tbody>\n",
       "</table>\n",
       "<p>150 rows × 11 columns</p>\n",
       "</div>"
      ],
      "text/plain": [
       "                                                 input actual_output  \\\n",
       "0    Was sind die besonderen Wirkmechanismen und Ne...          None   \n",
       "1    Wie beeinflusst KarXT das Gewicht im Vergleich...          None   \n",
       "2    Was sind die besonderen Wirkmechanismen und Ne...          None   \n",
       "3    Wie beeinflusst KarXT das Gewicht im Vergleich...          None   \n",
       "4    Wie wirkt sich Künstliche Intelligenz auf die ...          None   \n",
       "..                                                 ...           ...   \n",
       "145  Erwartet man, dass die Temperaturen auf der Er...          None   \n",
       "146  Wie beeinflussen niedrige Windenergieerträge d...          None   \n",
       "147  Wie beeinflussen die hohen Strompreise in Deut...          None   \n",
       "148  Warum bleiben die Strompreise für Haushaltskun...          None   \n",
       "149  Wie beeinflussen hohe Strompreise bei wenig Wi...          None   \n",
       "\n",
       "                                       expected_output  \\\n",
       "0    KarXT unterscheidet sich von traditionellen An...   \n",
       "1    KarXT führt im Vergleich zu vielen anderen Ant...   \n",
       "2    KarXT unterscheidet sich von traditionellen An...   \n",
       "3    KarXT führt im Vergleich zu vielen anderen Ant...   \n",
       "4    Künstliche Intelligenz hat erheblichen Einflus...   \n",
       "..                                                 ...   \n",
       "145  Ja, die Temperaturen auf der Erde werden in de...   \n",
       "146  Niedrige Windenergieerträge führen zu hohen St...   \n",
       "147  Die hohen Strompreise in Deutschland beeinflus...   \n",
       "148  Die Strompreise für Haushaltskunden bleiben st...   \n",
       "149  Hohe Strompreise bei wenig Wind beeinflussen d...   \n",
       "\n",
       "                                               context retrieval_context  \\\n",
       "0    [ikamentes noch relativ umständlich ist: Es mu...              None   \n",
       "1    [ikamentes noch relativ umständlich ist: Es mu...              None   \n",
       "2    [ikamentes noch relativ umständlich ist: Es mu...              None   \n",
       "3    [ikamentes noch relativ umständlich ist: Es mu...              None   \n",
       "4    [liche Gemeinschaft muss kontinuierlich an der...              None   \n",
       "..                                                 ...               ...   \n",
       "145  [wa 50 Prozent beträgt, dass einzelne Jahre di...              None   \n",
       "146  [TITLE: Dunkelflauten: Wie hohe Strompreise ge...              None   \n",
       "147  [TITLE: Dunkelflauten: Wie hohe Strompreise ge...              None   \n",
       "148  [herpreis: \\n„Für die allermeisten Haushaltsku...              None   \n",
       "149  [herpreis: \\n„Für die allermeisten Haushaltsku...              None   \n",
       "\n",
       "     n_chunks_per_context  context_length       evolutions context_quality  \\\n",
       "0                       3            3718  [Multi-context]            None   \n",
       "1                       3            3718     [In-Breadth]            None   \n",
       "2                       3            3718  [Multi-context]            None   \n",
       "3                       3            3718     [In-Breadth]            None   \n",
       "4                       3            4025    [Constrained]            None   \n",
       "..                    ...             ...              ...             ...   \n",
       "145                     3            3849  [Multi-context]            None   \n",
       "146                     3            3997    [Constrained]            None   \n",
       "147                     3            3997      [Reasoning]            None   \n",
       "148                     3            3865   [Concretizing]            None   \n",
       "149                     3            3865   [Concretizing]            None   \n",
       "\n",
       "     synthetic_input_quality  \\\n",
       "0                        0.8   \n",
       "1                        0.8   \n",
       "2                        0.8   \n",
       "3                        0.8   \n",
       "4                        0.8   \n",
       "..                       ...   \n",
       "145                      0.5   \n",
       "146                      0.7   \n",
       "147                      0.7   \n",
       "148                      0.6   \n",
       "149                      0.8   \n",
       "\n",
       "                                           source_file  \n",
       "0    data/example_data/10_Copernicus-Report_ 2024 w...  \n",
       "1    data/example_data/10_Copernicus-Report_ 2024 w...  \n",
       "2    data/example_data/10_Copernicus-Report_ 2024 w...  \n",
       "3    data/example_data/10_Copernicus-Report_ 2024 w...  \n",
       "4    data/example_data/10_Copernicus-Report_ 2024 w...  \n",
       "..                                                 ...  \n",
       "145  data/example_data/10_Copernicus-Report_ 2024 w...  \n",
       "146  data/example_data/10_Copernicus-Report_ 2024 w...  \n",
       "147  data/example_data/10_Copernicus-Report_ 2024 w...  \n",
       "148  data/example_data/10_Copernicus-Report_ 2024 w...  \n",
       "149  data/example_data/10_Copernicus-Report_ 2024 w...  \n",
       "\n",
       "[150 rows x 11 columns]"
      ]
     },
     "execution_count": 76,
     "metadata": {},
     "output_type": "execute_result"
    }
   ],
   "source": [
    "synthetic_qa_pairs"
   ]
  },
  {
   "cell_type": "markdown",
   "metadata": {},
   "source": [
    "## Zusammenfassung unseres Mini-Sets  \n",
    "* Mean = **0.x0** – also grundsätzlich gut.  \n",
    "* Das Histogramm zeigt jedoch ein klares Cluster sehr ähnlicher Fragen.  \n",
    "\n",
    "Das ist nicht weiter überraschend, die Queries stammen schließlich aus nur sehr wenigen Artikeln.<br>  \n",
    "Allgemein kann man jedoch sagen: Je heterogener die Knowledge-Base, desto vielfältiger die Fragen.<br>\n",
    "Andernfalls hilft gezieltes *De-Duplizieren*, das würde aber den Rahmen dieses Workshops sprengen.<br>\n",
    "<br>\n",
    "Am Ende sollte man die Fragen trotzdem noch manuell prüfen.<br>\n",
    "So bekommt man ein Gefühl für Stil, Tiefe und Kontext – und kannst offensichtlich unbrauchbare oder schlechte Fragen direkt entfernen.<br>\n",
    "<br>\n",
    "Hier noch ein paar Quellen und weiterführende Links:<br>\n",
    "<br>\n",
    " [Hintergrund zur Erstellung synthetische Datensets](https://www.confident-ai.com/blog/the-definitive-guide-to-synthetic-data-generation-using-llms)<br>\n",
    " [deepeval Doku](https://deepeval.com/docs/synthesizer-introduction)<br>\n",
    " [Ein bisschen theoretischer Hintergrund in leicht aufbereitet](https://msukhareva.substack.com/p/synthetic-datasets-for-applied-ai)<br>\n"
   ]
  },
  {
   "cell_type": "code",
   "execution_count": null,
   "metadata": {},
   "outputs": [],
   "source": []
  }
 ],
 "metadata": {
  "kernelspec": {
   "display_name": "Python 3",
   "language": "python",
   "name": "python3"
  },
  "language_info": {
   "codemirror_mode": {
    "name": "ipython",
    "version": 3
   },
   "file_extension": ".py",
   "mimetype": "text/x-python",
   "name": "python",
   "nbconvert_exporter": "python",
   "pygments_lexer": "ipython3",
   "version": "3.11.11"
  }
 },
 "nbformat": 4,
 "nbformat_minor": 2
}
