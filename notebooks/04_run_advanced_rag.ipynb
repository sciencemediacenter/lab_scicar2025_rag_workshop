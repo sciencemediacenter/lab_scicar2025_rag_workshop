{
 "cells": [
  {
   "cell_type": "markdown",
   "metadata": {},
   "source": [
    "## Experiment 2 - Advanced RAG System\n",
    "\n",
    "Wie auch in *Experiment 1* vergleichen wir hier erneut eine komplette RAG-Pipeline, diesmal aber mit einigen **komplexeren retrieval-Schritten**. Der Ablauf ist analog `03_run_naive_rag` Skript.<br>\n",
    "<br>\n",
    "• Schritt 1: **Advanced RAG pipeline aufsetzen**: Erneut erstellen wir eine RAG pipeline, diesmal mit erweiterten Funktionen.<br>\n",
    "<br>\n",
    "• Schritt 2: **Antworten generieren**: Fragen werden durch das System geschickt.<br>\n",
    "<br>\n",
    "• Schritt 3: **Performance messen**: Die generierten Antworten mit den 3 Metriken der *RAG Triade* bewertet.<br>\n",
    "<br>"
   ]
  },
  {
   "cell_type": "code",
   "execution_count": 1,
   "metadata": {},
   "outputs": [
    {
     "name": "stderr",
     "output_type": "stream",
     "text": [
      "/usr/local/lib/python3.11/site-packages/google/protobuf/runtime_version.py:98: UserWarning: Protobuf gencode version 5.29.0 is exactly one major version older than the runtime version 6.31.1 at v1/aggregate.proto. Please update the gencode to avoid compatibility violations in the next runtime release.\n",
      "  warnings.warn(\n",
      "/usr/local/lib/python3.11/site-packages/google/protobuf/runtime_version.py:98: UserWarning: Protobuf gencode version 5.29.0 is exactly one major version older than the runtime version 6.31.1 at v1/base.proto. Please update the gencode to avoid compatibility violations in the next runtime release.\n",
      "  warnings.warn(\n",
      "/usr/local/lib/python3.11/site-packages/google/protobuf/runtime_version.py:98: UserWarning: Protobuf gencode version 5.29.0 is exactly one major version older than the runtime version 6.31.1 at v1/base_search.proto. Please update the gencode to avoid compatibility violations in the next runtime release.\n",
      "  warnings.warn(\n",
      "/usr/local/lib/python3.11/site-packages/google/protobuf/runtime_version.py:98: UserWarning: Protobuf gencode version 5.29.0 is exactly one major version older than the runtime version 6.31.1 at v1/batch_delete.proto. Please update the gencode to avoid compatibility violations in the next runtime release.\n",
      "  warnings.warn(\n",
      "/usr/local/lib/python3.11/site-packages/google/protobuf/runtime_version.py:98: UserWarning: Protobuf gencode version 5.29.0 is exactly one major version older than the runtime version 6.31.1 at v1/batch.proto. Please update the gencode to avoid compatibility violations in the next runtime release.\n",
      "  warnings.warn(\n",
      "/usr/local/lib/python3.11/site-packages/google/protobuf/runtime_version.py:98: UserWarning: Protobuf gencode version 5.29.0 is exactly one major version older than the runtime version 6.31.1 at v1/search_get.proto. Please update the gencode to avoid compatibility violations in the next runtime release.\n",
      "  warnings.warn(\n",
      "/usr/local/lib/python3.11/site-packages/google/protobuf/runtime_version.py:98: UserWarning: Protobuf gencode version 5.29.0 is exactly one major version older than the runtime version 6.31.1 at v1/generative.proto. Please update the gencode to avoid compatibility violations in the next runtime release.\n",
      "  warnings.warn(\n",
      "/usr/local/lib/python3.11/site-packages/google/protobuf/runtime_version.py:98: UserWarning: Protobuf gencode version 5.29.0 is exactly one major version older than the runtime version 6.31.1 at v1/properties.proto. Please update the gencode to avoid compatibility violations in the next runtime release.\n",
      "  warnings.warn(\n",
      "/usr/local/lib/python3.11/site-packages/google/protobuf/runtime_version.py:98: UserWarning: Protobuf gencode version 5.29.0 is exactly one major version older than the runtime version 6.31.1 at v1/tenants.proto. Please update the gencode to avoid compatibility violations in the next runtime release.\n",
      "  warnings.warn(\n",
      "/usr/local/lib/python3.11/site-packages/faiss/loader.py:49: DeprecationWarning: numpy.core._multiarray_umath is deprecated and has been renamed to numpy._core._multiarray_umath. The numpy._core namespace contains private NumPy internals and its use is discouraged, as NumPy internals can change without warning in any release. In practice, most real-world usage of numpy.core is to access functionality in the public NumPy API. If that is the case, use the public NumPy API. If not, you are using NumPy internals. If you would still like to access an internal attribute, use numpy._core._multiarray_umath.__cpu_features__.\n",
      "  from numpy.core._multiarray_umath import __cpu_features__\n",
      "<frozen importlib._bootstrap>:241: DeprecationWarning: builtin type SwigPyPacked has no __module__ attribute\n",
      "<frozen importlib._bootstrap>:241: DeprecationWarning: builtin type SwigPyObject has no __module__ attribute\n",
      "<frozen importlib._bootstrap>:241: DeprecationWarning: builtin type swigvarlink has no __module__ attribute\n"
     ]
    }
   ],
   "source": [
    "# Imports & keys \n",
    "\n",
    "import os\n",
    "os.chdir(\"/workspace\")\n",
    "\n",
    "from pathlib import Path\n",
    "import json\n",
    "import sys, subprocess, json, asyncio, nest_asyncio\n",
    "nest_asyncio.apply()\n",
    "\n",
    "import src.graph.advanced_rag as advanced_rag_graph\n",
    "from src.graph.components.configuration import Configuration\n",
    "\n",
    "from langchain_core.runnables import RunnableConfig"
   ]
  },
  {
   "cell_type": "markdown",
   "metadata": {},
   "source": [
    "### Was macht die Pipeline?\n",
    "\n",
    "Im Unterschied zur *naiven* Pipeline aus Experiment 1 durchläuft eine Frage jetzt mehrere Stufen:\n",
    "\n",
    "1. **Query Decomposition**  \n",
    "   - Ein separates LLM bestimmt zunächst, ob die input Frage komplex (bzw. mehrteilig ist). \n",
    "   - Falls dies zutrifft, wird die Frage durch ein weiteres LLM in *Sub-Queries* zerlegt.\n",
    "\n",
    "2. **Mehrstufiges Retrieval**  \n",
    "   - Für die Original-Frage **und** jede weitere Sub-Query wird der Vectorstore abgefragt.  \n",
    "   - Die Teilergebnisse werden mit **RRF (Reciprocal Rank Fusion)** zusammengeführt:  \n",
    "     Dokumente, die in mehreren Lister häufiger bzw. weit oben erscheinen, kommen nach oben,  \n",
    "     während Dokumente, die nur selten oder weit hinten auftauchen, nach unten rutschen.  \n",
    "\n",
    "3. **Cross-Encoder Reranking (Cohere API nötig)**  \n",
    "   - Die Top-N Passagen werden noch einmal mit einem Cross-Encoder sortiert,  \n",
    "     um semantisch *feinere* Relevanzbewertungen zu berechnen.  \n",
    "\n",
    "4. **Answer Generation**  \n",
    "   - Frage + neu gerankte Kontexte landen im LLM, das die finale Antwort schreibt.  \n"
   ]
  },
  {
   "cell_type": "code",
   "execution_count": 2,
   "metadata": {},
   "outputs": [
    {
     "data": {
      "image/png": "[encoded data removed]",
      "text/plain": [
       "<langgraph.graph.state.CompiledStateGraph object at 0xffff3c7344d0>"
      ]
     },
     "execution_count": 2,
     "metadata": {},
     "output_type": "execute_result"
    }
   ],
   "source": [
    "advanced_rag_graph.graph"
   ]
  },
  {
   "cell_type": "code",
   "execution_count": 3,
   "metadata": {},
   "outputs": [],
   "source": [
    "# graph configuration \n",
    "cfg = Configuration(\n",
    "    provider=\"anthropic\", # choose the provider \n",
    "    answer_gen_model=\"claude-3-5-haiku-20241022\", # choose the LLM gen model\n",
    "    use_query_decomposition=True, # use query decomposition\n",
    "    temperature=0.2, # set the temperature\n",
    "    num_answers=1, # number of answers to generate \n",
    "    max_tokens=128, # maximum tokens for the answer generation (keep it short for this test)\n",
    ")\n",
    "\n",
    "run_cfg = RunnableConfig(\n",
    "    configurable=cfg.model_dump()\n",
    "    )"
   ]
  },
  {
   "cell_type": "code",
   "execution_count": 4,
   "metadata": {},
   "outputs": [
    {
     "name": "stderr",
     "output_type": "stream",
     "text": [
      "/workspace/src/graph/advanced_rag.py:157: LangChainDeprecationWarning: The class `CohereRerank` was deprecated in LangChain 0.0.30 and will be removed in 1.0. An updated version of the class exists in the :class:`~langchain-cohere package and should be used instead. To use it run `pip install -U :class:`~langchain-cohere` and import as `from :class:`~langchain_cohere import CohereRerank``.\n",
      "  reranker = CohereRerank(\n",
      "<frozen abc>:123: ResourceWarning: unclosed <ssl.SSLSocket fd=80, family=2, type=1, proto=6, laddr=('172.31.0.2', 42384), raddr=('34.96.76.122', 443)>\n",
      "ResourceWarning: Enable tracemalloc to get the object allocation traceback\n"
     ]
    },
    {
     "data": {
      "text/plain": [
       "{'question': 'welche neuen medikamente zur behandlung von psychosen gibt es und wie wirken diese?',\n",
       " 'answers': ['Basierend auf den bereitgestellten Informationen kann ich zwei vielversprechende neue Medikamente zur Behandlung von Psychosen und Schizophrenie hervorheben:\\n\\n1. KarXT (Cobenfy):\\nDas Medikament nutzt einen neuartigen Wirkmechanismus über Muskarinrezeptoren. Es besteht aus zwei Wirkstoffen:\\n- Xanomelin: Ein M1/M4 muscarinerger Agonist, der die präsynaptische'],\n",
       " 'context': [Document(metadata={'title': 'FDA lässt neuartiges Medikament zur Behandlung von Schizophrenie zu', 'rrf_score': 0.03076923076923077, 'relevance_score': 0.6437107}, page_content='Die amerikanische Arzneimittelbehörde FDA hat in der Nacht vom 26.09.2024 auf den 27.09.2024 das neuartige Medikament KarXT (Markenname Cobenfy) zur Behandlung von Schizophrenie zugelassen https://www.fda.gov/news-events/press-announcements/fda-approves-drug-new-mechanism-action-treatment-schizophrenia[I]. Die bisherigen Antipsychotika zielen mit ihrer Wirkung direkt auf den Botenstoff Dopamin ab, der im Körper etwa für das Belohnungssystem oder auch Bewegung, zuständig ist. Nebenwirkungen sind'),\n",
       "  Document(metadata={'title': 'FDA lässt neuartiges Medikament zur Behandlung von Schizophrenie zu', 'rrf_score': 0.029850746268656716, 'relevance_score': 0.6100127}, page_content='„Das Medikament KarXT ist meiner Einschätzung nach eine Möglichkeit, die Therapie von Psychosen und Schizophrenie für wenigstens einige Patient:innen zu revolutionieren. Das liegt an dem besonderen Wirkmechanismus von Xanomelin, einem M1/M4 muscarinergen Agonisten, der mit Trospium, einem peripher beschränkten Anticholiergikum kombiniert ist und über die Wirkung auf Muskarinrezeptoren indirekt die präsynaptische Dopaminausschüttung reduziert. Bisherige Antipsychotika blockieren postsynaptische'),\n",
       "  Document(metadata={'title': 'FDA lässt neuartiges Medikament zur Behandlung von Schizophrenie zu', 'rrf_score': 0.015625, 'relevance_score': 0.57322514}, page_content='Potenzial von KarXT: \\n„Das Spannende an dem neuen Medikament KarXT ist, dass es einen ganz neuen Wirkmechanismus zur Behandlung von Schizophrenie verwendet. Die meisten Antipsychotika wirken auf das dopaminerge System, wodurch nicht selten Nebenwirkungen in der Motorik wie verlangsamte oder auch unwillkürliche Bewegungen auftreten. Außerdem scheint KarXT im Gegensatz zu vielen Antipsychotika nicht zu einer Gewichtszunahme, sondern viel mehr zu einer Gewichtsabnahme zu führen.“'),\n",
       "  Document(metadata={'title': 'FDA lässt neuartiges Medikament zur Behandlung von Schizophrenie zu', 'rrf_score': 0.02857142857142857, 'relevance_score': 0.5717911}, page_content='„Das Medikament KarXT ist eine wichtige Innovation in der pharmakologischen Behandlung von Schizophrenie und öffnet die Tür für weitere Medikamente dieser Substanzklasse. Seit vielen Jahrzehnten gab es auf diesem Forschungsfeld keinen neuen Medikamentenansatz, die letzte spürbare Verbesserung war damals die durch die Dopamin-Agonisten. KarXT wirkt zwar auch auf Dopamin, allerdings indirekt. Xanomelin sorgt für eine Aktivierung der Muskarinrezeptoren M1 und M4 und Trospium verhindert diese Aktivierung im'),\n",
       "  Document(metadata={'title': 'FDA lässt neuartiges Medikament zur Behandlung von Schizophrenie zu', 'rrf_score': 0.03278688524590164, 'relevance_score': 0.5191075}, page_content='„Zudem ist es prinzipiell gut, wenn Behandelnde aus einem breiten Spektrum an guten Medikamenten zur Behandlung der Patienten wählen können. Je nach Person und Krankheitsbild können unterschiedliche Medikamente besser passen. Dies ist seit einigen Jahrzehnten der erste neue Ansatz für ein Schizophrenie-Medikament mit einer offenbar guten Wirksamkeit und anderen Nebenwirkungen. Ob KarXT die bisherigen Medikamente ablösen könnte, wissen wir noch nicht, dafür braucht es die entsprechenden Studien. Ein'),\n",
       "  Document(metadata={'title': 'FDA lässt neuartiges Medikament zur Behandlung von Schizophrenie zu', 'rrf_score': 0.03225806451612903, 'relevance_score': 0.50476116}, page_content='„Obwohl die Schizophrenie eine der sozioökonomisch teuersten Erkrankung mit einer Lebenszeitreduktion von mehr als 15 Jahren und einer massiven Einschränkung der Lebensqualität ist, findet leider nur wenig innovative Arzneiforschung statt. Erfreulicherweise ändert sich das im Moment. Andere vielversprechende Medikamente sind auf jeden Fall Emraclidin, welches als positiv allosterischer Modulator am M4-Rezeptor wirkt und einen vergleichbaren Ansatz wie KarXT aufweist. Hier hat die Firma AbbVie die'),\n",
       "  Document(metadata={'title': 'FDA lässt neuartiges Medikament zur Behandlung von Schizophrenie zu', 'rrf_score': 0.029411764705882353, 'relevance_score': 0.49582586}, page_content='Studien. Ein weiteres Medikament zur Behandlung von Schizophrenie, das ebenfalls vielversprechend aussieht, ist Emraclidine, welches auch auf dem muskarinergen Wirkmechanismus basiert.“'),\n",
       "  Document(metadata={'title': 'FDA lässt neuartiges Medikament zur Behandlung von Schizophrenie zu', 'rrf_score': 0.03125, 'relevance_score': 0.3597245}, page_content='„Ich schätze das Potenzial als extrem hoch ein, da wir erstmals seit mehreren Jahrzehnten einen wirklichen Durchbruch in der Pharmakotherapie der Schizophrenie haben. Das Konzept, die muskarinergen Rezeptoren als Target zu verwenden, ist per se nicht neu, aber die aktuelle Formulierung mit Trospium zur Reduktion der peripheren Nebenwirkungen scheint den Durchbruch ermöglicht zu haben. Die Substanz ist die erste, die nicht dem Konzept der Dopamin-Hypothese zur Behandlung der Schizophrenie folgt. Ich sehe'),\n",
       "  Document(metadata={'title': 'FDA lässt neuartiges Medikament zur Behandlung von Schizophrenie zu', 'rrf_score': 0.01639344262295082, 'relevance_score': 0.34913373}, page_content='hemmt, was wiederum die präsynaptische Dopaminausschüttun im Striatum reduziert, dort, wo wir die Psychose derzeit mechanistisch ansiedeln. Gleichzeitig wirkt Xanomelin aber auch noch stimulierend auf die M4-Rezeptoren sowohl im Mittelhirn als auch im assoziativen Striatum, was wiederum die Dopaminausschüttung und damit die psychotischen Symptome reduziert. Damit die Wirkung auf das zentrale Nervensystem beschränkt wird, kommt Trospium ins Spiel. Dieser Wirkstoff agiert nur im peripheren Nervensystem und'),\n",
       "  Document(metadata={'title': 'FDA lässt neuartiges Medikament zur Behandlung von Schizophrenie zu', 'rrf_score': 0.014925373134328358, 'relevance_score': 0.32882085}, page_content='• neuartiger Wirkmechanismus bietet erste Therapiealternative seit Jahrzehnten\\n• „KarXT\" führt nicht zu typischen Nebenwirkungen bisheriger Antipsychotika\\n• Experten befürworten die Entscheidung der FDA und betonen die Bedeutung für die Behandlung von Schizophrenie')]}"
      ]
     },
     "execution_count": 4,
     "metadata": {},
     "output_type": "execute_result"
    }
   ],
   "source": [
    "# run a test question\n",
    "query = \"welche neuen medikamente zur behandlung von psychosen gibt es und wie wirken diese?\"\n",
    "\n",
    "result = advanced_rag_graph.graph.invoke(\n",
    "    {\"question\": query}, \n",
    "    config = run_cfg)\n",
    "\n",
    "result"
   ]
  },
  {
   "cell_type": "code",
   "execution_count": 20,
   "metadata": {},
   "outputs": [
    {
     "name": "stderr",
     "output_type": "stream",
     "text": [
      "/usr/local/lib/python3.11/http/cookiejar.py:1232: ResourceWarning: unclosed <ssl.SSLSocket fd=158, family=2, type=1, proto=6, laddr=('172.31.0.2', 60498), raddr=('34.96.76.122', 443)>\n",
      "  obj.items\n",
      "ResourceWarning: Enable tracemalloc to get the object allocation traceback\n"
     ]
    }
   ],
   "source": [
    "state = {\"question\": query}\n",
    "query_decomp_step = advanced_rag_graph.query_decomposition_step(state, run_cfg)\n",
    "retrieval_step = advanced_rag_graph.retrieve_raw_step(state, run_cfg)\n",
    "state.update(retrieval_step)\n",
    "rerank_step = advanced_rag_graph.rerank_retrieved_docs(state, run_cfg)\n",
    "state.update(rerank_step)"
   ]
  },
  {
   "cell_type": "markdown",
   "metadata": {},
   "source": [
    "### Antworten für das gesamte Datenset erzeugen\n",
    "\n",
    "Wie auch im vorherigen Skript erzeugen wir für jede synthetische Frage **drei** Antworten,  \n",
    "um zufällige LLM-Effekte auszugleichen und robustere Kennzahlen zu bekommen."
   ]
  },
  {
   "cell_type": "code",
   "execution_count": 5,
   "metadata": {},
   "outputs": [
    {
     "name": "stderr",
     "output_type": "stream",
     "text": [
      "Generating Answer for Question...: 100%|██████████| 5/5 [00:41<00:00,  8.32s/it]\n"
     ]
    }
   ],
   "source": [
    "import pandas as pd\n",
    "import time\n",
    "from tqdm import tqdm\n",
    "\n",
    "# load generated dataset\n",
    "synth_data = pd.read_csv(\"synthetic_qa_pairs_mock.csv\")\n",
    "\n",
    "results = []\n",
    "\n",
    "# iterate through the questions and generate answers\n",
    "for idx in tqdm(range(len(synth_data)), desc=f\"Generating Answer for Question...\"):\n",
    "    question = synth_data.iloc[idx]['input']\n",
    "    \n",
    "    try:\n",
    "        # Run RAG pipeline\n",
    "        start_time = time.time()\n",
    "        result = advanced_rag_graph.graph.invoke(\n",
    "            {\"question\": question}, \n",
    "            config=run_cfg\n",
    "        )\n",
    "        process_time = time.time() - start_time\n",
    "        \n",
    "        # Create base result dictionary\n",
    "        result_dict = {\n",
    "            'query_id': idx,\n",
    "            'question': question,\n",
    "            'gold_answer': synth_data.iloc[idx]['expected_output'],\n",
    "            'latency': process_time,\n",
    "            'context': [ctx.page_content for ctx in result['context']],\n",
    "            'word_count': sum(len(ctx.page_content.split()) for ctx in result['context']),\n",
    "        }\n",
    "        \n",
    "        # Add individual answers (if we generate more than 1)\n",
    "        for ans_idx, answer in enumerate(result['answers'], 1):\n",
    "            result_dict[f'answer_no_{ans_idx}'] = answer\n",
    "        \n",
    "        results.append(result_dict)\n",
    "        \n",
    "    except Exception as e:\n",
    "        print(f\"Error processing question {idx}: {str(e)}\")\n",
    "        continue"
   ]
  },
  {
   "cell_type": "code",
   "execution_count": 6,
   "metadata": {},
   "outputs": [
    {
     "name": "stdout",
     "output_type": "stream",
     "text": [
      "\n",
      "Results saved to results/advanced_rag_res.json\n"
     ]
    }
   ],
   "source": [
    "# save final results\n",
    "output_path = Path('results/advanced_rag_res.json')\n",
    "with open(output_path, 'w', encoding='utf-8') as f:\n",
    "    json.dump(results, f, ensure_ascii=False, indent=2)\n",
    "\n",
    "print(f\"\\nResults saved to {output_path}\")"
   ]
  },
  {
   "cell_type": "code",
   "execution_count": 7,
   "metadata": {},
   "outputs": [
    {
     "name": "stderr",
     "output_type": "stream",
     "text": [
      "/tmp/ipykernel_44009/4111221960.py:2: ResourceWarning: unclosed file <_io.TextIOWrapper name='results/advanced_rag_res.json' mode='r' encoding='utf-8'>\n",
      "  results = json.load(open(\"results/advanced_rag_res.json\", encoding=\"utf-8\"))\n",
      "ResourceWarning: Enable tracemalloc to get the object allocation traceback\n"
     ]
    }
   ],
   "source": [
    "# load final results\n",
    "results = json.load(open(\"results/advanced_rag_res.json\", encoding=\"utf-8\"))"
   ]
  },
  {
   "cell_type": "markdown",
   "metadata": {},
   "source": [
    "### Bewertung der generierten Antworten\n",
    "\n",
    "Und auch die Bewertung läuft eins-zu-eins wie in Experiment 1:  \n",
    "Wir nutzen erneut die 3 **RAG-Triade** Kenngrößen (*Contextual Relevancy, Answer Relevancy, Faithfulness*).  \n",
    "So sind die Scores vergleichbar und wir können sehen, ob die fortgeschrittene Pipeline mehr Qualität liefert."
   ]
  },
  {
   "cell_type": "code",
   "execution_count": 8,
   "metadata": {},
   "outputs": [
    {
     "name": "stderr",
     "output_type": "stream",
     "text": [
      "<frozen importlib._bootstrap>:241: ResourceWarning: unclosed <ssl.SSLSocket fd=82, family=2, type=1, proto=6, laddr=('172.31.0.2', 36552), raddr=('34.96.76.122', 443)>\n",
      "ResourceWarning: Enable tracemalloc to get the object allocation traceback\n",
      "<frozen importlib._bootstrap>:241: ResourceWarning: unclosed <ssl.SSLSocket fd=84, family=2, type=1, proto=6, laddr=('172.31.0.2', 46996), raddr=('34.96.76.122', 443)>\n",
      "ResourceWarning: Enable tracemalloc to get the object allocation traceback\n",
      "<frozen importlib._bootstrap>:241: ResourceWarning: unclosed <ssl.SSLSocket fd=85, family=2, type=1, proto=6, laddr=('172.31.0.2', 55384), raddr=('34.96.76.122', 443)>\n",
      "ResourceWarning: Enable tracemalloc to get the object allocation traceback\n",
      "<frozen importlib._bootstrap>:241: ResourceWarning: unclosed <ssl.SSLSocket fd=87, family=2, type=1, proto=6, laddr=('172.31.0.2', 55388), raddr=('34.96.76.122', 443)>\n",
      "ResourceWarning: Enable tracemalloc to get the object allocation traceback\n",
      "<frozen importlib._bootstrap>:241: ResourceWarning: unclosed <ssl.SSLSocket fd=88, family=2, type=1, proto=6, laddr=('172.31.0.2', 46132), raddr=('34.96.76.122', 443)>\n",
      "ResourceWarning: Enable tracemalloc to get the object allocation traceback\n",
      "/usr/local/lib/python3.11/site-packages/pydantic/_internal/_config.py:323: PydanticDeprecatedSince20: Support for class-based `config` is deprecated, use ConfigDict instead. Deprecated in Pydantic V2.0 to be removed in V3.0. See Pydantic V2 Migration Guide at https://errors.pydantic.dev/2.11/migration/\n",
      "  warnings.warn(DEPRECATION_MESSAGE, DeprecationWarning)\n",
      "/usr/local/lib/python3.11/site-packages/pydantic/_internal/_config.py:323: PydanticDeprecatedSince20: Support for class-based `config` is deprecated, use ConfigDict instead. Deprecated in Pydantic V2.0 to be removed in V3.0. See Pydantic V2 Migration Guide at https://errors.pydantic.dev/2.11/migration/\n",
      "  warnings.warn(DEPRECATION_MESSAGE, DeprecationWarning)\n",
      "Scoring answers:   0%|          | 0/5 [00:00<?, ?it/s]/usr/local/lib/python3.11/asyncio/selector_events.py:868: ResourceWarning: unclosed transport <_SelectorSocketTransport fd=153 read=idle write=<idle, bufsize=0>>\n",
      "  _warn(f\"unclosed transport {self!r}\", ResourceWarning, source=self)\n",
      "ResourceWarning: Enable tracemalloc to get the object allocation traceback\n",
      "/usr/local/lib/python3.11/typing.py:1318: ResourceWarning: unclosed <socket.socket fd=161, family=2, type=1, proto=6, laddr=('172.31.0.2', 50990), raddr=('162.159.140.245', 443)>\n",
      "  raise AttributeError(attr)\n",
      "ResourceWarning: Enable tracemalloc to get the object allocation traceback\n",
      "/usr/local/lib/python3.11/asyncio/selector_events.py:868: ResourceWarning: unclosed transport <_SelectorSocketTransport fd=161 read=idle write=<idle, bufsize=0>>\n",
      "  _warn(f\"unclosed transport {self!r}\", ResourceWarning, source=self)\n",
      "ResourceWarning: Enable tracemalloc to get the object allocation traceback\n",
      "/usr/local/lib/python3.11/asyncio/selector_events.py:868: ResourceWarning: unclosed transport <_SelectorSocketTransport fd=158 read=idle write=<idle, bufsize=0>>\n",
      "  _warn(f\"unclosed transport {self!r}\", ResourceWarning, source=self)\n",
      "ResourceWarning: Enable tracemalloc to get the object allocation traceback\n",
      "/usr/local/lib/python3.11/asyncio/selector_events.py:868: ResourceWarning: unclosed transport <_SelectorSocketTransport fd=159 read=idle write=<idle, bufsize=0>>\n",
      "  _warn(f\"unclosed transport {self!r}\", ResourceWarning, source=self)\n",
      "ResourceWarning: Enable tracemalloc to get the object allocation traceback\n",
      "/usr/local/lib/python3.11/asyncio/selector_events.py:868: ResourceWarning: unclosed transport <_SelectorSocketTransport fd=160 read=idle write=<idle, bufsize=0>>\n",
      "  _warn(f\"unclosed transport {self!r}\", ResourceWarning, source=self)\n",
      "ResourceWarning: Enable tracemalloc to get the object allocation traceback\n",
      "/usr/local/lib/python3.11/asyncio/selector_events.py:868: ResourceWarning: unclosed transport <_SelectorSocketTransport fd=164 read=idle write=<idle, bufsize=0>>\n",
      "  _warn(f\"unclosed transport {self!r}\", ResourceWarning, source=self)\n",
      "ResourceWarning: Enable tracemalloc to get the object allocation traceback\n",
      "/usr/local/lib/python3.11/asyncio/selector_events.py:868: ResourceWarning: unclosed transport <_SelectorSocketTransport fd=165 read=idle write=<idle, bufsize=0>>\n",
      "  _warn(f\"unclosed transport {self!r}\", ResourceWarning, source=self)\n",
      "ResourceWarning: Enable tracemalloc to get the object allocation traceback\n",
      "/usr/local/lib/python3.11/asyncio/selector_events.py:868: ResourceWarning: unclosed transport <_SelectorSocketTransport fd=166 read=idle write=<idle, bufsize=0>>\n",
      "  _warn(f\"unclosed transport {self!r}\", ResourceWarning, source=self)\n",
      "ResourceWarning: Enable tracemalloc to get the object allocation traceback\n",
      "/usr/local/lib/python3.11/asyncio/selector_events.py:868: ResourceWarning: unclosed transport <_SelectorSocketTransport fd=168 read=idle write=<idle, bufsize=0>>\n",
      "  _warn(f\"unclosed transport {self!r}\", ResourceWarning, source=self)\n",
      "ResourceWarning: Enable tracemalloc to get the object allocation traceback\n",
      "/usr/local/lib/python3.11/asyncio/selector_events.py:868: ResourceWarning: unclosed transport <_SelectorSocketTransport fd=169 read=idle write=<idle, bufsize=0>>\n",
      "  _warn(f\"unclosed transport {self!r}\", ResourceWarning, source=self)\n",
      "ResourceWarning: Enable tracemalloc to get the object allocation traceback\n",
      "Scoring answers:  60%|██████    | 3/5 [00:17<00:07,  3.99s/it]/usr/local/lib/python3.11/site-packages/anyio/_core/_sockets.py:232: ResourceWarning: unclosed <socket.socket fd=158, family=2, type=1, proto=6, laddr=('172.31.0.2', 51100), raddr=('162.159.140.245', 443)>\n",
      "  with move_on_after(happy_eyeballs_delay):\n",
      "ResourceWarning: Enable tracemalloc to get the object allocation traceback\n",
      "Scoring answers: 100%|██████████| 5/5 [00:23<00:00,  4.76s/it]\n"
     ]
    }
   ],
   "source": [
    "from src.utils.evals import rate_dataset \n",
    "\n",
    "# evaluation\n",
    "rated_results = asyncio.run(rate_dataset(results, model=\"gpt-4o-mini\", max_concurrency=5))"
   ]
  },
  {
   "cell_type": "code",
   "execution_count": 9,
   "metadata": {},
   "outputs": [
    {
     "name": "stdout",
     "output_type": "stream",
     "text": [
      "\n",
      "Results saved to results/advanced_rag_res_rated.json\n"
     ]
    }
   ],
   "source": [
    "# save evaluated results\n",
    "output_path = Path('results/advanced_rag_res_rated.json')\n",
    "with open(output_path, 'w', encoding='utf-8') as f:\n",
    "    json.dump(results, f, ensure_ascii=False, indent=2)\n",
    "\n",
    "print(f\"\\nResults saved to {output_path}\")"
   ]
  },
  {
   "cell_type": "code",
   "execution_count": null,
   "metadata": {},
   "outputs": [],
   "source": []
  }
 ],
 "metadata": {
  "kernelspec": {
   "display_name": "Python 3",
   "language": "python",
   "name": "python3"
  },
  "language_info": {
   "codemirror_mode": {
    "name": "ipython",
    "version": 3
   },
   "file_extension": ".py",
   "mimetype": "text/x-python",
   "name": "python",
   "nbconvert_exporter": "python",
   "pygments_lexer": "ipython3",
   "version": "3.11.11"
  }
 },
 "nbformat": 4,
 "nbformat_minor": 2
}
