{
 "cells": [
  {
   "cell_type": "markdown",
   "metadata": {},
   "source": [
    "## Experiment 2 - Advanced RAG System\n",
    "\n",
    "Wie auch in *Experiment 1* vergleichen wir hier erneut eine komplette RAG-Pipeline, diesmal aber mit einigen **komplexeren retrieval-Schritten**. Der Ablauf ist analog `03_run_naive_rag` Skript.<br>\n",
    "<br>\n",
    "• Schritt 1: **Advanced RAG pipeline aufsetzen**: Erneut erstellen wir eine RAG pipeline, diesmal mit erweiterten Funktionen.<br>\n",
    "<br>\n",
    "• Schritt 2: **Antworten generieren**: Fragen werden durch das System geschickt.<br>\n",
    "<br>\n",
    "• Schritt 3: **Performance messen**: Die generierten Antworten mit den 3 Metriken der *RAG Triade* bewertet.<br>\n",
    "<br>"
   ]
  },
  {
   "cell_type": "code",
   "execution_count": 18,
   "metadata": {},
   "outputs": [],
   "source": [
    "# Imports & keys \n",
    "\n",
    "import os\n",
    "os.chdir(\"/workspace\")\n",
    "\n",
    "from pathlib import Path\n",
    "import json\n",
    "import sys, subprocess, json, asyncio, nest_asyncio\n",
    "nest_asyncio.apply()\n",
    "\n",
    "import src.graph.advanced_rag as advanced_rag_graph\n",
    "from src.graph.components.configuration import Configuration\n",
    "\n",
    "from langchain_core.runnables import RunnableConfig"
   ]
  },
  {
   "cell_type": "markdown",
   "metadata": {},
   "source": [
    "### Was macht die Pipeline?\n",
    "\n",
    "Im Unterschied zur *naiven* Pipeline aus Experiment 1 durchläuft eine Frage jetzt mehrere Stufen:\n",
    "\n",
    "1. **Query Decomposition**  \n",
    "   - Ein separates LLM bestimmt zunächst, ob die input Frage komplex (bzw. mehrteilig ist). \n",
    "   - Falls dies zutrifft, wird die Frage durch ein weiteres LLM in *Sub-Queries* zerlegt.\n",
    "\n",
    "2. **Mehrstufiges Retrieval**  \n",
    "   - Für die Original-Frage **und** jede weitere Sub-Query wird der Vectorstore abgefragt.  \n",
    "   - Die Teilergebnisse werden mit **RRF (Reciprocal Rank Fusion)** zusammengeführt:  \n",
    "     Dokumente, die in mehreren Lister häufiger bzw. weit oben erscheinen, kommen nach oben,  \n",
    "     während Dokumente, die nur selten oder weit hinten auftauchen, nach unten rutschen.  \n",
    "\n",
    "3. **Cross-Encoder Reranking (Cohere API nötig)**  \n",
    "   - Die Top-N Passagen werden noch einmal mit einem Cross-Encoder sortiert,  \n",
    "     um semantisch *feinere* Relevanzbewertungen zu berechnen.  \n",
    "\n",
    "4. **Answer Generation**  \n",
    "   - Frage + neu gerankte Kontexte landen im LLM, das die finale Antwort schreibt.  \n"
   ]
  },
  {
   "cell_type": "code",
   "execution_count": 19,
   "metadata": {},
   "outputs": [
    {
     "data": {
      "image/png": "[encoded data removed]",
      "text/plain": [
       "<langgraph.graph.state.CompiledStateGraph object at 0xffff73ada490>"
      ]
     },
     "execution_count": 19,
     "metadata": {},
     "output_type": "execute_result"
    }
   ],
   "source": [
    "advanced_rag_graph.graph"
   ]
  },
  {
   "cell_type": "code",
   "execution_count": 20,
   "metadata": {},
   "outputs": [],
   "source": [
    "# graph configuration \n",
    "cfg = Configuration(\n",
    "    provider=\"anthropic\", # choose the provider \n",
    "    answer_gen_model=\"claude-3-5-haiku-20241022\", # choose the LLM gen model\n",
    "    top_k=10, # number of top document chunks to retrieve\n",
    "    temperature=0.5, # set the temperature\n",
    "    num_answers=3, # number of answers to generate \n",
    "    max_tokens=2048, # maximum tokens for the answer generation (keep it short for this test)\n",
    ")\n",
    "\n",
    "run_cfg = RunnableConfig(\n",
    "    configurable=cfg.model_dump()\n",
    "    )"
   ]
  },
  {
   "cell_type": "code",
   "execution_count": 21,
   "metadata": {},
   "outputs": [],
   "source": [
    "# run a test question\n",
    "query = \"welche neuen medikamente zur behandlung von psychosen gibt es und wie wirken diese?\"\n",
    "\n",
    "result = advanced_rag_graph.graph.invoke(\n",
    "    {\"question\": query}, \n",
    "    config = run_cfg)\n",
    "\n",
    "#result"
   ]
  },
  {
   "cell_type": "code",
   "execution_count": 22,
   "metadata": {},
   "outputs": [
    {
     "name": "stdout",
     "output_type": "stream",
     "text": [
      "Frage: \n",
      "welche neuen medikamente zur behandlung von psychosen gibt es und wie wirken diese?\n",
      "--------------------------------------------------\n",
      "\n",
      "Query decomposition nötig? True\n",
      "--------------------------------------------------\n",
      "\n",
      "Generated sub query: \n",
      "Sub Query no 0: Welche neuen Medikamente zur Behandlung von Psychosen sind in den letzten Jahren auf den Markt gekommen?\n",
      "Sub Query no 1: Wie wirken die neuen Medikamente zur Behandlung von Psychosen auf das zentrale Nervensystem?\n",
      "Sub Query no 2: Welche Nebenwirkungen sind mit den neuen Medikamenten zur Behandlung von Psychosen verbunden?\n",
      "--------------------------------------------------\n",
      "\n",
      "Number of retrieval lists: 4\n",
      "--------------------------------------------------\n",
      "\n",
      "Number of retrieved documents after reranking: 10\n",
      "--------------------------------------------------\n",
      "\n",
      "Context No. 1:\n",
      "Title: FDA lässt neuartiges Medikament zur Behandlung von Schizophrenie zu\n",
      "Doc ID: None\n",
      "Text:\n",
      "Die amerikanische Arzneimittelbehörde FDA hat in der Nacht vom 26.09.2024 auf den 27.09.2024 das neuartige Medikament KarXT (Markenname Cobenfy) zur Behandlung von Schizophrenie zugelassen https://www.fda.gov/news-events/press-announcements/fda-approves-drug-new-mechanism-action-treatment-schizophrenia[I]. Die bisherigen Antipsychotika zielen mit ihrer Wirkung direkt auf den Botenstoff Dopamin ab,...\n",
      "\n",
      "Context No. 2:\n",
      "Title: FDA lässt neuartiges Medikament zur Behandlung von Schizophrenie zu\n",
      "Doc ID: None\n",
      "Text:\n",
      "„Das Medikament KarXT ist meiner Einschätzung nach eine Möglichkeit, die Therapie von Psychosen und Schizophrenie für wenigstens einige Patient:innen zu revolutionieren. Das liegt an dem besonderen Wirkmechanismus von Xanomelin, einem M1/M4 muscarinergen Agonisten, der mit Trospium, einem peripher beschränkten Anticholiergikum kombiniert ist und über die Wirkung auf Muskarinrezeptoren indirekt die...\n",
      "\n",
      "Context No. 3:\n",
      "Title: FDA lässt neuartiges Medikament zur Behandlung von Schizophrenie zu\n",
      "Doc ID: None\n",
      "Text:\n",
      "Potenzial von KarXT: \n",
      "„Das Spannende an dem neuen Medikament KarXT ist, dass es einen ganz neuen Wirkmechanismus zur Behandlung von Schizophrenie verwendet. Die meisten Antipsychotika wirken auf das dopaminerge System, wodurch nicht selten Nebenwirkungen in der Motorik wie verlangsamte oder auch unwillkürliche Bewegungen auftreten. Außerdem scheint KarXT im Gegensatz zu vielen Antipsychotika nicht...\n",
      "--------------------------------------------------\n",
      "\n",
      "Answer No. 1\n",
      "Answer: Basierend auf den vorliegenden Informationen gibt es zwei vielversprechende neue Medikamente zur Behandlung von Psychosen:\n",
      "\n",
      "1. KarXT (Cobenfy):\n",
      "Das Medikament stellt einen revolutionären Ansatz in der Behandlung von Schizophrenie dar. Es verwendet einen neuartigen Wirkmechanismus über Muskarinrezeptoren (M1/M4), der sich grundlegend von bisherigen Antipsychotika unterscheidet. KarXT besteht aus zwei Wirkstoffen:\n",
      "- Xanomelin: Ein M1/M4 muscarinerger Agonist, der die präsynaptische Dopaminausschüttung indirekt reduziert\n",
      "- Trospium: Ein Anticholinergikum, das periphere Nebenwirkungen minimiert\n",
      "\n",
      "2. Emraclidin:\n",
      "Ein weiteres vielversprechendes Medikament, das ebenfalls auf dem muskarinergen Wirkmechanismus basiert. Es wirkt als positiver allosterischer Modulator am M4-Rezeptor und zeigt ähnliche Eigenschaften wie KarXT.\n",
      "\n",
      "Beide Medikamente bieten gegenüber traditionellen Antipsychotika potenzielle Vorteile wie geringere motorische Nebenwirkungen und möglicherweise sogar eine Gewichtsabnahme statt -zunahme. Sie stellen nach Jahrzehnten den ersten bedeutenden Innovationsschritt in der Psychosebehandlung dar.\n",
      "\n",
      "Answer No. 2\n",
      "Answer: Basierend auf den vorliegenden Informationen gibt es zwei vielversprechende neue Medikamente zur Behandlung von Psychosen:\n",
      "\n",
      "1. KarXT (Cobenfy):\n",
      "Das Medikament stellt einen revolutionären Ansatz in der Behandlung von Schizophrenie dar. Es kombiniert zwei Wirkstoffe - Xanomelin und Trospium - und funktioniert über einen neuartigen Mechanismus. Xanomelin aktiviert die Muskarinrezeptoren M1 und M4, was indirekt die Dopaminausschüttung reduziert. Trospium verhindert periphere Nebenwirkungen, indem es nur im peripheren Nervensystem wirkt. Im Gegensatz zu bisherigen Antipsychotika führt KarXT möglicherweise nicht zu motorischen Nebenwirkungen und kann sogar eine Gewichtsabnahme bewirken.\n",
      "\n",
      "2. Emraclidin:\n",
      "Ein weiteres vielversprechendes Medikament ist Emraclidin, das als positiver allosterischer Modulator am M4-Rezeptor wirkt. Es verfolgt einen ähnlichen Ansatz wie KarXT und basiert ebenfalls auf dem muskarinergen Wirkmechanismus. Die Entwicklung durch AbbVie wird derzeit in Studien untersucht. Beide Medikamente stellen den ersten bedeutenden Durchbruch in der Schizophrenie-Therapie seit Jahrzehnten dar.\n",
      "\n",
      "Answer No. 3\n",
      "Answer: Basierend auf den vorliegenden Informationen kann ich zwei vielversprechende neue Medikamente zur Behandlung von Psychosen und Schizophrenie hervorheben:\n",
      "\n",
      "1. KarXT (Cobenfy):\n",
      "Das Medikament stellt einen revolutionären Ansatz dar, der sich grundlegend von bisherigen Antipsychotika unterscheidet. Es kombiniert zwei Wirkstoffe:\n",
      "- Xanomelin: Ein M1/M4 muscarinerger Agonist\n",
      "- Trospium: Ein peripher beschränktes Anticholinergikum\n",
      "\n",
      "Der innovative Wirkmechanismus reduziert indirekt die Dopaminausschüttung, indem er Muskarinrezeptoren aktiviert. Im Gegensatz zu traditionellen Medikamenten blockiert KarXT nicht direkt Dopaminrezeptoren, sondern beeinflusst die Dopaminausschüttung präsynaptisch. Besondere Vorteile sind potenzielle geringere Nebenwirkungen wie keine motorischen Störungen und mögliche Gewichtsabnahme.\n",
      "\n",
      "2. Emraclidin:\n",
      "Ein weiteres vielversprechendes Medikament, das als positiver allosterischer Modulator am M4-Rezeptor wirkt. Es basiert ebenfalls auf dem muskarinergen Wirkmechanismus und zeigt ähnliche Eigenschaften wie KarXT. Die Firma AbbVie arbeitet an der Entwicklung dieser Substanz, deren Studien noch laufen.\n"
     ]
    }
   ],
   "source": [
    "# question\n",
    "print(f\"Frage: \\n{result['question']}\")\n",
    "print(\"-----\"*10)\n",
    "# query decomposition?\n",
    "print(\"\\nQuery decomposition nötig?\", result[\"needs_decomposition\"])\n",
    "print(\"-----\"*10)\n",
    "# generated sub queries\n",
    "print(\"\\nGenerated sub query: \")\n",
    "[print(f\"Sub Query no {idx}:\", query) for idx, query in enumerate(result[\"sub_queries\"])]\n",
    "print(\"-----\"*10)\n",
    "# item count in retrieval lists\n",
    "print(\"\\nNumber of retrieval lists:\", len(result[\"docs_by_query\"]))\n",
    "print(\"-----\"*10)\n",
    "# item count after reranking\n",
    "print(\"\\nNumber of retrieved documents after reranking:\", len(result[\"context\"]))\n",
    "print(\"-----\"*10)\n",
    "# context\n",
    "for i, doc in enumerate(result[\"context\"][:3], start=1):\n",
    "    print(f\"\\nContext No. {i}:\")\n",
    "    print(f\"Title: {doc.metadata.get('title')}\")\n",
    "    print(f\"Doc ID: {doc.id}\")\n",
    "    print(f\"Text:\\n{doc.page_content[:400]}...\")  \n",
    "print(\"-----\"*10)\n",
    "# answer\n",
    "for i, doc in enumerate(result[\"answers\"], start=1):\n",
    "    print(f\"\\nAnswer No. {i}\")\n",
    "    print(f\"Answer: {doc}\")\n"
   ]
  },
  {
   "cell_type": "markdown",
   "metadata": {},
   "source": [
    "### Antworten für das gesamte Datenset erzeugen\n",
    "\n",
    "Wie auch im vorherigen Skript erzeugen wir für jede synthetische Frage **drei** Antworten,  \n",
    "um zufällige LLM-Effekte auszugleichen und robustere Kennzahlen zu bekommen."
   ]
  },
  {
   "cell_type": "code",
   "execution_count": null,
   "metadata": {},
   "outputs": [],
   "source": [
    "import pandas as pd\n",
    "import time\n",
    "from tqdm import tqdm\n",
    "\n",
    "# load generated dataset\n",
    "synth_data = pd.read_csv(\"data/synthetic_qa_pairs/synthetic_qa_pairs_filtered.csv\")\n",
    "\n",
    "results = []\n",
    "\n",
    "# iterate through the questions and generate answers\n",
    "for idx in tqdm(range(len(synth_data)), desc=f\"Generating Answer for Question...\"):\n",
    "    question = synth_data.iloc[idx]['input']\n",
    "    \n",
    "    try:\n",
    "        # Run RAG pipeline\n",
    "        start_time = time.time()\n",
    "        result = advanced_rag_graph.graph.invoke(\n",
    "            {\"question\": question}, \n",
    "            config=run_cfg\n",
    "        )\n",
    "        process_time = time.time() - start_time\n",
    "        \n",
    "        # Create base result dictionary\n",
    "        result_dict = {\n",
    "            'query_id': idx,\n",
    "            'question': question,\n",
    "            'gold_answer': synth_data.iloc[idx]['expected_output'],\n",
    "            'latency': process_time,\n",
    "            'context': [ctx.page_content for ctx in result['context']],\n",
    "        }\n",
    "        \n",
    "        # Add individual answers (if we generate more than 1)\n",
    "        for ans_idx, answer in enumerate(result['answers'], 1):\n",
    "            result_dict[f'answer_no_{ans_idx}'] = answer\n",
    "        \n",
    "        results.append(result_dict)\n",
    "        \n",
    "    except Exception as e:\n",
    "        print(f\"Error processing question {idx}: {str(e)}\")\n",
    "        continue\n",
    "\n",
    "# save final results\n",
    "output_path = Path('results/advanced_rag_res.json')\n",
    "with open(output_path, 'w', encoding='utf-8') as f:\n",
    "    json.dump(results, f, ensure_ascii=False, indent=2)\n",
    "\n",
    "print(f\"\\nResults saved to {output_path}\")"
   ]
  },
  {
   "cell_type": "markdown",
   "metadata": {},
   "source": [
    "### Bewertung der generierten Antworten\n",
    "\n",
    "Und auch die Bewertung läuft eins-zu-eins wie in Experiment 1:  \n",
    "Wir nutzen erneut die 3 **RAG-Triade** Kenngrößen (*Contextual Relevancy, Answer Relevancy, Faithfulness*).  \n",
    "So sind die Scores vergleichbar und wir können sehen, ob die fortgeschrittene Pipeline mehr Qualität liefert."
   ]
  },
  {
   "cell_type": "code",
   "execution_count": null,
   "metadata": {},
   "outputs": [],
   "source": [
    "from src.utils.evals import rate_dataset \n",
    "# load final results\n",
    "results = json.load(open(\"results/advanced_rag_res.json\", encoding=\"utf-8\"))\n",
    "\n",
    "# evaluation\n",
    "rated_results = asyncio.run(rate_dataset(results, model=\"gpt-4o-mini\", max_concurrency=5))\n",
    "\n",
    "# save evaluated results\n",
    "output_path = Path('results/advanced_rag_res_rated.json')\n",
    "with open(output_path, 'w', encoding='utf-8') as f:\n",
    "    json.dump(results, f, ensure_ascii=False, indent=2)\n",
    "\n",
    "print(f\"\\nResults saved to {output_path}\")"
   ]
  },
  {
   "cell_type": "code",
   "execution_count": null,
   "metadata": {},
   "outputs": [],
   "source": []
  }
 ],
 "metadata": {
  "kernelspec": {
   "display_name": "Python 3",
   "language": "python",
   "name": "python3"
  },
  "language_info": {
   "codemirror_mode": {
    "name": "ipython",
    "version": 3
   },
   "file_extension": ".py",
   "mimetype": "text/x-python",
   "name": "python",
   "nbconvert_exporter": "python",
   "pygments_lexer": "ipython3",
   "version": "3.11.11"
  }
 },
 "nbformat": 4,
 "nbformat_minor": 2
}
