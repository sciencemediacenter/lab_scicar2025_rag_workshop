{
 "cells": [
  {
   "cell_type": "markdown",
   "metadata": {},
   "source": [
    "## Bonus: Eigene Metriken benutzen\n",
    "\n",
    "Wir haben die drei Standardmetriken der **RAG-Triade** verwendet. Diese sind ein guter Startpunkt, aber für eine praxisorientierte Bewertung reichen sie nicht aus. \n",
    "\n",
    "Best-practice ist daher, die eigenen Anforderungen an das RAG-System zu definieren und diese in maßgeschneiderte Metriken zu übersetzen."
   ]
  },
  {
   "cell_type": "markdown",
   "metadata": {},
   "source": [
    "Zunächst einmal: Was passiert eigentlich \"under-the-hood\", wenn wir eine Metrik wie die **Answer Relevancy** von DeepEval nutzen? \n",
    "\n",
    "Das Prinzip ist einfach: Wir übergeben die *Frage* und die *generierte Antwort* an ein separates LLM, der die Rolle eines Richters übernimmt. \n",
    "Dieser *LLM-as-a-judge* bewertet dann, wie relevant die Antwort auf die Frage ist."
   ]
  },
  {
   "cell_type": "code",
   "execution_count": 22,
   "metadata": {},
   "outputs": [],
   "source": [
    "from deepeval import evaluate\n",
    "from deepeval.metrics import AnswerRelevancyMetric\n",
    "from deepeval.test_case import LLMTestCase, LLMTestCaseParams\n",
    "\n",
    "answer_relevance_metric = AnswerRelevancyMetric(model=\"gpt-4o-mini\")\n",
    "test_case = LLMTestCase(\n",
    "\tinput=\"welche neuen medikamente zur behandlung von psychosen gibt es und wie wirken diese?\",\n",
    "\tactual_output=\"\"\"\n",
    "\tBasierend auf den vorliegenden Informationen gibt es zwei vielversprechende neue Medikamente zur Behandlung von Psychosen:\n",
    "\n",
    "\t1. KarXT (Cobenfy):\n",
    "\tDas Medikament stellt einen bedeutenden Durchbruch in der Behandlung von Schizophrenie dar. Es unterscheidet sich von bisherigen Antipsychotika durch seinen neuartigen Wirkmechanismus. KarXT besteht aus zwei Komponenten: Xanomelin, einem M1/M4 muskarinergen Agonisten, und Trospium, einem peripher beschränkten Anticholinergikum. Der Wirkungsmechanismus zielt auf Muskarinrezeptoren ab und reduziert indirekt die präsynaptische Dopaminausschüttung, im Gegensatz zu herkömmlichen Medikamenten, die postsynaptische Dopaminrezeptoren blockieren.\n",
    "\n",
    "\t2. Emraclidin:\n",
    "\tDieses Medikament wird als weiterer vielversprechender Ansatz bezeichnet. Es wirkt als positiver allosterischer Modulator am M4-Rezeptor und weist einen ähnlichen Ansatz wie KarXT auf. Die Forschung sieht insbesondere Potenzial für die Behandlung akuter psychotischer Erkrankungen, vor allem bei Positiv-Symptomen und in frühen Erkrankungsphasen. Beide Medikamente eröffnen neue Perspektiven in der Psychosebehandlung, indem sie von der traditionellen Dopamin-Hypothese abweichen.\n",
    "\t\"\"\",\n",
    ")"
   ]
  },
  {
   "cell_type": "code",
   "execution_count": 23,
   "metadata": {},
   "outputs": [
    {
     "data": {
      "text/html": [
       "<pre style=\"white-space:pre;overflow-x:auto;line-height:normal;font-family:Menlo,'DejaVu Sans Mono',consolas,'Courier New',monospace\">✨ You're running DeepEval's latest <span style=\"color: #6a00ff; text-decoration-color: #6a00ff\">Answer Relevancy Metric</span>! <span style=\"color: #374151; text-decoration-color: #374151; font-weight: bold\">(</span><span style=\"color: #374151; text-decoration-color: #374151\">using gpt-4o-mini, </span><span style=\"color: #374151; text-decoration-color: #374151\">strict</span><span style=\"color: #374151; text-decoration-color: #374151\">=</span><span style=\"color: #374151; text-decoration-color: #374151; font-style: italic\">False</span><span style=\"color: #374151; text-decoration-color: #374151\">, </span><span style=\"color: #374151; text-decoration-color: #374151\">async_mode</span><span style=\"color: #374151; text-decoration-color: #374151\">=</span><span style=\"color: #374151; text-decoration-color: #374151; font-style: italic\">True</span><span style=\"color: #374151; text-decoration-color: #374151; font-weight: bold\">)</span><span style=\"color: #374151; text-decoration-color: #374151\">...</span>\n",
       "</pre>\n"
      ],
      "text/plain": [
       "✨ You're running DeepEval's latest \u001b[38;2;106;0;255mAnswer Relevancy Metric\u001b[0m! \u001b[1;38;2;55;65;81m(\u001b[0m\u001b[38;2;55;65;81musing gpt-4o-mini, \u001b[0m\u001b[38;2;55;65;81mstrict\u001b[0m\u001b[38;2;55;65;81m=\u001b[0m\u001b[3;38;2;55;65;81mFalse\u001b[0m\u001b[38;2;55;65;81m, \u001b[0m\u001b[38;2;55;65;81masync_mode\u001b[0m\u001b[38;2;55;65;81m=\u001b[0m\u001b[3;38;2;55;65;81mTrue\u001b[0m\u001b[1;38;2;55;65;81m)\u001b[0m\u001b[38;2;55;65;81m...\u001b[0m\n"
      ]
     },
     "metadata": {},
     "output_type": "display_data"
    },
    {
     "data": {
      "text/html": [
       "<pre style=\"white-space:pre;overflow-x:auto;line-height:normal;font-family:Menlo,'DejaVu Sans Mono',consolas,'Courier New',monospace\"></pre>\n"
      ],
      "text/plain": []
     },
     "metadata": {},
     "output_type": "display_data"
    },
    {
     "name": "stdout",
     "output_type": "stream",
     "text": [
      "\n",
      "======================================================================\n",
      "\n",
      "Metrics Summary\n",
      "\n",
      "  - ✅ Answer Relevancy (score: 1.0, threshold: 0.5, strict: False, evaluation model: gpt-4o-mini, reason: The score is 1.00 because the response directly addressed the question about new medications for treating psychosis and their mechanisms of action without any irrelevant statements., error: None)\n",
      "\n",
      "For test case:\n",
      "\n",
      "  - input: welche neuen medikamente zur behandlung von psychosen gibt es und wie wirken diese?\n",
      "  - actual output: \n",
      "\tBasierend auf den vorliegenden Informationen gibt es zwei vielversprechende neue Medikamente zur Behandlung von Psychosen:\n",
      "\n",
      "\t1. KarXT (Cobenfy):\n",
      "\tDas Medikament stellt einen bedeutenden Durchbruch in der Behandlung von Schizophrenie dar. Es unterscheidet sich von bisherigen Antipsychotika durch seinen neuartigen Wirkmechanismus. KarXT besteht aus zwei Komponenten: Xanomelin, einem M1/M4 muskarinergen Agonisten, und Trospium, einem peripher beschränkten Anticholinergikum. Der Wirkungsmechanismus zielt auf Muskarinrezeptoren ab und reduziert indirekt die präsynaptische Dopaminausschüttung, im Gegensatz zu herkömmlichen Medikamenten, die postsynaptische Dopaminrezeptoren blockieren.\n",
      "\n",
      "\t2. Emraclidin:\n",
      "\tDieses Medikament wird als weiterer vielversprechender Ansatz bezeichnet. Es wirkt als positiver allosterischer Modulator am M4-Rezeptor und weist einen ähnlichen Ansatz wie KarXT auf. Die Forschung sieht insbesondere Potenzial für die Behandlung akuter psychotischer Erkrankungen, vor allem bei Positiv-Symptomen und in frühen Erkrankungsphasen. Beide Medikamente eröffnen neue Perspektiven in der Psychosebehandlung, indem sie von der traditionellen Dopamin-Hypothese abweichen.\n",
      "\t\n",
      "  - expected output: None\n",
      "  - context: None\n",
      "  - retrieval context: None\n",
      "\n",
      "======================================================================\n",
      "\n",
      "Overall Metric Pass Rates\n",
      "\n",
      "Answer Relevancy: 100.00% pass rate\n",
      "\n",
      "======================================================================\n",
      "\n"
     ]
    },
    {
     "data": {
      "text/html": [
       "<pre style=\"white-space:pre;overflow-x:auto;line-height:normal;font-family:Menlo,'DejaVu Sans Mono',consolas,'Courier New',monospace\">\n",
       "<span style=\"color: #05f58d; text-decoration-color: #05f58d\">✓</span> Tests finished 🎉! Run <span style=\"color: #008000; text-decoration-color: #008000; font-weight: bold\">'deepeval view'</span> to analyze, debug, and save evaluation results on <span style=\"color: #6a00ff; text-decoration-color: #6a00ff\">Confident AI</span>.\n",
       "\n",
       "</pre>\n"
      ],
      "text/plain": [
       "\n",
       "\u001b[38;2;5;245;141m✓\u001b[0m Tests finished 🎉! Run \u001b[1;32m'deepeval view'\u001b[0m to analyze, debug, and save evaluation results on \u001b[38;2;106;0;255mConfident AI\u001b[0m.\n",
       "\n"
      ]
     },
     "metadata": {},
     "output_type": "display_data"
    },
    {
     "data": {
      "text/plain": [
       "EvaluationResult(test_results=[TestResult(name='test_case_0', success=True, metrics_data=[MetricData(name='Answer Relevancy', threshold=0.5, success=True, score=1.0, reason='The score is 1.00 because the response directly addressed the question about new medications for treating psychosis and their mechanisms of action without any irrelevant statements.', strict_mode=False, evaluation_model='gpt-4o-mini', error=None, evaluation_cost=0.0006444, verbose_logs='Statements:\\n[\\n    \"Es gibt zwei vielversprechende neue Medikamente zur Behandlung von Psychosen.\",\\n    \"KarXT (Cobenfy) stellt einen bedeutenden Durchbruch in der Behandlung von Schizophrenie dar.\",\\n    \"KarXT unterscheidet sich von bisherigen Antipsychotika durch seinen neuartigen Wirkmechanismus.\",\\n    \"KarXT besteht aus zwei Komponenten: Xanomelin und Trospium.\",\\n    \"Xanomelin ist ein M1/M4 muskarinergen Agonisten.\",\\n    \"Trospium ist ein peripher beschränkter Anticholinergikum.\",\\n    \"Der Wirkungsmechanismus von KarXT zielt auf Muskarinrezeptoren ab.\",\\n    \"KarXT reduziert indirekt die präsynaptische Dopaminausschüttung.\",\\n    \"Herkömmliche Medikamente blockieren postsynaptische Dopaminrezeptoren.\",\\n    \"Emraclidin wird als weiterer vielversprechender Ansatz bezeichnet.\",\\n    \"Emraclidin wirkt als positiver allosterischer Modulator am M4-Rezeptor.\",\\n    \"Emraclidin weist einen ähnlichen Ansatz wie KarXT auf.\",\\n    \"Die Forschung sieht Potenzial für die Behandlung akuter psychotischer Erkrankungen mit Emraclidin.\",\\n    \"Emraclidin ist besonders vielversprechend bei Positiv-Symptomen und in frühen Erkrankungsphasen.\",\\n    \"Beide Medikamente eröffnen neue Perspektiven in der Psychosebehandlung.\",\\n    \"Beide Medikamente weichen von der traditionellen Dopamin-Hypothese ab.\"\\n] \\n \\nVerdicts:\\n[\\n    {\\n        \"verdict\": \"yes\",\\n        \"reason\": null\\n    },\\n    {\\n        \"verdict\": \"yes\",\\n        \"reason\": null\\n    },\\n    {\\n        \"verdict\": \"yes\",\\n        \"reason\": null\\n    },\\n    {\\n        \"verdict\": \"yes\",\\n        \"reason\": null\\n    },\\n    {\\n        \"verdict\": \"yes\",\\n        \"reason\": null\\n    },\\n    {\\n        \"verdict\": \"yes\",\\n        \"reason\": null\\n    },\\n    {\\n        \"verdict\": \"yes\",\\n        \"reason\": null\\n    },\\n    {\\n        \"verdict\": \"yes\",\\n        \"reason\": null\\n    },\\n    {\\n        \"verdict\": \"yes\",\\n        \"reason\": null\\n    },\\n    {\\n        \"verdict\": \"yes\",\\n        \"reason\": null\\n    },\\n    {\\n        \"verdict\": \"yes\",\\n        \"reason\": null\\n    },\\n    {\\n        \"verdict\": \"yes\",\\n        \"reason\": null\\n    },\\n    {\\n        \"verdict\": \"yes\",\\n        \"reason\": null\\n    },\\n    {\\n        \"verdict\": \"yes\",\\n        \"reason\": null\\n    }\\n]')], conversational=False, multimodal=False, input='welche neuen medikamente zur behandlung von psychosen gibt es und wie wirken diese?', actual_output='\\n\\tBasierend auf den vorliegenden Informationen gibt es zwei vielversprechende neue Medikamente zur Behandlung von Psychosen:\\n\\n\\t1. KarXT (Cobenfy):\\n\\tDas Medikament stellt einen bedeutenden Durchbruch in der Behandlung von Schizophrenie dar. Es unterscheidet sich von bisherigen Antipsychotika durch seinen neuartigen Wirkmechanismus. KarXT besteht aus zwei Komponenten: Xanomelin, einem M1/M4 muskarinergen Agonisten, und Trospium, einem peripher beschränkten Anticholinergikum. Der Wirkungsmechanismus zielt auf Muskarinrezeptoren ab und reduziert indirekt die präsynaptische Dopaminausschüttung, im Gegensatz zu herkömmlichen Medikamenten, die postsynaptische Dopaminrezeptoren blockieren.\\n\\n\\t2. Emraclidin:\\n\\tDieses Medikament wird als weiterer vielversprechender Ansatz bezeichnet. Es wirkt als positiver allosterischer Modulator am M4-Rezeptor und weist einen ähnlichen Ansatz wie KarXT auf. Die Forschung sieht insbesondere Potenzial für die Behandlung akuter psychotischer Erkrankungen, vor allem bei Positiv-Symptomen und in frühen Erkrankungsphasen. Beide Medikamente eröffnen neue Perspektiven in der Psychosebehandlung, indem sie von der traditionellen Dopamin-Hypothese abweichen.\\n\\t', expected_output=None, context=None, retrieval_context=None, additional_metadata=None)], confident_link=None)"
      ]
     },
     "execution_count": 23,
     "metadata": {},
     "output_type": "execute_result"
    }
   ],
   "source": [
    "evaluate([test_case], [answer_relevance_metric])"
   ]
  },
  {
   "cell_type": "markdown",
   "metadata": {},
   "source": [
    "Der Output zeigt uns den **Score** (zwischen 0 und 1) und eine detaillierte **Begründung** für die Entscheidung."
   ]
  },
  {
   "cell_type": "markdown",
   "metadata": {},
   "source": [
    "### Beispiel 1: Gesetzestexte zusammenfassen\n",
    "\n",
    "Doch generische Metriken stoßen schnell an ihre Grenzen, wenn es um spezielle Anwendungsfälle geht. <br>\n",
    "Wenn unser RAG-System beispielsweise Zusammenfassungen von Gesetzestexten erstellen soll, brauchen wir angepasste Kriterien.\n",
    "\n",
    "Auch hierfür können wir DeepEval nutzen. Wir definieren einfach in der Variable `evaluation_steps` genau die Kriterien, die für uns entscheidend sind. <br>\n",
    "Anschließend geben wir erneut die relevanten Variablen an. In unserem Fall: *Gesetzestext* und die *generierte Zusammenfassung*. <br>\n",
    "Das System läuft dann wie gewohnt und liefert den gleichen Output: einen Score und eine detaillierte Begründung, die sich an unseren selbst definierten Kriterien orientiert."
   ]
  },
  {
   "cell_type": "code",
   "execution_count": 12,
   "metadata": {},
   "outputs": [],
   "source": [
    "# Create a mock document class, consisting of the full text and a summary\n",
    "class Document:\n",
    "    def __init__(self):\n",
    "        self.FULL_TEXT = \"\"\"\n",
    "        Bürgerliches Gesetzbuch (BGB)\n",
    "        § 535 Inhalt und Hauptpflichten des Mietvertrags\n",
    "        (1) Durch den Mietvertrag wird der Vermieter verpflichtet, dem Mieter den Gebrauch der Mietsache während der Mietzeit zu gewähren. \n",
    "        Der Vermieter hat die Mietsache dem Mieter in einem zum vertragsgemäßen Gebrauch geeigneten Zustand zu überlassen und sie während der Mietzeit in diesem Zustand zu erhalten. \n",
    "        Er hat die auf der Mietsache ruhenden Lasten zu tragen.\n",
    "        (2) Der Mieter ist verpflichtet, dem Vermieter die vereinbarte Miete zu entrichten.\n",
    "        ...\n",
    "        \"\"\"\n",
    "\n",
    "        self.SUMMARY = \"\"\"\n",
    "        Ein Mietvertrag verpflichtet den Vermieter, die Immobilie in einem nutzbaren Zustand bereitzustellen und zu erhalten, während der Mieter dafür die vereinbarte Miete zahlen muss.\n",
    "        \"\"\"\n",
    "\n",
    "# Create the document instance\n",
    "document = Document()"
   ]
  },
  {
   "cell_type": "code",
   "execution_count": 25,
   "metadata": {},
   "outputs": [],
   "source": [
    "from deepeval import evaluate\n",
    "from deepeval.metrics import GEval\n",
    "from deepeval.test_case import LLMTestCase, LLMTestCaseParams\n",
    "\n",
    "summarization_correctness_metric = GEval(\n",
    "\tname=\"Summarization_Correctness\",\n",
    "\tevaluation_steps=[\n",
    "\t\t\"Prüfe, ob die wesentlichen rechtlichen Inhalte korrekt wiedergegeben werden.\",\n",
    "\t\t\"Überprüfe, ob keine zusätzlichen Informationen erfunden wurden.\",\n",
    "\t\t\"Stelle sicher, dass die Zusammenfassung den Sinn und die rechtliche Bedeutung nicht verfälscht.\",\n",
    "\t\t\"Achte darauf, dass die Sprache klar und für juristische Laien nachvollziehbar bleibt.\"\n",
    "\t],\n",
    "\tevaluation_params=[LLMTestCaseParams.ACTUAL_OUTPUT, LLMTestCaseParams.INPUT],\n",
    ")\n",
    "\n",
    "llm_test_case_summary = LLMTestCase(\n",
    "\tinput=document.FULL_TEXT,\n",
    "\tactual_output=document.SUMMARY,\n",
    ")"
   ]
  },
  {
   "cell_type": "code",
   "execution_count": 26,
   "metadata": {},
   "outputs": [
    {
     "data": {
      "text/html": [
       "<pre style=\"white-space:pre;overflow-x:auto;line-height:normal;font-family:Menlo,'DejaVu Sans Mono',consolas,'Courier New',monospace\">✨ You're running DeepEval's latest <span style=\"color: #6a00ff; text-decoration-color: #6a00ff\">Summarization_Correctness </span><span style=\"color: #6a00ff; text-decoration-color: #6a00ff; font-weight: bold\">[</span><span style=\"color: #6a00ff; text-decoration-color: #6a00ff\">GEval</span><span style=\"color: #6a00ff; text-decoration-color: #6a00ff; font-weight: bold\">]</span><span style=\"color: #6a00ff; text-decoration-color: #6a00ff\"> Metric</span>! <span style=\"color: #374151; text-decoration-color: #374151; font-weight: bold\">(</span><span style=\"color: #374151; text-decoration-color: #374151\">using gpt-</span><span style=\"color: #374151; text-decoration-color: #374151; font-weight: bold\">4.1</span><span style=\"color: #374151; text-decoration-color: #374151\">, </span><span style=\"color: #374151; text-decoration-color: #374151\">strict</span><span style=\"color: #374151; text-decoration-color: #374151\">=</span><span style=\"color: #374151; text-decoration-color: #374151; font-style: italic\">False</span><span style=\"color: #374151; text-decoration-color: #374151\">, </span>\n",
       "<span style=\"color: #374151; text-decoration-color: #374151\">async_mode</span><span style=\"color: #374151; text-decoration-color: #374151\">=</span><span style=\"color: #374151; text-decoration-color: #374151; font-style: italic\">True</span><span style=\"color: #374151; text-decoration-color: #374151; font-weight: bold\">)</span><span style=\"color: #374151; text-decoration-color: #374151\">...</span>\n",
       "</pre>\n"
      ],
      "text/plain": [
       "✨ You're running DeepEval's latest \u001b[38;2;106;0;255mSummarization_Correctness \u001b[0m\u001b[1;38;2;106;0;255m[\u001b[0m\u001b[38;2;106;0;255mGEval\u001b[0m\u001b[1;38;2;106;0;255m]\u001b[0m\u001b[38;2;106;0;255m Metric\u001b[0m! \u001b[1;38;2;55;65;81m(\u001b[0m\u001b[38;2;55;65;81musing gpt-\u001b[0m\u001b[1;38;2;55;65;81m4.1\u001b[0m\u001b[38;2;55;65;81m, \u001b[0m\u001b[38;2;55;65;81mstrict\u001b[0m\u001b[38;2;55;65;81m=\u001b[0m\u001b[3;38;2;55;65;81mFalse\u001b[0m\u001b[38;2;55;65;81m, \u001b[0m\n",
       "\u001b[38;2;55;65;81masync_mode\u001b[0m\u001b[38;2;55;65;81m=\u001b[0m\u001b[3;38;2;55;65;81mTrue\u001b[0m\u001b[1;38;2;55;65;81m)\u001b[0m\u001b[38;2;55;65;81m...\u001b[0m\n"
      ]
     },
     "metadata": {},
     "output_type": "display_data"
    },
    {
     "data": {
      "text/html": [
       "<pre style=\"white-space:pre;overflow-x:auto;line-height:normal;font-family:Menlo,'DejaVu Sans Mono',consolas,'Courier New',monospace\">/usr/local/lib/python3.11/site-packages/rich/live.py:231: UserWarning: install \"ipywidgets\" for Jupyter support\n",
       "  warnings.warn('install \"ipywidgets\" for Jupyter support')\n",
       "</pre>\n"
      ],
      "text/plain": [
       "/usr/local/lib/python3.11/site-packages/rich/live.py:231: UserWarning: install \"ipywidgets\" for Jupyter support\n",
       "  warnings.warn('install \"ipywidgets\" for Jupyter support')\n"
      ]
     },
     "metadata": {},
     "output_type": "display_data"
    },
    {
     "data": {
      "text/html": [
       "<pre style=\"white-space:pre;overflow-x:auto;line-height:normal;font-family:Menlo,'DejaVu Sans Mono',consolas,'Courier New',monospace\"></pre>\n"
      ],
      "text/plain": []
     },
     "metadata": {},
     "output_type": "display_data"
    },
    {
     "name": "stdout",
     "output_type": "stream",
     "text": [
      "\n",
      "======================================================================\n",
      "\n",
      "Metrics Summary\n",
      "\n",
      "  - ✅ Summarization_Correctness [GEval] (score: 0.8010986942630594, threshold: 0.5, strict: False, evaluation model: gpt-4.1, reason: Die wesentlichen rechtlichen Inhalte des § 535 BGB werden korrekt wiedergegeben: Die Pflichten des Vermieters (Bereitstellung und Erhaltung der Mietsache) und des Mieters (Zahlung der Miete) sind enthalten. Es wurden keine zusätzlichen Informationen erfunden. Allerdings fehlt der Hinweis auf die Pflicht des Vermieters, die auf der Mietsache ruhenden Lasten zu tragen. Die Zusammenfassung ist klar und für Laien verständlich, verfälscht den Sinn nicht, lässt aber einen Aspekt des Gesetzestextes aus., error: None)\n",
      "\n",
      "For test case:\n",
      "\n",
      "  - input: \n",
      "        Bürgerliches Gesetzbuch (BGB)\n",
      "        § 535 Inhalt und Hauptpflichten des Mietvertrags\n",
      "        (1) Durch den Mietvertrag wird der Vermieter verpflichtet, dem Mieter den Gebrauch der Mietsache während der Mietzeit zu gewähren. \n",
      "        Der Vermieter hat die Mietsache dem Mieter in einem zum vertragsgemäßen Gebrauch geeigneten Zustand zu überlassen und sie während der Mietzeit in diesem Zustand zu erhalten. \n",
      "        Er hat die auf der Mietsache ruhenden Lasten zu tragen.\n",
      "        (2) Der Mieter ist verpflichtet, dem Vermieter die vereinbarte Miete zu entrichten.\n",
      "        \n",
      "  - actual output: \n",
      "        Ein Mietvertrag verpflichtet den Vermieter, die Immobilie in einem nutzbaren Zustand bereitzustellen und zu erhalten, während der Mieter dafür die vereinbarte Miete zahlen muss.\n",
      "        \n",
      "  - expected output: None\n",
      "  - context: None\n",
      "  - retrieval context: None\n",
      "\n",
      "======================================================================\n",
      "\n",
      "Overall Metric Pass Rates\n",
      "\n",
      "Summarization_Correctness [GEval]: 100.00% pass rate\n",
      "\n",
      "======================================================================\n",
      "\n"
     ]
    },
    {
     "data": {
      "text/html": [
       "<pre style=\"white-space:pre;overflow-x:auto;line-height:normal;font-family:Menlo,'DejaVu Sans Mono',consolas,'Courier New',monospace\">\n",
       "<span style=\"color: #05f58d; text-decoration-color: #05f58d\">✓</span> Tests finished 🎉! Run <span style=\"color: #008000; text-decoration-color: #008000; font-weight: bold\">'deepeval view'</span> to analyze, debug, and save evaluation results on <span style=\"color: #6a00ff; text-decoration-color: #6a00ff\">Confident AI</span>.\n",
       "\n",
       "</pre>\n"
      ],
      "text/plain": [
       "\n",
       "\u001b[38;2;5;245;141m✓\u001b[0m Tests finished 🎉! Run \u001b[1;32m'deepeval view'\u001b[0m to analyze, debug, and save evaluation results on \u001b[38;2;106;0;255mConfident AI\u001b[0m.\n",
       "\n"
      ]
     },
     "metadata": {},
     "output_type": "display_data"
    },
    {
     "data": {
      "text/plain": [
       "EvaluationResult(test_results=[TestResult(name='test_case_0', success=True, metrics_data=[MetricData(name='Summarization_Correctness [GEval]', threshold=0.5, success=True, score=0.8010986942630594, reason='Die wesentlichen rechtlichen Inhalte des § 535 BGB werden korrekt wiedergegeben: Die Pflichten des Vermieters (Bereitstellung und Erhaltung der Mietsache) und des Mieters (Zahlung der Miete) sind enthalten. Es wurden keine zusätzlichen Informationen erfunden. Allerdings fehlt der Hinweis auf die Pflicht des Vermieters, die auf der Mietsache ruhenden Lasten zu tragen. Die Zusammenfassung ist klar und für Laien verständlich, verfälscht den Sinn nicht, lässt aber einen Aspekt des Gesetzestextes aus.', strict_mode=False, evaluation_model='gpt-4.1', error=None, evaluation_cost=0.00199, verbose_logs='Criteria:\\nNone \\n \\nEvaluation Steps:\\n[\\n    \"Prüfe, ob die wesentlichen rechtlichen Inhalte korrekt wiedergegeben werden.\",\\n    \"Überprüfe, ob keine zusätzlichen Informationen erfunden wurden.\",\\n    \"Stelle sicher, dass die Zusammenfassung den Sinn und die rechtliche Bedeutung nicht verfälscht.\",\\n    \"Achte darauf, dass die Sprache klar und für juristische Laien nachvollziehbar bleibt.\"\\n] \\n \\nRubric:\\nNone \\n \\nScore: 0.8010986942630594')], conversational=False, multimodal=False, input='\\n        Bürgerliches Gesetzbuch (BGB)\\n        § 535 Inhalt und Hauptpflichten des Mietvertrags\\n        (1) Durch den Mietvertrag wird der Vermieter verpflichtet, dem Mieter den Gebrauch der Mietsache während der Mietzeit zu gewähren. \\n        Der Vermieter hat die Mietsache dem Mieter in einem zum vertragsgemäßen Gebrauch geeigneten Zustand zu überlassen und sie während der Mietzeit in diesem Zustand zu erhalten. \\n        Er hat die auf der Mietsache ruhenden Lasten zu tragen.\\n        (2) Der Mieter ist verpflichtet, dem Vermieter die vereinbarte Miete zu entrichten.\\n        ', actual_output='\\n        Ein Mietvertrag verpflichtet den Vermieter, die Immobilie in einem nutzbaren Zustand bereitzustellen und zu erhalten, während der Mieter dafür die vereinbarte Miete zahlen muss.\\n        ', expected_output=None, context=None, retrieval_context=None, additional_metadata=None)], confident_link=None)"
      ]
     },
     "execution_count": 26,
     "metadata": {},
     "output_type": "execute_result"
    }
   ],
   "source": [
    "evaluate([llm_test_case_summary], [summarization_correctness_metric])"
   ]
  },
  {
   "cell_type": "markdown",
   "metadata": {},
   "source": [
    "### Beispiel 2: RAG QA-Bot für Schüler:innen\n",
    "\n",
    "Für einen RAG-Bot, der Antworten für Schüler:innen generiert, sind andere Kriterien entscheidend. Wir definieren erneut die Evaluierungsschritte, um sicherzustellen, dass die Antworten einfach und altersgerecht sind.  \n",
    "\n",
    "Im Unterschied zum vorherigen Beispiel wollen wir hier keinen kontinuierlichen Score (zwischen 0 und 1), sondern eine klare Aussage: 'pass' oder 'fail'. \n",
    "\n",
    "Dafür setzen wir einfach die Variable `strict_mode` auf `True`. Der restliche Prozess bleibt derselbe."
   ]
  },
  {
   "cell_type": "code",
   "execution_count": 27,
   "metadata": {},
   "outputs": [],
   "source": [
    "student_comprehensibility = GEval(\n",
    "\tname=\"Student_Comprehensibility\",\n",
    "    evaluation_steps=[\n",
    "        \"Bewerte, ob einfache, altersgerechte Sprache verwendet wird (kurze Sätze, aktive Form).\",\n",
    "        \"Kennzeichne Fachbegriffe/Jargon und pruefe, ob sie vermieden oder kurz erklärt werden.\",\n",
    "        \"Achte auf klare Struktur (1–3 Kernpunkte, ggf. kurzes Beispiel).\",\n",
    "        \"Überprüfe, ob keine überfluessigen Details die Verständlichkeit mindern.\"\n",
    "    ],\n",
    "\tevaluation_params=[LLMTestCaseParams.ACTUAL_OUTPUT, LLMTestCaseParams.INPUT],\n",
    "\tstrict_mode=True, # strict mode -> binärer output (0 oder 1)\n",
    ")\n",
    "\n",
    "INPUT_QUESTION = \"Was genau bedeutet Klimawandel?\"\n",
    "\n",
    "OUTPUT_ANSWER = (\n",
    "    \"Der Klimawandel bezeichnet signifikante statistische Verschiebungen in der \"\n",
    "    \"Energie- und Strahlungsbilanz des Klimasystems, induziert durch anthropogene \"\n",
    "    \"Forcings und nichtlineare Rückkopplungsmechanismen.\"\n",
    ")\n",
    "\n",
    "llm_test_case_school = LLMTestCase(\n",
    "\tinput=INPUT_QUESTION,\n",
    "\tactual_output=OUTPUT_ANSWER,\n",
    ")"
   ]
  },
  {
   "cell_type": "code",
   "execution_count": 28,
   "metadata": {},
   "outputs": [
    {
     "data": {
      "text/html": [
       "<pre style=\"white-space:pre;overflow-x:auto;line-height:normal;font-family:Menlo,'DejaVu Sans Mono',consolas,'Courier New',monospace\">✨ You're running DeepEval's latest <span style=\"color: #6a00ff; text-decoration-color: #6a00ff\">Student_Comprehensibility </span><span style=\"color: #6a00ff; text-decoration-color: #6a00ff; font-weight: bold\">[</span><span style=\"color: #6a00ff; text-decoration-color: #6a00ff\">GEval</span><span style=\"color: #6a00ff; text-decoration-color: #6a00ff; font-weight: bold\">]</span><span style=\"color: #6a00ff; text-decoration-color: #6a00ff\"> Metric</span>! <span style=\"color: #374151; text-decoration-color: #374151; font-weight: bold\">(</span><span style=\"color: #374151; text-decoration-color: #374151\">using gpt-</span><span style=\"color: #374151; text-decoration-color: #374151; font-weight: bold\">4.1</span><span style=\"color: #374151; text-decoration-color: #374151\">, </span><span style=\"color: #374151; text-decoration-color: #374151\">strict</span><span style=\"color: #374151; text-decoration-color: #374151\">=</span><span style=\"color: #374151; text-decoration-color: #374151; font-style: italic\">True</span><span style=\"color: #374151; text-decoration-color: #374151\">, </span>\n",
       "<span style=\"color: #374151; text-decoration-color: #374151\">async_mode</span><span style=\"color: #374151; text-decoration-color: #374151\">=</span><span style=\"color: #374151; text-decoration-color: #374151; font-style: italic\">True</span><span style=\"color: #374151; text-decoration-color: #374151; font-weight: bold\">)</span><span style=\"color: #374151; text-decoration-color: #374151\">...</span>\n",
       "</pre>\n"
      ],
      "text/plain": [
       "✨ You're running DeepEval's latest \u001b[38;2;106;0;255mStudent_Comprehensibility \u001b[0m\u001b[1;38;2;106;0;255m[\u001b[0m\u001b[38;2;106;0;255mGEval\u001b[0m\u001b[1;38;2;106;0;255m]\u001b[0m\u001b[38;2;106;0;255m Metric\u001b[0m! \u001b[1;38;2;55;65;81m(\u001b[0m\u001b[38;2;55;65;81musing gpt-\u001b[0m\u001b[1;38;2;55;65;81m4.1\u001b[0m\u001b[38;2;55;65;81m, \u001b[0m\u001b[38;2;55;65;81mstrict\u001b[0m\u001b[38;2;55;65;81m=\u001b[0m\u001b[3;38;2;55;65;81mTrue\u001b[0m\u001b[38;2;55;65;81m, \u001b[0m\n",
       "\u001b[38;2;55;65;81masync_mode\u001b[0m\u001b[38;2;55;65;81m=\u001b[0m\u001b[3;38;2;55;65;81mTrue\u001b[0m\u001b[1;38;2;55;65;81m)\u001b[0m\u001b[38;2;55;65;81m...\u001b[0m\n"
      ]
     },
     "metadata": {},
     "output_type": "display_data"
    },
    {
     "data": {
      "text/html": [
       "<pre style=\"white-space:pre;overflow-x:auto;line-height:normal;font-family:Menlo,'DejaVu Sans Mono',consolas,'Courier New',monospace\">/usr/local/lib/python3.11/site-packages/rich/live.py:231: UserWarning: install \"ipywidgets\" for Jupyter support\n",
       "  warnings.warn('install \"ipywidgets\" for Jupyter support')\n",
       "</pre>\n"
      ],
      "text/plain": [
       "/usr/local/lib/python3.11/site-packages/rich/live.py:231: UserWarning: install \"ipywidgets\" for Jupyter support\n",
       "  warnings.warn('install \"ipywidgets\" for Jupyter support')\n"
      ]
     },
     "metadata": {},
     "output_type": "display_data"
    },
    {
     "data": {
      "text/html": [
       "<pre style=\"white-space:pre;overflow-x:auto;line-height:normal;font-family:Menlo,'DejaVu Sans Mono',consolas,'Courier New',monospace\"></pre>\n"
      ],
      "text/plain": []
     },
     "metadata": {},
     "output_type": "display_data"
    },
    {
     "name": "stdout",
     "output_type": "stream",
     "text": [
      "\n",
      "======================================================================\n",
      "\n",
      "Metrics Summary\n",
      "\n",
      "  - ❌ Student_Comprehensibility [GEval] (score: 0.0, threshold: 1.0, strict: True, evaluation model: gpt-4.1, reason: The output uses complex terms like 'statistische Verschiebungen', 'Energie- und Strahlungsbilanz', 'anthropogene Forcings', and 'nichtlineare Rückkopplungsmechanismen' without explanation, does not use simple language, and lacks a clear, concise structure suitable for the input question., error: None)\n",
      "\n",
      "For test case:\n",
      "\n",
      "  - input: Was genau bedeutet Klimawandel?\n",
      "  - actual output: Der Klimawandel bezeichnet signifikante statistische Verschiebungen in der Energie- und Strahlungsbilanz des Klimasystems, induziert durch anthropogene Forcings und nichtlineare Rückkopplungsmechanismen.\n",
      "  - expected output: None\n",
      "  - context: None\n",
      "  - retrieval context: None\n",
      "\n",
      "======================================================================\n",
      "\n",
      "Overall Metric Pass Rates\n",
      "\n",
      "Student_Comprehensibility [GEval]: 0.00% pass rate\n",
      "\n",
      "======================================================================\n",
      "\n"
     ]
    },
    {
     "data": {
      "text/html": [
       "<pre style=\"white-space:pre;overflow-x:auto;line-height:normal;font-family:Menlo,'DejaVu Sans Mono',consolas,'Courier New',monospace\">\n",
       "<span style=\"color: #05f58d; text-decoration-color: #05f58d\">✓</span> Tests finished 🎉! Run <span style=\"color: #008000; text-decoration-color: #008000; font-weight: bold\">'deepeval view'</span> to analyze, debug, and save evaluation results on <span style=\"color: #6a00ff; text-decoration-color: #6a00ff\">Confident AI</span>.\n",
       "\n",
       "</pre>\n"
      ],
      "text/plain": [
       "\n",
       "\u001b[38;2;5;245;141m✓\u001b[0m Tests finished 🎉! Run \u001b[1;32m'deepeval view'\u001b[0m to analyze, debug, and save evaluation results on \u001b[38;2;106;0;255mConfident AI\u001b[0m.\n",
       "\n"
      ]
     },
     "metadata": {},
     "output_type": "display_data"
    },
    {
     "data": {
      "text/plain": [
       "EvaluationResult(test_results=[TestResult(name='test_case_0', success=False, metrics_data=[MetricData(name='Student_Comprehensibility [GEval]', threshold=1.0, success=False, score=0.0, reason=\"The output uses complex terms like 'statistische Verschiebungen', 'Energie- und Strahlungsbilanz', 'anthropogene Forcings', and 'nichtlineare Rückkopplungsmechanismen' without explanation, does not use simple language, and lacks a clear, concise structure suitable for the input question.\", strict_mode=True, evaluation_model='gpt-4.1', error=None, evaluation_cost=0.001298, verbose_logs='Criteria:\\nNone \\n \\nEvaluation Steps:\\n[\\n    \"Bewerte, ob einfache, altersgerechte Sprache verwendet wird (kurze Sätze, aktive Form).\",\\n    \"Kennzeichne Fachbegriffe/Jargon und pruefe, ob sie vermieden oder kurz erklärt werden.\",\\n    \"Achte auf klare Struktur (1–3 Kernpunkte, ggf. kurzes Beispiel).\",\\n    \"Überprüfe, ob keine überfluessigen Details die Verständlichkeit mindern.\"\\n] \\n \\nRubric:\\nNone \\n \\nScore: 0')], conversational=False, multimodal=False, input='Was genau bedeutet Klimawandel?', actual_output='Der Klimawandel bezeichnet signifikante statistische Verschiebungen in der Energie- und Strahlungsbilanz des Klimasystems, induziert durch anthropogene Forcings und nichtlineare Rückkopplungsmechanismen.', expected_output=None, context=None, retrieval_context=None, additional_metadata=None)], confident_link=None)"
      ]
     },
     "execution_count": 28,
     "metadata": {},
     "output_type": "execute_result"
    }
   ],
   "source": [
    "evaluate([llm_test_case_school], [student_comprehensibility])\n",
    "# Hier erwarten wir einen **fail**-Output, da die Antwort zu komplex ist. "
   ]
  },
  {
   "cell_type": "code",
   "execution_count": 29,
   "metadata": {},
   "outputs": [],
   "source": [
    "INPUT_QUESTION = \"Was genau bedeutet Klimawandel?\"\n",
    "\n",
    "OUTPUT_ANSWER = (\n",
    "    \"Klimawandel heißt, dass es auf der Erde nach und nach wärmer wird, \"\n",
    "    \"weil wir Menschen viele Abgase in die Luft pusten. Dadurch ändert sich das Wetter.\"\n",
    ")\n",
    "\n",
    "llm_test_case_school = LLMTestCase(\n",
    "    input=INPUT_QUESTION,\n",
    "    actual_output=OUTPUT_ANSWER,\n",
    ")"
   ]
  },
  {
   "cell_type": "code",
   "execution_count": 30,
   "metadata": {},
   "outputs": [
    {
     "data": {
      "text/html": [
       "<pre style=\"white-space:pre;overflow-x:auto;line-height:normal;font-family:Menlo,'DejaVu Sans Mono',consolas,'Courier New',monospace\">✨ You're running DeepEval's latest <span style=\"color: #6a00ff; text-decoration-color: #6a00ff\">Student_Comprehensibility </span><span style=\"color: #6a00ff; text-decoration-color: #6a00ff; font-weight: bold\">[</span><span style=\"color: #6a00ff; text-decoration-color: #6a00ff\">GEval</span><span style=\"color: #6a00ff; text-decoration-color: #6a00ff; font-weight: bold\">]</span><span style=\"color: #6a00ff; text-decoration-color: #6a00ff\"> Metric</span>! <span style=\"color: #374151; text-decoration-color: #374151; font-weight: bold\">(</span><span style=\"color: #374151; text-decoration-color: #374151\">using gpt-</span><span style=\"color: #374151; text-decoration-color: #374151; font-weight: bold\">4.1</span><span style=\"color: #374151; text-decoration-color: #374151\">, </span><span style=\"color: #374151; text-decoration-color: #374151\">strict</span><span style=\"color: #374151; text-decoration-color: #374151\">=</span><span style=\"color: #374151; text-decoration-color: #374151; font-style: italic\">True</span><span style=\"color: #374151; text-decoration-color: #374151\">, </span>\n",
       "<span style=\"color: #374151; text-decoration-color: #374151\">async_mode</span><span style=\"color: #374151; text-decoration-color: #374151\">=</span><span style=\"color: #374151; text-decoration-color: #374151; font-style: italic\">True</span><span style=\"color: #374151; text-decoration-color: #374151; font-weight: bold\">)</span><span style=\"color: #374151; text-decoration-color: #374151\">...</span>\n",
       "</pre>\n"
      ],
      "text/plain": [
       "✨ You're running DeepEval's latest \u001b[38;2;106;0;255mStudent_Comprehensibility \u001b[0m\u001b[1;38;2;106;0;255m[\u001b[0m\u001b[38;2;106;0;255mGEval\u001b[0m\u001b[1;38;2;106;0;255m]\u001b[0m\u001b[38;2;106;0;255m Metric\u001b[0m! \u001b[1;38;2;55;65;81m(\u001b[0m\u001b[38;2;55;65;81musing gpt-\u001b[0m\u001b[1;38;2;55;65;81m4.1\u001b[0m\u001b[38;2;55;65;81m, \u001b[0m\u001b[38;2;55;65;81mstrict\u001b[0m\u001b[38;2;55;65;81m=\u001b[0m\u001b[3;38;2;55;65;81mTrue\u001b[0m\u001b[38;2;55;65;81m, \u001b[0m\n",
       "\u001b[38;2;55;65;81masync_mode\u001b[0m\u001b[38;2;55;65;81m=\u001b[0m\u001b[3;38;2;55;65;81mTrue\u001b[0m\u001b[1;38;2;55;65;81m)\u001b[0m\u001b[38;2;55;65;81m...\u001b[0m\n"
      ]
     },
     "metadata": {},
     "output_type": "display_data"
    },
    {
     "data": {
      "text/html": [
       "<pre style=\"white-space:pre;overflow-x:auto;line-height:normal;font-family:Menlo,'DejaVu Sans Mono',consolas,'Courier New',monospace\">/usr/local/lib/python3.11/site-packages/rich/live.py:231: UserWarning: install \"ipywidgets\" for Jupyter support\n",
       "  warnings.warn('install \"ipywidgets\" for Jupyter support')\n",
       "</pre>\n"
      ],
      "text/plain": [
       "/usr/local/lib/python3.11/site-packages/rich/live.py:231: UserWarning: install \"ipywidgets\" for Jupyter support\n",
       "  warnings.warn('install \"ipywidgets\" for Jupyter support')\n"
      ]
     },
     "metadata": {},
     "output_type": "display_data"
    },
    {
     "data": {
      "text/html": [
       "<pre style=\"white-space:pre;overflow-x:auto;line-height:normal;font-family:Menlo,'DejaVu Sans Mono',consolas,'Courier New',monospace\"></pre>\n"
      ],
      "text/plain": []
     },
     "metadata": {},
     "output_type": "display_data"
    },
    {
     "name": "stdout",
     "output_type": "stream",
     "text": [
      "\n",
      "======================================================================\n",
      "\n",
      "Metrics Summary\n",
      "\n",
      "  - ✅ Student_Comprehensibility [GEval] (score: 1.0, threshold: 1.0, strict: True, evaluation model: gpt-4.1, reason: Die Antwort verwendet einfache, altersgerechte Sprache mit kurzen Sätzen und aktiver Form, erklärt den Fachbegriff 'Klimawandel' verständlich, enthält 1–2 Kernpunkte und vermeidet überflüssige Details., error: None)\n",
      "\n",
      "For test case:\n",
      "\n",
      "  - input: Was genau bedeutet Klimawandel?\n",
      "  - actual output: Klimawandel heißt, dass es auf der Erde nach und nach wärmer wird, weil wir Menschen viele Abgase in die Luft pusten. Dadurch ändert sich das Wetter.\n",
      "  - expected output: None\n",
      "  - context: None\n",
      "  - retrieval context: None\n",
      "\n",
      "======================================================================\n",
      "\n",
      "Overall Metric Pass Rates\n",
      "\n",
      "Student_Comprehensibility [GEval]: 100.00% pass rate\n",
      "\n",
      "======================================================================\n",
      "\n"
     ]
    },
    {
     "data": {
      "text/html": [
       "<pre style=\"white-space:pre;overflow-x:auto;line-height:normal;font-family:Menlo,'DejaVu Sans Mono',consolas,'Courier New',monospace\">\n",
       "<span style=\"color: #05f58d; text-decoration-color: #05f58d\">✓</span> Tests finished 🎉! Run <span style=\"color: #008000; text-decoration-color: #008000; font-weight: bold\">'deepeval view'</span> to analyze, debug, and save evaluation results on <span style=\"color: #6a00ff; text-decoration-color: #6a00ff\">Confident AI</span>.\n",
       "\n",
       "</pre>\n"
      ],
      "text/plain": [
       "\n",
       "\u001b[38;2;5;245;141m✓\u001b[0m Tests finished 🎉! Run \u001b[1;32m'deepeval view'\u001b[0m to analyze, debug, and save evaluation results on \u001b[38;2;106;0;255mConfident AI\u001b[0m.\n",
       "\n"
      ]
     },
     "metadata": {},
     "output_type": "display_data"
    },
    {
     "data": {
      "text/plain": [
       "EvaluationResult(test_results=[TestResult(name='test_case_0', success=True, metrics_data=[MetricData(name='Student_Comprehensibility [GEval]', threshold=1.0, success=True, score=1.0, reason=\"Die Antwort verwendet einfache, altersgerechte Sprache mit kurzen Sätzen und aktiver Form, erklärt den Fachbegriff 'Klimawandel' verständlich, enthält 1–2 Kernpunkte und vermeidet überflüssige Details.\", strict_mode=True, evaluation_model='gpt-4.1', error=None, evaluation_cost=0.0011359999999999999, verbose_logs='Criteria:\\nNone \\n \\nEvaluation Steps:\\n[\\n    \"Bewerte, ob einfache, altersgerechte Sprache verwendet wird (kurze Sätze, aktive Form).\",\\n    \"Kennzeichne Fachbegriffe/Jargon und pruefe, ob sie vermieden oder kurz erklärt werden.\",\\n    \"Achte auf klare Struktur (1–3 Kernpunkte, ggf. kurzes Beispiel).\",\\n    \"Überprüfe, ob keine überfluessigen Details die Verständlichkeit mindern.\"\\n] \\n \\nRubric:\\nNone \\n \\nScore: 1')], conversational=False, multimodal=False, input='Was genau bedeutet Klimawandel?', actual_output='Klimawandel heißt, dass es auf der Erde nach und nach wärmer wird, weil wir Menschen viele Abgase in die Luft pusten. Dadurch ändert sich das Wetter.', expected_output=None, context=None, retrieval_context=None, additional_metadata=None)], confident_link=None)"
      ]
     },
     "execution_count": 30,
     "metadata": {},
     "output_type": "execute_result"
    }
   ],
   "source": [
    "evaluate([llm_test_case_school], [student_comprehensibility])\n",
    "# Hier erwarten wir einen **pass**-Output, da die Antwort nun altersgerecht ist. "
   ]
  },
  {
   "cell_type": "markdown",
   "metadata": {},
   "source": [
    "### Beispiel 3: RAG QA-Bot mir kurzen und prägnanten Antworten\n",
    "\n",
    "Für manche Anwendungsfälle brauchen wir keine komplexen LLM-Bewertungen. \n",
    "Einfache, **deterministische Metriken** sind oft schneller, effizienter und günstiger. \n",
    "Ein Beispiel ist die Überprüfung der Antwortlänge: \n",
    "Wir können eine simple Funktion schreiben, die zählt, ob die Antwort eine definierte Maximallänge (z.B. 500 Zeichen) nicht überschreitet, und uns dann ein klares 'Ja' oder 'Nein' zurückgibt."
   ]
  },
  {
   "cell_type": "code",
   "execution_count": 21,
   "metadata": {},
   "outputs": [
    {
     "name": "stdout",
     "output_type": "stream",
     "text": [
      "1\n"
     ]
    }
   ],
   "source": [
    "def length_metric(test_case: LLMTestCase, max_len=500):\n",
    "    return 1 if len(test_case.actual_output) <= max_len else 0\n",
    "\n",
    "INPUT_QUESTION = \"Was genau bedeutet Klimawandel?\"\n",
    "\n",
    "OUTPUT_ANSWER = (\n",
    "    \"Klimawandel heißt, dass es auf der Erde nach und nach wärmer wird, \"\n",
    "    \"weil wir Menschen viele Abgase in die Luft pusten. Dadurch ändert sich das Wetter.\"\n",
    ")\n",
    "\n",
    "llm_test_case = LLMTestCase(\n",
    "    input=INPUT_QUESTION,\n",
    "    actual_output=OUTPUT_ANSWER,\n",
    ")\n",
    "\n",
    "print(length_metric(llm_test_case))"
   ]
  },
  {
   "cell_type": "code",
   "execution_count": null,
   "metadata": {},
   "outputs": [],
   "source": []
  }
 ],
 "metadata": {
  "kernelspec": {
   "display_name": "Python 3",
   "language": "python",
   "name": "python3"
  },
  "language_info": {
   "codemirror_mode": {
    "name": "ipython",
    "version": 3
   },
   "file_extension": ".py",
   "mimetype": "text/x-python",
   "name": "python",
   "nbconvert_exporter": "python",
   "pygments_lexer": "ipython3",
   "version": "3.11.11"
  }
 },
 "nbformat": 4,
 "nbformat_minor": 2
}
