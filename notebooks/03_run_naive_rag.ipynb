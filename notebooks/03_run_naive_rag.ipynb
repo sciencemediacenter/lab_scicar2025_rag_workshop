{
 "cells": [
  {
   "cell_type": "markdown",
   "metadata": {},
   "source": [
    "## Experiment 1 - Naives RAG System\n",
    "\n",
    "Jetzt, wo wir einen **Vectorstore** (unsere knowledge base) und synthetischen QA Paare haben, können wir unser naives RAG System über die Fragen laufen, Antworten generieren und diese bewerten lassen. <br>\n",
    "<br>\n",
    "• Schritt 1: **Naive RAG pipeline aufsetzen**: Zunächst erstellen wir eine RAG pipeline.<br>\n",
    "<br>\n",
    "• Schritt 2: **Antworten generieren**: Fragen werden durch das System geschickt.<br>\n",
    "<br>\n",
    "• Schritt 3: **Performance messen**: Die generierten Antworten mit den 3 Metriken der *RAG Triade* bewertet.<br>\n",
    "<br>"
   ]
  },
  {
   "cell_type": "code",
   "execution_count": 1,
   "metadata": {},
   "outputs": [
    {
     "ename": "ImportError",
     "evalue": "cannot import name 'RagStateOutput' from 'src.graph.components.state' (/workspace/src/graph/components/state.py)",
     "output_type": "error",
     "traceback": [
      "\u001b[31m---------------------------------------------------------------------------\u001b[39m",
      "\u001b[31mImportError\u001b[39m                               Traceback (most recent call last)",
      "\u001b[36mCell\u001b[39m\u001b[36m \u001b[39m\u001b[32mIn[1]\u001b[39m\u001b[32m, line 11\u001b[39m\n\u001b[32m      8\u001b[39m \u001b[38;5;28;01mimport\u001b[39;00m\u001b[38;5;250m \u001b[39m\u001b[34;01msys\u001b[39;00m,\u001b[38;5;250m \u001b[39m\u001b[34;01msubprocess\u001b[39;00m,\u001b[38;5;250m \u001b[39m\u001b[34;01mjson\u001b[39;00m,\u001b[38;5;250m \u001b[39m\u001b[34;01masyncio\u001b[39;00m,\u001b[38;5;250m \u001b[39m\u001b[34;01mnest_asyncio\u001b[39;00m\n\u001b[32m      9\u001b[39m nest_asyncio.apply()\n\u001b[32m---> \u001b[39m\u001b[32m11\u001b[39m \u001b[38;5;28;01mimport\u001b[39;00m\u001b[38;5;250m \u001b[39m\u001b[34;01msrc\u001b[39;00m\u001b[34;01m.\u001b[39;00m\u001b[34;01mgraph\u001b[39;00m\u001b[34;01m.\u001b[39;00m\u001b[34;01mnaive_rag\u001b[39;00m\u001b[38;5;250m \u001b[39m\u001b[38;5;28;01mas\u001b[39;00m\u001b[38;5;250m \u001b[39m\u001b[34;01mnaive_rag_graph\u001b[39;00m\n\u001b[32m     12\u001b[39m \u001b[38;5;28;01mfrom\u001b[39;00m\u001b[38;5;250m \u001b[39m\u001b[34;01msrc\u001b[39;00m\u001b[34;01m.\u001b[39;00m\u001b[34;01mgraph\u001b[39;00m\u001b[34;01m.\u001b[39;00m\u001b[34;01mcomponents\u001b[39;00m\u001b[34;01m.\u001b[39;00m\u001b[34;01mconfiguration\u001b[39;00m\u001b[38;5;250m \u001b[39m\u001b[38;5;28;01mimport\u001b[39;00m Configuration\n\u001b[32m     14\u001b[39m \u001b[38;5;28;01mfrom\u001b[39;00m\u001b[38;5;250m \u001b[39m\u001b[34;01mlangchain_core\u001b[39;00m\u001b[34;01m.\u001b[39;00m\u001b[34;01mrunnables\u001b[39;00m\u001b[38;5;250m \u001b[39m\u001b[38;5;28;01mimport\u001b[39;00m RunnableConfig\n",
      "\u001b[36mFile \u001b[39m\u001b[32m/workspace/src/graph/naive_rag.py:18\u001b[39m\n\u001b[32m     15\u001b[39m \u001b[38;5;28;01mimport\u001b[39;00m\u001b[38;5;250m \u001b[39m\u001b[34;01mpandas\u001b[39;00m\u001b[38;5;250m \u001b[39m\u001b[38;5;28;01mas\u001b[39;00m\u001b[38;5;250m \u001b[39m\u001b[34;01mpd\u001b[39;00m\n\u001b[32m     16\u001b[39m \u001b[38;5;28;01mimport\u001b[39;00m\u001b[38;5;250m \u001b[39m\u001b[34;01mpathlib\u001b[39;00m\n\u001b[32m---> \u001b[39m\u001b[32m18\u001b[39m \u001b[38;5;28;01mfrom\u001b[39;00m\u001b[38;5;250m \u001b[39m\u001b[34;01m.\u001b[39;00m\u001b[34;01mcomponents\u001b[39;00m\u001b[34;01m.\u001b[39;00m\u001b[34;01mstate\u001b[39;00m\u001b[38;5;250m \u001b[39m\u001b[38;5;28;01mimport\u001b[39;00m RagStateInput, RagState, RagStateOutput\n\u001b[32m     19\u001b[39m \u001b[38;5;28;01mfrom\u001b[39;00m\u001b[38;5;250m \u001b[39m\u001b[34;01m.\u001b[39;00m\u001b[34;01mcomponents\u001b[39;00m\u001b[34;01m.\u001b[39;00m\u001b[34;01mconfiguration\u001b[39;00m\u001b[38;5;250m \u001b[39m\u001b[38;5;28;01mimport\u001b[39;00m Configuration\n\u001b[32m     20\u001b[39m \u001b[38;5;28;01mfrom\u001b[39;00m\u001b[38;5;250m \u001b[39m\u001b[34;01m.\u001b[39;00m\u001b[34;01mcomponents\u001b[39;00m\u001b[34;01m.\u001b[39;00m\u001b[34;01mllm_handlers\u001b[39;00m\u001b[38;5;250m \u001b[39m\u001b[38;5;28;01mimport\u001b[39;00m augment_context, generate_answers\n",
      "\u001b[31mImportError\u001b[39m: cannot import name 'RagStateOutput' from 'src.graph.components.state' (/workspace/src/graph/components/state.py)"
     ]
    }
   ],
   "source": [
    "# Imports & keys \n",
    "\n",
    "import os\n",
    "os.chdir(\"/workspace\")\n",
    "\n",
    "from pathlib import Path\n",
    "import json\n",
    "import sys, subprocess, json, asyncio, nest_asyncio\n",
    "nest_asyncio.apply()\n",
    "\n",
    "import src.graph.naive_rag as naive_rag_graph\n",
    "from src.graph.components.configuration import Configuration\n",
    "\n",
    "from langchain_core.runnables import RunnableConfig"
   ]
  },
  {
   "cell_type": "markdown",
   "metadata": {},
   "source": [
    "### Was macht die Pipeline?\n",
    "\n",
    "Die erste pipeline ist bewusst so einfach wie möglich aufgebaut: <br>\n",
    "<br>\n",
    "Frage → relevante Dokumente werden gesucht → LLM wird mit der Frage + relevanten Dokumente angereichert → LLM generiert Antwort. \n",
    "<br>\n",
    "Die genauen Funktionen (retrival + answer generation) sind `src/graph/naive_rag.py`.\n"
   ]
  },
  {
   "cell_type": "code",
   "execution_count": 26,
   "metadata": {},
   "outputs": [
    {
     "data": {
      "image/png": "[encoded data removed]",
      "text/plain": [
       "<langgraph.graph.state.CompiledStateGraph object at 0xffff711809d0>"
      ]
     },
     "execution_count": 26,
     "metadata": {},
     "output_type": "execute_result"
    }
   ],
   "source": [
    "naive_rag_graph.graph"
   ]
  },
  {
   "cell_type": "code",
   "execution_count": 4,
   "metadata": {},
   "outputs": [],
   "source": [
    "# graph configuration \n",
    "cfg = Configuration(\n",
    "    provider=\"anthropic\", # choose the provider \n",
    "    answer_gen_model=\"claude-3-5-haiku-20241022\", # choose the LLM gen model\n",
    "    temperature=0.5, # set the temperature\n",
    "    num_answers=3, # number of answers to generate \n",
    "    max_tokens=2048, # maximum tokens for the answer generation (keep it short for this test)\n",
    ")\n",
    "\n",
    "run_cfg = RunnableConfig(\n",
    "    configurable=cfg.model_dump()\n",
    "    )"
   ]
  },
  {
   "cell_type": "code",
   "execution_count": 5,
   "metadata": {},
   "outputs": [
    {
     "data": {
      "text/plain": [
       "{'question': 'welche neuen medikamente zur behandlung von psychosen gibt es und wie wirken diese?',\n",
       " 'context': [Document(id='a452a6ef-ebd0-4b60-a60d-4503b0d6d10e', metadata={'title': 'FDA lässt neuartiges Medikament zur Behandlung von Schizophrenie zu'}, page_content='„Zudem ist es prinzipiell gut, wenn Behandelnde aus einem breiten Spektrum an guten Medikamenten zur Behandlung der Patienten wählen können. Je nach Person und Krankheitsbild können unterschiedliche Medikamente besser passen. Dies ist seit einigen Jahrzehnten der erste neue Ansatz für ein Schizophrenie-Medikament mit einer offenbar guten Wirksamkeit und anderen Nebenwirkungen. Ob KarXT die bisherigen Medikamente ablösen könnte, wissen wir noch nicht, dafür braucht es die entsprechenden Studien. Ein'),\n",
       "  Document(id='3cab0201-0ca6-43ee-931b-94de1be567d1', metadata={'title': 'FDA lässt neuartiges Medikament zur Behandlung von Schizophrenie zu'}, page_content='„Obwohl die Schizophrenie eine der sozioökonomisch teuersten Erkrankung mit einer Lebenszeitreduktion von mehr als 15 Jahren und einer massiven Einschränkung der Lebensqualität ist, findet leider nur wenig innovative Arzneiforschung statt. Erfreulicherweise ändert sich das im Moment. Andere vielversprechende Medikamente sind auf jeden Fall Emraclidin, welches als positiv allosterischer Modulator am M4-Rezeptor wirkt und einen vergleichbaren Ansatz wie KarXT aufweist. Hier hat die Firma AbbVie die'),\n",
       "  Document(id='579fcd3c-1685-46f4-af94-9bbae7388197', metadata={'title': 'FDA lässt neuartiges Medikament zur Behandlung von Schizophrenie zu'}, page_content='folgt. Ich sehe aufgrund des beschriebenen Wirkmechanismus insbesondere die Anwendung bei Menschen mit akuten psychotischen Erkrankungen, Positiv-Symptomen und in frühen Phasen der Erkrankung. Eine besondere Wirksamkeit auf Negativ-Symptome oder kognitive Symptome ist im Moment nicht absehbar. Dennoch gibt der Wirkmechanismus Hoffnung auf eine Wirkung auf Negativ-Symptome – dies müssen aber zukünftige Studien zeigen.“'),\n",
       "  Document(id='d4f334be-aa5d-4f71-abb7-815ff1deec97', metadata={'title': 'FDA lässt neuartiges Medikament zur Behandlung von Schizophrenie zu'}, page_content='„Ich schätze das Potenzial als extrem hoch ein, da wir erstmals seit mehreren Jahrzehnten einen wirklichen Durchbruch in der Pharmakotherapie der Schizophrenie haben. Das Konzept, die muskarinergen Rezeptoren als Target zu verwenden, ist per se nicht neu, aber die aktuelle Formulierung mit Trospium zur Reduktion der peripheren Nebenwirkungen scheint den Durchbruch ermöglicht zu haben. Die Substanz ist die erste, die nicht dem Konzept der Dopamin-Hypothese zur Behandlung der Schizophrenie folgt. Ich sehe'),\n",
       "  Document(id='6d38fd9a-d9b2-44f7-b1a4-f0ab593efdc7', metadata={'title': 'FDA lässt neuartiges Medikament zur Behandlung von Schizophrenie zu'}, page_content='Die amerikanische Arzneimittelbehörde FDA hat in der Nacht vom 26.09.2024 auf den 27.09.2024 das neuartige Medikament KarXT (Markenname Cobenfy) zur Behandlung von Schizophrenie zugelassen https://www.fda.gov/news-events/press-announcements/fda-approves-drug-new-mechanism-action-treatment-schizophrenia[I]. Die bisherigen Antipsychotika zielen mit ihrer Wirkung direkt auf den Botenstoff Dopamin ab, der im Körper etwa für das Belohnungssystem oder auch Bewegung, zuständig ist. Nebenwirkungen sind'),\n",
       "  Document(id='b6c83a50-eceb-4e56-8d8e-8e523a8b4883', metadata={'title': 'FDA lässt neuartiges Medikament zur Behandlung von Schizophrenie zu'}, page_content='wo die verfügbaren Antipsychotika nicht zufriedenstellend anwendbar sind. Ein Nachteil könnte der fehlende D2-Antagonismus sein – man könnte annehmen, dass die Wirksamkeit in der klinischen Realität vielleicht doch geringer ist als bei den Antipsychotika mit dieser Eigenschaft. Auch gehe ich davon aus, dass BMS (Bristol Myers Squibb; Pharmaunternehmen, das das Medikament vertreibt; Anm. d. Red.) einen sehr hohen Preis für die Substanz abrufen wird und dadurch die Reichweite reduziert sein könnte. Auch'),\n",
       "  Document(id='db09f2c5-9266-4207-bdce-c659e0f4d2d9', metadata={'title': 'FDA lässt neuartiges Medikament zur Behandlung von Schizophrenie zu'}, page_content='„Das Medikament KarXT ist meiner Einschätzung nach eine Möglichkeit, die Therapie von Psychosen und Schizophrenie für wenigstens einige Patient:innen zu revolutionieren. Das liegt an dem besonderen Wirkmechanismus von Xanomelin, einem M1/M4 muscarinergen Agonisten, der mit Trospium, einem peripher beschränkten Anticholiergikum kombiniert ist und über die Wirkung auf Muskarinrezeptoren indirekt die präsynaptische Dopaminausschüttung reduziert. Bisherige Antipsychotika blockieren postsynaptische'),\n",
       "  Document(id='279a41bf-532a-45b7-85e6-9453cbf59035', metadata={'title': 'FDA lässt neuartiges Medikament zur Behandlung von Schizophrenie zu'}, page_content='Studien. Ein weiteres Medikament zur Behandlung von Schizophrenie, das ebenfalls vielversprechend aussieht, ist Emraclidine, welches auch auf dem muskarinergen Wirkmechanismus basiert.“'),\n",
       "  Document(id='4cd99bd8-1bb6-427b-84ce-e010c62193a6', metadata={'title': 'FDA lässt neuartiges Medikament zur Behandlung von Schizophrenie zu'}, page_content='Auf die Frage, inwiefern KarXT besser als bisherige Medikamente sei und diese ablösen könnte:<br/>„Besser und schlechter sind keine guten Begriffe in der Pharmakotherapie und in der Medizin insgesamt. KarXT ist anders, mit Vorteilen in Bezug auf die Verträglichkeit und auf den neuen Wirkmechanismus. Eine Ablösung anderer Antipsychotika sehe ich aber in keinem Fall. Es wäre eine sehr sinnvolle Ergänzung insbesondere für frühe Therapieverläufe und auch für therapieresistente Verläufe, wo verschiedene'),\n",
       "  Document(id='dea0a398-5a6e-45ce-acfb-88c2eef06121', metadata={'title': 'FDA lässt neuartiges Medikament zur Behandlung von Schizophrenie zu'}, page_content='„Das Medikament KarXT ist eine wichtige Innovation in der pharmakologischen Behandlung von Schizophrenie und öffnet die Tür für weitere Medikamente dieser Substanzklasse. Seit vielen Jahrzehnten gab es auf diesem Forschungsfeld keinen neuen Medikamentenansatz, die letzte spürbare Verbesserung war damals die durch die Dopamin-Agonisten. KarXT wirkt zwar auch auf Dopamin, allerdings indirekt. Xanomelin sorgt für eine Aktivierung der Muskarinrezeptoren M1 und M4 und Trospium verhindert diese Aktivierung im')],\n",
       " 'answers': ['Basierend auf den Kontextinformationen gibt es zwei vielversprechende neue Medikamente zur Behandlung von Psychosen:\\n\\n1. KarXT (Cobenfy):\\n- Neuartiger Wirkmechanismus mit zwei Komponenten:\\n  - Xanomelin: M1/M4 muskarinerger Agonist\\n  - Trospium: peripher beschränktes Anticholinergikum\\n- Wirkt indirekt auf Dopamin durch Aktivierung von Muskarinrezeptoren\\n- Unterscheidet sich von bisherigen Antipsychotika, die direkt postsynaptische Dopaminrezeptoren blockieren\\n- Potenzial für bessere Verträglichkeit und Einsatz bei therapieresistenten Verläufen\\n\\n2. Emraclidin:\\n- Wirkt als positiver allosterischer Modulator am M4-Rezeptor\\n- Ähnlicher Ansatz wie KarXT\\n- Entwickelt von AbbVie\\n\\nBeide Medikamente stellen einen bedeutenden Fortschritt dar, da sie erstmals seit Jahrzehnten einen neuen Behandlungsansatz für Schizophrenie und Psychosen bieten. Sie zielen auf Muskarinrezeptoren ab und könnten besonders in frühen Krankheitsphasen oder bei spezifischen Patientengruppen wirksam sein.',\n",
       "  'Basierend auf den Kontextinformationen können zwei vielversprechende neue Medikamente zur Behandlung von Psychosen und Schizophrenie hervorgehoben werden:\\n\\n1. KarXT (Cobenfy):\\nDas Medikament stellt einen bedeutenden Durchbruch in der Schizophrenie-Behandlung dar. Es funktioniert über einen neuartigen Wirkmechanismus, der sich von bisherigen Antipsychotika unterscheidet. KarXT besteht aus zwei Komponenten:\\n- Xanomelin: Ein M1/M4 muskarinerger Agonist\\n- Trospium: Ein peripher beschränktes Anticholinergikum\\n\\nDer innovative Ansatz liegt darin, dass KarXT über Muskarinrezeptoren indirekt die präsynaptische Dopaminausschüttung reduziert, im Gegensatz zu herkömmlichen Medikamenten, die postsynaptische Dopaminrezeptoren blockieren.\\n\\n2. Emraclidin:\\nDieses Medikament basiert ebenfalls auf einem muskarinergen Wirkmechanismus. Es wirkt als positiver allosterischer Modulator am M4-Rezeptor und zeigt einen ähnlichen Ansatz wie KarXT. Die Firma AbbVie entwickelt dieses Medikament, das als vielversprechend für die Psychosebehandlung gilt.\\n\\nBeide Medikamente eröffnen neue Perspektiven in der Schizophrenie-Therapie, insbesondere für Patienten mit akuten psychotischen Erkrankungen und in frühen Krankheitsphasen.',\n",
       "  'Basierend auf den Kontextinformationen gibt es zwei vielversprechende neue Medikamente zur Behandlung von Psychosen:\\n\\n1. KarXT (Cobenfy):\\n- Neuartiger Wirkmechanismus mit zwei Komponenten:\\n  - Xanomelin: M1/M4 muskarinerger Agonist\\n  - Trospium: peripher beschränktes Anticholinergikum\\n- Wirkt indirekt auf Dopamin durch Aktivierung von Muskarinrezeptoren\\n- Erstmals seit Jahrzehnten ein neuer Behandlungsansatz für Schizophrenie\\n- Von der FDA im September 2024 zugelassen\\n- Besonders geeignet für:\\n  - Akute psychotische Erkrankungen\\n  - Positiv-Symptome\\n  - Frühe Krankheitsphasen\\n\\n2. Emraclidin:\\n- Wirkt als positiver allosterischer Modulator am M4-Rezeptor\\n- Ähnlicher Ansatz wie KarXT\\n- Entwickelt von AbbVie\\n- Ebenfalls vielversprechend in der Behandlung von Psychosen\\n\\nBeide Medikamente zielen auf einen muskarinergen Wirkmechanismus ab und unterscheiden sich von traditionellen Antipsychotika, die direkt auf Dopamin wirken.']}"
      ]
     },
     "execution_count": 5,
     "metadata": {},
     "output_type": "execute_result"
    }
   ],
   "source": [
    "# run a test question\n",
    "query = \"welche neuen medikamente zur behandlung von psychosen gibt es und wie wirken diese?\"\n",
    "\n",
    "result = naive_rag_graph.graph.invoke(\n",
    "    {\"question\": query}, \n",
    "    config = run_cfg)\n",
    "\n",
    "result"
   ]
  },
  {
   "cell_type": "markdown",
   "metadata": {},
   "source": [
    "### Antworten für das gesamte Datenset erzeugen\n",
    "\n",
    "Für jede Frage generieren wir **drei** Antworten. Dadurch minimieren wir Zufallseffekte und machen die spätere Messung robuster.\n"
   ]
  },
  {
   "cell_type": "code",
   "execution_count": 7,
   "metadata": {},
   "outputs": [
    {
     "name": "stderr",
     "output_type": "stream",
     "text": [
      "Generating Answer for Question...: 100%|██████████| 50/50 [17:31<00:00, 21.04s/it]\n"
     ]
    }
   ],
   "source": [
    "import pandas as pd\n",
    "import time\n",
    "from tqdm import tqdm\n",
    "\n",
    "# load generated dataset\n",
    "synth_data = pd.read_csv(\"data/synthetic_qa_pairs/synthetic_qa_pairs_filtered.csv\")\n",
    "\n",
    "results = []\n",
    "\n",
    "# iterate through the questions and generate answers\n",
    "for idx in tqdm(range(len(synth_data)), desc=f\"Generating Answer for Question...\"):\n",
    "    question = synth_data.iloc[idx]['input']\n",
    "    \n",
    "    try:\n",
    "        # Run RAG pipeline\n",
    "        start_time = time.time()\n",
    "        result = naive_rag_graph.graph.invoke(\n",
    "            {\"question\": question}, \n",
    "            config=run_cfg\n",
    "        )\n",
    "        process_time = time.time() - start_time\n",
    "        \n",
    "        # Create base result dictionary\n",
    "        result_dict = {\n",
    "            'query_id': idx,\n",
    "            'question': question,\n",
    "            'gold_answer': synth_data.iloc[idx]['expected_output'],\n",
    "            'latency': process_time,\n",
    "            'context': [ctx.page_content for ctx in result['context']],\n",
    "            'word_count': sum(len(ctx.page_content.split()) for ctx in result['context']),\n",
    "        }\n",
    "        \n",
    "        # Add individual answers (if we generate more than 1)\n",
    "        for ans_idx, answer in enumerate(result['answers'], 1):\n",
    "            result_dict[f'answer_no_{ans_idx}'] = answer\n",
    "        \n",
    "        results.append(result_dict)\n",
    "        \n",
    "    except Exception as e:\n",
    "        print(f\"Error processing question {idx}: {str(e)}\")\n",
    "        continue"
   ]
  },
  {
   "cell_type": "code",
   "execution_count": 8,
   "metadata": {},
   "outputs": [
    {
     "name": "stdout",
     "output_type": "stream",
     "text": [
      "\n",
      "Results saved to results/simple_rag_res.json\n"
     ]
    }
   ],
   "source": [
    "# save final results\n",
    "output_path = Path('results/simple_rag_res.json')\n",
    "with open(output_path, 'w', encoding='utf-8') as f:\n",
    "    json.dump(results, f, ensure_ascii=False, indent=2)\n",
    "\n",
    "print(f\"\\nResults saved to {output_path}\")"
   ]
  },
  {
   "cell_type": "code",
   "execution_count": 38,
   "metadata": {},
   "outputs": [],
   "source": [
    "# load final results\n",
    "results = json.load(open(\"results/simple_rag_res.json\", encoding=\"utf-8\"))"
   ]
  },
  {
   "cell_type": "code",
   "execution_count": 22,
   "metadata": {},
   "outputs": [
    {
     "data": {
      "text/plain": [
       "{'query_id': 43,\n",
       " 'question': 'Wie wirken sich die steigenden Strompreise auf das Verbraucherverhalten aus, besonders wenn die Energieerzeugung niedrig ist?',\n",
       " 'gold_answer': 'Die steigenden Strompreise beeinflussen das Verbraucherverhalten nur geringfügig, da die hohen Börsenpreise für die meisten Haushalte nicht signifikant ins Gewicht fallen. In Phasen niedriger Energieerzeugung, wie während der Dunkelflaute, bleibt die Versorgungssicherheit dank ausreichend steuerbarer Kraftwerke gewährleistet. Daher ist vorsichtiger Umgang mit Eingriffen in den Strommarkt empfohlen, um unerwünschte Nebenwirkungen zu vermeiden.',\n",
       " 'latency': 18.4108989238739,\n",
       " 'context': ['Einfluss hoher Preise an der Strombörse in Schwachwindzeiten auf Verbraucherpreis:',\n",
       "  'Einfluss hoher Preise an der Strombörse in Schwachwindzeiten auf Verbraucherpreis:',\n",
       "  '„Für viele Gewerbe- und Industriekunden spielen die schwankenden Großhandelspreise eine größere Rolle als für Haushaltskunden. Da gibt es große Unterschiede je nach Art und Höhe des Verbrauchs, aber grundsätzlich gilt: Je höher der Verbrauch, desto stärker ist der Großhandelspreis relevant. Je nach Branche und Anlage gibt es sehr unterschiedliche Möglichkeiten, den Stromverbrauch in Hochpreisphasen herunterzufahren oder ihn in Niedrigpreisphasen zu erhöhen – eine allgemeingültige Einschätzung zum',\n",
       "  '„Für Haushalte mit intelligenten Zählern und zeitlich variablen ‚smarten‘ Stromtarifen sieht es anders aus: Hier können Hoch- und Niedrigpreisphasen am Spotmarkt deutlich auf die Stromrechnung durchschlagen. Ob das generell mehr ein Risiko oder mehr eine Chance darstellt, hängt von den technischen Möglichkeiten und der Motivation der Verbraucher*innen ab, ihren Strombezug tatsächlich zu verlagern. Vermutlich bieten sich vor allem solchen Verbraucher*innen deutliche Chancen, die große und einfach',\n",
       "  'Inwiefern sind hohe Preise in Schwachwindzeiten (bei wenig Sonnenstrom) sinnvoll – oder sollten sie besser vermieden werden?:',\n",
       "  'Inwiefern sind hohe Preise in Schwachwindzeiten (bei wenig Sonnenstrom) sinnvoll – oder sollten sie besser vermieden werden?:',\n",
       "  '„Ob der Strompreis nennenswert steigt, wenn Kohlekraftwerke stillgelegt werden, hängt unter anderem davon ab, wie viel erneuerbare Stromerzeugungsanlagen und verschiedene Typen von Kurz- und Langfristspeichern sowie gegebenenfalls gasbasierte Backup-Kraftwerke bis dahin entwickelt wurden. Außerdem hängt es von der Entwicklung der Brennstoff- und CO2-Preise ab. Je stärker diese steigen, desto weniger werden Kohlekraftwerke künftig überhaupt noch laufen, und desto geringer wird der Effekt auf die Marktpreise',\n",
       "  'werden deutlich weniger Stunden mit sehr hohen Strompreisen auftreten, insbesondere wenn in der Perspektive Erdgaskraftwerke zur Spitzenlastdeckung durch Wasserstoffkraftwerke abgelöst werden.“',\n",
       "  '„Für die allermeisten Haushaltskunden spielen kurzfristige Preisschwankungen am Großhandelsmarkt für Strom keine Rolle, da ihre Stromtarife (ct/kWh) zeitlich nicht schwanken, sondern in jeder Stunde gleich hoch sind. Der Stromlieferant beschafft einen großen Teil des Stroms üblicherweise längerfristig im Voraus an den Terminmärkten. Dort wird Strom für bestimmte Bänder (base oder peak load, Langfristangebote für bestimmte Verbrauchscharakteristika wie Grundlast oder Spitzenlast, Anm. d. Red.) gehandelt,',\n",
       "  '„Stromspeicher wirken genau in diese Richtung: Sie erhöhen die Preise in Niedrigpreisphasen – durch zusätzliche Nachfrage – und senken sie in Hochpreisphasen – durch Ausspeicherung. Insofern kann das Abbauen von Barrieren für die Realisierung von beispielsweise großen Batteriespeichern dazu beitragen, zumindest kurzzeitige Hochpreisphasen zu dämpfen. Das gleiche gilt auch für andere Arten von Speichern sowie andere angebots- und nachfrageseitige Flexibilitäten im Stromsektor wie flexible Lasten,'],\n",
       " 'word_count': 401,\n",
       " 'answer_no_1': 'Basierend auf den Kontextinformationen lässt sich die Auswirkung steigender Strompreise auf das Verbraucherverhalten wie folgt zusammenfassen:\\n\\nFür Haushaltskunden spielen kurzfristige Preisschwankungen an der Strombörse traditionell eine untergeordnete Rolle, da ihre Stromtarife in der Regel konstant bleiben. Allerdings gewinnen dynamische Stromtarife mit intelligenten Zählern zunehmend an Bedeutung. Bei solchen \"smarten\" Tarifen können Verbraucher von Hoch- und Niedrigpreisphasen profitieren, wenn sie ihren Stromverbrauch flexibel gestalten können.\\n\\nBesonders für Gewerbe- und Industriekunden werden Großhandelspreisschwankungen relevanter. Je nach Branche und Verbrauchsprofil können Unternehmen ihren Stromverbrauch in Hochpreisphasen reduzieren oder in Niedrigpreisphasen erhöhen. Die Motivation und technische Ausstattung zur Lastverschiebung wird dabei zum entscheidenden Faktor. Stromspeicher und flexible Verbrauchsstrategien können helfen, Preisschwankungen abzufedern und wirtschaftliche Vorteile zu generieren.',\n",
       " 'answer_no_2': 'Basierend auf den Kontextinformationen lässt sich die Auswirkung steigender Strompreise auf das Verbraucherverhalten wie folgt zusammenfassen:\\n\\nFür Haushaltskunden variieren die Auswirkungen je nach Tarifmodell und technischer Ausstattung. Bei traditionellen Stromtarifen mit festen Preisen spielen kurzfristige Großhandelsmarktschwankungen keine direkte Rolle. Anders sieht es bei intelligenten Zählern und variablen \"smarten\" Stromtarifen aus: Hier können Hoch- und Niedrigpreisphasen die Stromrechnung deutlich beeinflussen.\\n\\nFür Verbraucher mit technischen Möglichkeiten und Motivation entstehen Chancen, ihren Stromverbrauch zu verlagern. Besonders Haushalte mit flexiblen Verbrauchseinrichtungen können von zeitlich variablen Tarifen profitieren, indem sie Stromnutzung in günstigere Zeiten verschieben. Die Reaktionsfähigkeit hängt stark von individuellen technischen Voraussetzungen und der Bereitschaft zur Anpassung ab. Langfristig könnten Speichertechnologien und flexible Lastmanagementstrategien die Verbraucher dabei unterstützen, Stromkosten zu optimieren.',\n",
       " 'answer_no_3': 'Basierend auf den Kontextinformationen lässt sich die Auswirkung steigender Strompreise auf das Verbraucherverhalten wie folgt zusammenfassen:\\n\\nFür Haushaltskunden variieren die Auswirkungen je nach Tarifmodell erheblich. Die meisten Haushalte haben feste Stromtarife, bei denen kurzfristige Preisschwankungen an der Strombörse keine unmittelbare Rolle spielen. Stromlieferanten beschaffen Strom typischerweise langfristig im Voraus, wodurch Preisvolatilitäten abgefedert werden.\\n\\nInteressanter sind sogenannte \"smarte\" Stromtarife mit intelligenten Zählern, bei denen Verbraucher von Hoch- und Niedrigpreisphasen profitieren können. Hier eröffnen sich Chancen für Haushalte mit flexiblen technischen Möglichkeiten, ihren Stromverbrauch zeitlich zu verlagern. Besonders Verbraucher mit großen, verschibbaren Verbrauchern wie Wärmepumpen oder Elektroautos können von solchen variablen Tarifen potenziell wirtschaftlich profitieren. Die tatsächliche Nutzung hängt jedoch stark von der individuellen Motivation und technischen Ausstattung ab.'}"
      ]
     },
     "execution_count": 22,
     "metadata": {},
     "output_type": "execute_result"
    }
   ],
   "source": [
    "from random import randrange\n",
    "\n",
    "results[randrange(49)]"
   ]
  },
  {
   "cell_type": "markdown",
   "metadata": {},
   "source": [
    "### Bewertung der generierten Antworten\n",
    "<br>\n",
    "Unsere ´results´ beinhalten pro Eintrag:\n",
    "<br>\n",
    "• die synthetische Frage  <br>\n",
    "• die vom Retriever gefundenen Kontexte <br>\n",
    "• 3 generierte Antworten <br>\n",
    "<br>\n",
    "Im letzten Schritt bewerten wir jede generierte Antwort mit der **RAG Triade**: <br>\n",
    "<br>\n",
    "• **Contextual Relevancy** – Wie gut passt der Kontext zur Frage? <br>\n",
    "<br>\n",
    "• **Answer Relevancy** – Wie gut passt die Antwort zur Frage? <br>\n",
    "<br>\n",
    "• **Faithfulness** – Nutzt die Antwort nur Fakten aus dem Kontext? <br>\n",
    "<br>\n",
    "\n",
    "> Bei echten Projekten lohnt es sich, zusätzlich eigene Metriken (z. B. Quellenvielfalt, Aktualität, Formulierung, Länge usw.) zu definieren und zu automatisieren  \n",
    "> Die RAG Triade ist ein guter Startpunkt für ein Projekt, deckt aber meistens nicht alle Anforderungen und spezielle use-cases ab."
   ]
  },
  {
   "cell_type": "code",
   "execution_count": 23,
   "metadata": {},
   "outputs": [
    {
     "name": "stderr",
     "output_type": "stream",
     "text": [
      "Scoring answers: 100%|██████████| 50/50 [08:27<00:00, 10.16s/it]\n"
     ]
    }
   ],
   "source": [
    "from src.utils.evals import rate_dataset \n",
    "\n",
    "# evaluation\n",
    "rated_results = asyncio.run(rate_dataset(results, model=\"gpt-4o-mini\", max_concurrency=5))"
   ]
  },
  {
   "cell_type": "code",
   "execution_count": 24,
   "metadata": {},
   "outputs": [
    {
     "name": "stdout",
     "output_type": "stream",
     "text": [
      "\n",
      "Results saved to results/simple_rag_res_rated.json\n"
     ]
    }
   ],
   "source": [
    "# save evaluated results\n",
    "output_path = Path('results/simple_rag_res_rated.json')\n",
    "with open(output_path, 'w', encoding='utf-8') as f:\n",
    "    json.dump(results, f, ensure_ascii=False, indent=2)\n",
    "\n",
    "print(f\"\\nResults saved to {output_path}\")"
   ]
  },
  {
   "cell_type": "code",
   "execution_count": null,
   "metadata": {},
   "outputs": [],
   "source": []
  }
 ],
 "metadata": {
  "kernelspec": {
   "display_name": "Python 3",
   "language": "python",
   "name": "python3"
  },
  "language_info": {
   "codemirror_mode": {
    "name": "ipython",
    "version": 3
   },
   "file_extension": ".py",
   "mimetype": "text/x-python",
   "name": "python",
   "nbconvert_exporter": "python",
   "pygments_lexer": "ipython3",
   "version": "3.11.11"
  }
 },
 "nbformat": 4,
 "nbformat_minor": 2
}
