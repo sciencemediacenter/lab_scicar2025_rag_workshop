{
 "cells": [
  {
   "cell_type": "markdown",
   "metadata": {},
   "source": [
    "## Experiment 1 - Naives RAG System\n",
    "\n",
    "Jetzt, wo wir einen **Vectorstore** (unsere knowledge base) und synthetischen QA Paare haben, können wir unser naives RAG System über die Fragen laufen, Antworten generieren und diese bewerten lassen. <br>\n",
    "<br>\n",
    "• Schritt 1: **Naive RAG pipeline aufsetzen**: Zunächst erstellen wir eine RAG pipeline.<br>\n",
    "<br>\n",
    "• Schritt 2: **Antworten generieren**: Fragen werden durch das System geschickt.<br>\n",
    "<br>\n",
    "• Schritt 3: **Performance messen**: Die generierten Antworten mit den 3 Metriken der *RAG Triade* bewertet.<br>\n",
    "<br>"
   ]
  },
  {
   "cell_type": "code",
   "execution_count": 28,
   "metadata": {},
   "outputs": [],
   "source": [
    "# Imports & keys \n",
    "\n",
    "import os\n",
    "os.chdir(\"/workspace\")\n",
    "\n",
    "from pathlib import Path\n",
    "import json\n",
    "import sys, subprocess, json, asyncio, nest_asyncio\n",
    "nest_asyncio.apply()\n",
    "\n",
    "import src.graph.naive_rag as naive_rag_graph\n",
    "from src.graph.components.configuration import Configuration\n",
    "\n",
    "from langchain_core.runnables import RunnableConfig"
   ]
  },
  {
   "cell_type": "markdown",
   "metadata": {},
   "source": [
    "### Was macht die Pipeline?\n",
    "\n",
    "Die erste pipeline ist bewusst so einfach wie möglich aufgebaut: <br>\n",
    "<br>\n",
    "Frage → relevante Dokumente werden gesucht → LLM wird mit der Frage + relevanten Dokumente angereichert → LLM generiert Antwort. \n",
    "<br>\n",
    "Die genauen Funktionen (retrival + answer generation) sind `src/graph/naive_rag.py`.<br>"
   ]
  },
  {
   "cell_type": "code",
   "execution_count": 29,
   "metadata": {},
   "outputs": [
    {
     "data": {
      "image/png": "[encoded data removed]",
      "text/plain": [
       "<langgraph.graph.state.CompiledStateGraph object at 0xffff7082fa50>"
      ]
     },
     "execution_count": 29,
     "metadata": {},
     "output_type": "execute_result"
    }
   ],
   "source": [
    "naive_rag_graph.graph"
   ]
  },
  {
   "cell_type": "code",
   "execution_count": 30,
   "metadata": {},
   "outputs": [],
   "source": [
    "# graph configuration \n",
    "cfg = Configuration(\n",
    "    provider=\"anthropic\", # choose the provider \n",
    "    answer_gen_model=\"claude-3-5-haiku-20241022\", # choose the LLM gen model\n",
    "    top_k=10, # number of top document chunks to retrieve\n",
    "    num_answers=3, # number of answers to generate \n",
    ")\n",
    "\n",
    "run_cfg = RunnableConfig(\n",
    "    configurable=cfg.model_dump()\n",
    "    )"
   ]
  },
  {
   "cell_type": "code",
   "execution_count": 31,
   "metadata": {},
   "outputs": [],
   "source": [
    "# run a test question\n",
    "query = \"welche neuen medikamente zur behandlung von psychosen gibt es und wie wirken diese?\"\n",
    "\n",
    "result = naive_rag_graph.graph.invoke(\n",
    "    {\"question\": query}, \n",
    "    config = run_cfg)\n",
    "\n",
    "#result"
   ]
  },
  {
   "cell_type": "code",
   "execution_count": 32,
   "metadata": {},
   "outputs": [
    {
     "name": "stdout",
     "output_type": "stream",
     "text": [
      "Frage: \n",
      "welche neuen medikamente zur behandlung von psychosen gibt es und wie wirken diese?\n",
      "--------------------------------------------------\n",
      "\n",
      "Context No. 1:\n",
      "Title: FDA lässt neuartiges Medikament zur Behandlung von Schizophrenie zu\n",
      "Doc ID: a452a6ef-ebd0-4b60-a60d-4503b0d6d10e\n",
      "Text:\n",
      "„Zudem ist es prinzipiell gut, wenn Behandelnde aus einem breiten Spektrum an guten Medikamenten zur Behandlung der Patienten wählen können. Je nach Person und Krankheitsbild können unterschiedliche Medikamente besser passen. Dies ist seit einigen Jahrzehnten der erste neue Ansatz für ein Schizophrenie-Medikament mit einer offenbar guten Wirksamkeit und anderen Nebenwirkungen. Ob KarXT die bisheri...\n",
      "\n",
      "Context No. 2:\n",
      "Title: FDA lässt neuartiges Medikament zur Behandlung von Schizophrenie zu\n",
      "Doc ID: 3cab0201-0ca6-43ee-931b-94de1be567d1\n",
      "Text:\n",
      "„Obwohl die Schizophrenie eine der sozioökonomisch teuersten Erkrankung mit einer Lebenszeitreduktion von mehr als 15 Jahren und einer massiven Einschränkung der Lebensqualität ist, findet leider nur wenig innovative Arzneiforschung statt. Erfreulicherweise ändert sich das im Moment. Andere vielversprechende Medikamente sind auf jeden Fall Emraclidin, welches als positiv allosterischer Modulator a...\n",
      "\n",
      "Context No. 3:\n",
      "Title: FDA lässt neuartiges Medikament zur Behandlung von Schizophrenie zu\n",
      "Doc ID: 579fcd3c-1685-46f4-af94-9bbae7388197\n",
      "Text:\n",
      "folgt. Ich sehe aufgrund des beschriebenen Wirkmechanismus insbesondere die Anwendung bei Menschen mit akuten psychotischen Erkrankungen, Positiv-Symptomen und in frühen Phasen der Erkrankung. Eine besondere Wirksamkeit auf Negativ-Symptome oder kognitive Symptome ist im Moment nicht absehbar. Dennoch gibt der Wirkmechanismus Hoffnung auf eine Wirkung auf Negativ-Symptome – dies müssen aber zukünf...\n",
      "--------------------------------------------------\n",
      "\n",
      "Answer No. 1\n",
      "Answer: Basierend auf den Kontextinformationen gibt es zwei vielversprechende neue Medikamente zur Behandlung von Psychosen:\n",
      "\n",
      "1. KarXT (Cobenfy):\n",
      "Das Medikament stellt einen bedeutenden Durchbruch in der Behandlung von Schizophrenie dar. Es unterscheidet sich von bisherigen Antipsychotika durch seinen neuartigen Wirkmechanismus. KarXT besteht aus zwei Komponenten:\n",
      "- Xanomelin: Ein M1/M4 muskarinerger Agonist\n",
      "- Trospium: Ein peripher beschränktes Anticholinergikum\n",
      "\n",
      "Der Wirkmechanismus basiert auf der Aktivierung von Muskarinrezeptoren, wodurch die präsynaptische Dopaminausschüttung indirekt reduziert wird. Im Gegensatz zu traditionellen Antipsychotika, die postsynaptische Dopaminrezeptoren blockieren.\n",
      "\n",
      "2. Emraclidin:\n",
      "Dieses Medikament wird als weiterer vielversprechender Ansatz bezeichnet. Es wirkt als positiver allosterischer Modulator am M4-Rezeptor und weist einen ähnlichen Ansatz wie KarXT auf. Die Firma AbbVie ist an der Entwicklung beteiligt.\n",
      "\n",
      "Beide Medikamente eröffnen neue Perspektiven in der Behandlung von Psychosen, insbesondere für Patienten mit akuten psychotischen Erkrankungen und in frühen Krankheitsphasen.\n",
      "\n",
      "Answer No. 2\n",
      "Answer: Basierend auf den Kontextinformationen gibt es zwei vielversprechende neue Medikamente zur Behandlung von Psychosen:\n",
      "\n",
      "1. KarXT (Cobenfy):\n",
      "Das Medikament stellt einen bedeutenden Durchbruch in der Behandlung von Schizophrenie dar. Es wirkt über einen neuartigen Mechanismus, der sich von bisherigen Antipsychotika unterscheidet. KarXT besteht aus zwei Komponenten:\n",
      "- Xanomelin: Ein M1/M4 muskarinerger Agonist\n",
      "- Trospium: Ein peripher beschränktes Anticholinergikum\n",
      "\n",
      "Der Wirkmechanismus zielt auf Muskarinrezeptoren ab und reduziert indirekt die präsynaptische Dopaminausschüttung, im Gegensatz zu herkömmlichen Antipsychotika, die postsynaptische Dopaminrezeptoren blockieren.\n",
      "\n",
      "2. Emraclidin:\n",
      "Dieses Medikament von AbbVie wirkt als positiver allosterischer Modulator am M4-Rezeptor und verfolgt einen ähnlichen Ansatz wie KarXT. Es wird als weiteres vielversprechendes Medikament für die Behandlung von Psychosen angesehen. Beide Medikamente eröffnen neue Perspektiven in der Pharmakotherapie von Schizophrenie, insbesondere für Patienten mit akuten psychotischen Erkrankungen und Positiv-Symptomen.\n",
      "\n",
      "Answer No. 3\n",
      "Answer: Basierend auf den Kontextinformationen gibt es zwei vielversprechende neue Medikamente zur Behandlung von Psychosen:\n",
      "\n",
      "1. KarXT (Cobenfy):\n",
      "Das Medikament stellt einen bedeutenden Durchbruch in der Behandlung von Schizophrenie dar. Es unterscheidet sich von bisherigen Antipsychotika durch seinen neuartigen Wirkmechanismus. KarXT besteht aus zwei Komponenten:\n",
      "- Xanomelin: Ein M1/M4 muskarinerger Agonist\n",
      "- Trospium: Ein peripher beschränktes Anticholinergikum\n",
      "\n",
      "Der Wirkmechanismus basiert auf der Aktivierung von Muskarinrezeptoren, wodurch die präsynaptische Dopaminausschüttung indirekt reduziert wird. Im Gegensatz zu traditionellen Antipsychotika, die postsynaptische Dopaminrezeptoren blockieren.\n",
      "\n",
      "2. Emraclidin:\n",
      "Dieses Medikament wird als weiterer vielversprechender Ansatz bezeichnet. Es wirkt als positiver allosterischer Modulator am M4-Rezeptor und weist einen ähnlichen Ansatz wie KarXT auf. Die Firma AbbVie ist an der Entwicklung beteiligt.\n",
      "\n",
      "Beide Medikamente eröffnen neue Perspektiven in der Behandlung von Psychosen, insbesondere für Patienten mit akuten psychotischen Erkrankungen und in frühen Krankheitsphasen.\n"
     ]
    }
   ],
   "source": [
    "# question\n",
    "print(f\"Frage: \\n{result['question']}\")\n",
    "print(\"-----\"*10)\n",
    "# context\n",
    "for i, doc in enumerate(result[\"context\"][:3], start=1):\n",
    "    print(f\"\\nContext No. {i}:\")\n",
    "    print(f\"Title: {doc.metadata.get('title')}\")\n",
    "    print(f\"Doc ID: {doc.id}\")\n",
    "    print(f\"Text:\\n{doc.page_content[:400]}...\")  \n",
    "print(\"-----\"*10)\n",
    "# answer\n",
    "for i, doc in enumerate(result[\"answers\"], start=1):\n",
    "    print(f\"\\nAnswer No. {i}\")\n",
    "    print(f\"Answer: {doc}\")\n"
   ]
  },
  {
   "cell_type": "markdown",
   "metadata": {},
   "source": [
    "### Antworten für das gesamte Datenset erzeugen\n",
    "\n",
    "Für jede Frage generieren wir **drei** Antworten. Dadurch minimieren wir Zufallseffekte und machen die spätere Messung robuster.\n"
   ]
  },
  {
   "cell_type": "code",
   "execution_count": 7,
   "metadata": {},
   "outputs": [
    {
     "name": "stderr",
     "output_type": "stream",
     "text": [
      "Generating Answer for Question...: 100%|██████████| 50/50 [17:31<00:00, 21.04s/it]\n"
     ]
    }
   ],
   "source": [
    "import pandas as pd\n",
    "import time\n",
    "from tqdm import tqdm\n",
    "\n",
    "# load generated dataset\n",
    "synth_data = pd.read_csv(\"data/synthetic_qa_pairs/synthetic_qa_pairs_filtered.csv\")\n",
    "\n",
    "results = []\n",
    "\n",
    "# iterate through the questions and generate answers\n",
    "for idx in tqdm(range(len(synth_data)), desc=f\"Generating Answer for Question...\"):\n",
    "    question = synth_data.iloc[idx]['input']\n",
    "    \n",
    "    try:\n",
    "        # Run RAG pipeline\n",
    "        start_time = time.time()\n",
    "        result = naive_rag_graph.graph.invoke(\n",
    "            {\"question\": question}, \n",
    "            config=run_cfg\n",
    "        )\n",
    "        process_time = time.time() - start_time\n",
    "        \n",
    "        # Create base result dictionary\n",
    "        result_dict = {\n",
    "            'query_id': idx, # the query ID\n",
    "            'question': question, # the query\n",
    "            'gold_answer': synth_data.iloc[idx]['expected_output'], # the gold answer (we don't need it, but you can use it for your own eval)\n",
    "            'latency': process_time, # processing time (how long does it take to get the answer?)\n",
    "            'context': [ctx.page_content for ctx in result['context']], # the retrieved context chunks\n",
    "        }\n",
    "        \n",
    "        # Add individual answers (if we generate more than 1)\n",
    "        for ans_idx, answer in enumerate(result['answers'], 1):\n",
    "            result_dict[f'answer_no_{ans_idx}'] = answer # each generated answer (in this case: 3)\n",
    "        \n",
    "        results.append(result_dict)\n",
    "        \n",
    "    except Exception as e:\n",
    "        print(f\"Error processing question {idx}: {str(e)}\")\n",
    "        continue\n",
    "\n",
    "# save final results\n",
    "output_path = Path('results/simple_rag_res.json')\n",
    "with open(output_path, 'w', encoding='utf-8') as f:\n",
    "    json.dump(results, f, ensure_ascii=False, indent=2)\n",
    "\n",
    "print(f\"\\nResults saved to {output_path}\")"
   ]
  },
  {
   "cell_type": "markdown",
   "metadata": {},
   "source": [
    "### Bewertung der generierten Antworten\n",
    "<br>\n",
    "Unsere `results` beinhalten pro Eintrag:\n",
    "<br>\n",
    "• die synthetische Frage  <br>\n",
    "• die vom Retriever gefundenen Kontexte <br>\n",
    "• 3 generierte Antworten <br>\n",
    "\n",
    "Im letzten Schritt bewerten wir jede generierte Antwort mit der **RAG Triade**: <br>\n",
    "\n",
    "• **Contextual Relevancy**: Wie gut passt der Kontext zur Frage? <br>\n",
    "\n",
    "• **Answer Relevancy**: Wie gut passt die Antwort zur Frage? <br>\n",
    "\n",
    "• **Faithfulness**: Nutzt die Antwort nur Fakten aus dem Kontext? <br>\n",
    "\n",
    "> Bei echten Projekten lohnt es sich, zusätzlich eigene Metriken (z. B. Quellenvielfalt, Aktualität, Formulierung, Länge usw.) zu definieren und zu automatisieren  \n",
    "> Die RAG Triade ist ein guter Startpunkt für ein Projekt, deckt aber meistens nicht alle Anforderungen und spezielle use-cases ab."
   ]
  },
  {
   "cell_type": "code",
   "execution_count": 23,
   "metadata": {},
   "outputs": [
    {
     "name": "stderr",
     "output_type": "stream",
     "text": [
      "Scoring answers: 100%|██████████| 50/50 [08:27<00:00, 10.16s/it]\n"
     ]
    }
   ],
   "source": [
    "from src.utils.evals import rate_dataset \n",
    "\n",
    "# load final results\n",
    "results = json.load(open(\"results/simple_rag_res.json\", encoding=\"utf-8\"))\n",
    "\n",
    "# evaluation\n",
    "rated_results = asyncio.run(rate_dataset(results, model=\"gpt-4o-mini\", max_concurrency=5))\n",
    "\n",
    "# save evaluated results\n",
    "output_path = Path('results/simple_rag_res_rated.json')\n",
    "with open(output_path, 'w', encoding='utf-8') as f:\n",
    "    json.dump(results, f, ensure_ascii=False, indent=2)\n",
    "\n",
    "print(f\"\\nResults saved to {output_path}\")"
   ]
  },
  {
   "cell_type": "code",
   "execution_count": null,
   "metadata": {},
   "outputs": [],
   "source": []
  }
 ],
 "metadata": {
  "kernelspec": {
   "display_name": "Python 3",
   "language": "python",
   "name": "python3"
  },
  "language_info": {
   "codemirror_mode": {
    "name": "ipython",
    "version": 3
   },
   "file_extension": ".py",
   "mimetype": "text/x-python",
   "name": "python",
   "nbconvert_exporter": "python",
   "pygments_lexer": "ipython3",
   "version": "3.11.11"
  }
 },
 "nbformat": 4,
 "nbformat_minor": 2
}
